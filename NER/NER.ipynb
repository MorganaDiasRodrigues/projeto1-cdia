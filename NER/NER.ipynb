{
 "cells": [
  {
   "cell_type": "code",
   "execution_count": 1,
   "metadata": {},
   "outputs": [
    {
     "name": "stderr",
     "output_type": "stream",
     "text": [
      "c:\\Users\\diasrodr\\Anaconda3\\envs\\webscrap\\lib\\site-packages\\tqdm\\auto.py:21: TqdmWarning: IProgress not found. Please update jupyter and ipywidgets. See https://ipywidgets.readthedocs.io/en/stable/user_install.html\n",
      "  from .autonotebook import tqdm as notebook_tqdm\n"
     ]
    }
   ],
   "source": [
    "import json\n",
    "import numpy as np\n",
    "import pandas as pd\n",
    "from sklearn.feature_extraction.text import TfidfVectorizer\n",
    "from transformers import AutoTokenizer, AutoModelForTokenClassification\n",
    "from transformers import pipeline"
   ]
  },
  {
   "cell_type": "code",
   "execution_count": 3,
   "metadata": {},
   "outputs": [],
   "source": [
    "trends = json.load(open(\"../trends-data/processed_trends.json\"))"
   ]
  },
  {
   "cell_type": "code",
   "execution_count": 4,
   "metadata": {},
   "outputs": [
    {
     "name": "stdout",
     "output_type": "stream",
     "text": [
      "[{'entity': 'B-PER', 'score': 0.9990139, 'index': 4, 'word': 'Wolfgang', 'start': 11, 'end': 19}, {'entity': 'B-LOC', 'score': 0.999645, 'index': 9, 'word': 'Berlin', 'start': 34, 'end': 40}]\n"
     ]
    }
   ],
   "source": [
    "tokenizer = AutoTokenizer.from_pretrained(\"dslim/bert-base-NER\")\n",
    "model = AutoModelForTokenClassification.from_pretrained(\"dslim/bert-base-NER\")\n",
    "\n",
    "nlp = pipeline(\"ner\", model=model, tokenizer=tokenizer)\n",
    "example = \"My name is Wolfgang and I live in Berlin\"\n",
    "\n",
    "ner_results = nlp(example)\n",
    "print(ner_results)"
   ]
  },
  {
   "cell_type": "code",
   "execution_count": 5,
   "metadata": {},
   "outputs": [
    {
     "data": {
      "text/plain": [
       "['Days until SpiderManAcrossTheSpiderVerse releases ',\n",
       " 'More explosive 2D FX I animated from the recent SpiderManAcrossTheSpiderVerse trailers Out very soon Spiderman2099 2DFX ',\n",
       " 'SonyPicturesUK So looking forward to this SpiderManAcrossTheSpiderVerse spiderverse',\n",
       " 'SpiderMan Across the SpiderVerse Trailer  SpidermanAcrossTheSpiderverse Spiderman Marvel Sony Trailer',\n",
       " 'When you have enough points to get the the Future Sense colllectors box for free Just pay shipping GFUEL SpiderMan SpiderManAcrossTheSpiderVerse GFuelEnergy GammaLabs ',\n",
       " 'SpiderManAcrossTheSpiderVerse will end on a great cliffhanger I was very satisfied after The Empire Strikes Back And hopefully This is our Empire Joaquim Dos Santos CoDirector ',\n",
       " 'deleted trailer shows new look at Ben Reilly aka the Scarlet Spider AcrossTheSpiderVerse SpiderManAcrossTheSpiderVerse SpiderVerse leak scarletspider benreilly itsv atsv intothespiderverse MilesMorales 3CFilmss SpiderLeaks ',\n",
       " 'PENI PARKER APPEAR IN ACROSS THE SPIDERVERSE but just not part in the Spider Society PeniParker PennyParker PenniParker  AcrossTheSpiderVerse SpiderMan SpiderManAcrossTheSpiderVerse SpiderVerse MilesMorales ',\n",
       " 'Hermione ISIS Spotify SpiderManAcrossTheSpiderVerse Danielle Disney Bad Bunny Harry Potter thicktrunktuesday Asians earlyrisersclub SuccessionHBO Thatcher Rodgers fyp BBCBreakfast  ',\n",
       " 'Hermione ISIS Spotify SpiderManAcrossTheSpiderVerse Danielle Disney Bad Bunny Harry Potter thicktrunktuesday Asians earlyrisersclub SuccessionHBO Thatcher Rodgers fyp BBCBreakfast  ',\n",
       " 'June is gonna be  Im gonna patiently wait for all the supposed comic book movie fatigue talk  SpiderManAcrossTheSpiderVerse Transformers TheFlash ',\n",
       " 'Hermione ISIS Spotify SpiderManAcrossTheSpiderVerse Danielle Disney Bad Bunny Harry Potter thicktrunktuesday Asians earlyrisersclub SuccessionHBO Thatcher Rodgers fyp BBCBreakfast  ',\n",
       " 'SpiderMan Across The SpiderVerse Inspired Graphics Card Bundle ZOTAC Gaming GeForce RTX AMP AIRO Amazon  ad SpiderManAcrossTheSpiderVerse SpiderMan ',\n",
       " 'Watch the final full trailer for SpiderManAcrossTheSpiderVerse  SpiderMan ',\n",
       " 'Hermione ISIS Spotify SpiderManAcrossTheSpiderVerse Danielle Disney Bad Bunny Harry Potter thicktrunktuesday Asians earlyrisersclub SuccessionHBO viral BBCBreakfast  TikTok ']"
      ]
     },
     "execution_count": 5,
     "metadata": {},
     "output_type": "execute_result"
    }
   ],
   "source": [
    "trends[list(trends.keys())[0]]"
   ]
  },
  {
   "cell_type": "code",
   "execution_count": 13,
   "metadata": {},
   "outputs": [],
   "source": [
    "treds_entities = []\n",
    "for trend_topic in list(trends.keys()):\n",
    "    for trend in trends[trend_topic]:\n",
    "        entities = nlp(trend)\n",
    "        for ent in entities:\n",
    "            treds_entities.append({\"trend\":trend_topic, \"word\":ent[\"word\"], \"entity\":ent[\"entity\"]})"
   ]
  },
  {
   "cell_type": "code",
   "execution_count": 25,
   "metadata": {},
   "outputs": [],
   "source": [
    "df = pd.DataFrame(treds_entities)#.groupby(\"trend\")[\"word\"].apply(set)\n",
    "df_for_pinterest = df[((df.entity == \"I-PER\") | (df.entity == \"B-PER\")) & ~(df.word.astype(str).str.startswith('#'))]\n",
    "# df_for_pinterest[\"pinterest\"] = df_for_pinterest.word + \" \" + df_for_pinterest.trend\n",
    "df_for_pinterest = df_for_pinterest.groupby(['trend'])['word'].apply(lambda x: x.value_counts().index[0]).reset_index()"
   ]
  },
  {
   "cell_type": "code",
   "execution_count": 26,
   "metadata": {},
   "outputs": [],
   "source": [
    "def drop_hashtag(x):\n",
    "    if x[0] == \"#\":\n",
    "        return x[1:]\n",
    "    else: return x\n",
    "\n",
    "df_for_pinterest[\"trend_without_hashtag\"] = df_for_pinterest.apply(lambda x: drop_hashtag(x.trend), axis=1)"
   ]
  },
  {
   "cell_type": "code",
   "execution_count": 29,
   "metadata": {},
   "outputs": [
    {
     "data": {
      "text/html": [
       "<div>\n",
       "<style scoped>\n",
       "    .dataframe tbody tr th:only-of-type {\n",
       "        vertical-align: middle;\n",
       "    }\n",
       "\n",
       "    .dataframe tbody tr th {\n",
       "        vertical-align: top;\n",
       "    }\n",
       "\n",
       "    .dataframe thead th {\n",
       "        text-align: right;\n",
       "    }\n",
       "</style>\n",
       "<table border=\"1\" class=\"dataframe\">\n",
       "  <thead>\n",
       "    <tr style=\"text-align: right;\">\n",
       "      <th></th>\n",
       "      <th>trend</th>\n",
       "      <th>word</th>\n",
       "      <th>trend_without_hashtag</th>\n",
       "      <th>pinterest_search</th>\n",
       "    </tr>\n",
       "  </thead>\n",
       "  <tbody>\n",
       "    <tr>\n",
       "      <th>0</th>\n",
       "      <td>#911LoneStar</td>\n",
       "      <td>Ta</td>\n",
       "      <td>911LoneStar</td>\n",
       "      <td>Ta 911LoneStar</td>\n",
       "    </tr>\n",
       "    <tr>\n",
       "      <th>1</th>\n",
       "      <td>#911onFOX</td>\n",
       "      <td>Buck</td>\n",
       "      <td>911onFOX</td>\n",
       "      <td>Buck 911onFOX</td>\n",
       "    </tr>\n",
       "    <tr>\n",
       "      <th>2</th>\n",
       "      <td>#AdamKutnerPowerPlay</td>\n",
       "      <td>Adam</td>\n",
       "      <td>AdamKutnerPowerPlay</td>\n",
       "      <td>Adam AdamKutnerPowerPlay</td>\n",
       "    </tr>\n",
       "    <tr>\n",
       "      <th>3</th>\n",
       "      <td>#AgustD_SUGA_Tour_in_LA</td>\n",
       "      <td>A</td>\n",
       "      <td>AgustD_SUGA_Tour_in_LA</td>\n",
       "      <td>A AgustD_SUGA_Tour_in_LA</td>\n",
       "    </tr>\n",
       "    <tr>\n",
       "      <th>4</th>\n",
       "      <td>#AllForCITY</td>\n",
       "      <td>Matt</td>\n",
       "      <td>AllForCITY</td>\n",
       "      <td>Matt AllForCITY</td>\n",
       "    </tr>\n",
       "    <tr>\n",
       "      <th>...</th>\n",
       "      <td>...</td>\n",
       "      <td>...</td>\n",
       "      <td>...</td>\n",
       "      <td>...</td>\n",
       "    </tr>\n",
       "    <tr>\n",
       "      <th>550</th>\n",
       "      <td>hanbin</td>\n",
       "      <td>De</td>\n",
       "      <td>hanbin</td>\n",
       "      <td>De hanbin</td>\n",
       "    </tr>\n",
       "    <tr>\n",
       "      <th>551</th>\n",
       "      <td>jack antonoff</td>\n",
       "      <td>Matt</td>\n",
       "      <td>jack antonoff</td>\n",
       "      <td>Matt jack antonoff</td>\n",
       "    </tr>\n",
       "    <tr>\n",
       "      <th>552</th>\n",
       "      <td>lorde</td>\n",
       "      <td>Sasha</td>\n",
       "      <td>lorde</td>\n",
       "      <td>Sasha lorde</td>\n",
       "    </tr>\n",
       "    <tr>\n",
       "      <th>553</th>\n",
       "      <td>luke hemmings</td>\n",
       "      <td>Luke</td>\n",
       "      <td>luke hemmings</td>\n",
       "      <td>Luke luke hemmings</td>\n",
       "    </tr>\n",
       "    <tr>\n",
       "      <th>554</th>\n",
       "      <td>ted turner</td>\n",
       "      <td>Turner</td>\n",
       "      <td>ted turner</td>\n",
       "      <td>Turner ted turner</td>\n",
       "    </tr>\n",
       "  </tbody>\n",
       "</table>\n",
       "<p>555 rows × 4 columns</p>\n",
       "</div>"
      ],
      "text/plain": [
       "                       trend    word   trend_without_hashtag  \\\n",
       "0               #911LoneStar      Ta             911LoneStar   \n",
       "1                  #911onFOX    Buck                911onFOX   \n",
       "2       #AdamKutnerPowerPlay    Adam     AdamKutnerPowerPlay   \n",
       "3    #AgustD_SUGA_Tour_in_LA       A  AgustD_SUGA_Tour_in_LA   \n",
       "4                #AllForCITY    Matt              AllForCITY   \n",
       "..                       ...     ...                     ...   \n",
       "550                   hanbin      De                  hanbin   \n",
       "551            jack antonoff    Matt           jack antonoff   \n",
       "552                    lorde   Sasha                   lorde   \n",
       "553            luke hemmings    Luke           luke hemmings   \n",
       "554               ted turner  Turner              ted turner   \n",
       "\n",
       "             pinterest_search  \n",
       "0              Ta 911LoneStar  \n",
       "1               Buck 911onFOX  \n",
       "2    Adam AdamKutnerPowerPlay  \n",
       "3    A AgustD_SUGA_Tour_in_LA  \n",
       "4             Matt AllForCITY  \n",
       "..                        ...  \n",
       "550                 De hanbin  \n",
       "551        Matt jack antonoff  \n",
       "552               Sasha lorde  \n",
       "553        Luke luke hemmings  \n",
       "554         Turner ted turner  \n",
       "\n",
       "[555 rows x 4 columns]"
      ]
     },
     "execution_count": 29,
     "metadata": {},
     "output_type": "execute_result"
    }
   ],
   "source": [
    "df_for_pinterest[\"pinterest_search\"] = df_for_pinterest[\"word\"] + \" \" + df_for_pinterest[\"trend_without_hashtag\"]\n",
    "df_for_pinterest"
   ]
  },
  {
   "cell_type": "code",
   "execution_count": null,
   "metadata": {},
   "outputs": [],
   "source": []
  }
 ],
 "metadata": {
  "kernelspec": {
   "display_name": "Python 3",
   "language": "python",
   "name": "python3"
  },
  "language_info": {
   "codemirror_mode": {
    "name": "ipython",
    "version": 3
   },
   "file_extension": ".py",
   "mimetype": "text/x-python",
   "name": "python",
   "nbconvert_exporter": "python",
   "pygments_lexer": "ipython3",
   "version": "3.9.16"
  },
  "orig_nbformat": 4
 },
 "nbformat": 4,
 "nbformat_minor": 2
}
