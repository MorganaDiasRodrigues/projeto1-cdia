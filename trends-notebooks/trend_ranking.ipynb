{
 "cells": [
  {
   "attachments": {},
   "cell_type": "markdown",
   "metadata": {},
   "source": [
    "### Imports"
   ]
  },
  {
   "cell_type": "code",
   "execution_count": 1,
   "metadata": {},
   "outputs": [],
   "source": [
    "import pandas as pd\n",
    "import numpy as np"
   ]
  },
  {
   "attachments": {},
   "cell_type": "markdown",
   "metadata": {},
   "source": [
    "## Ranking das Trends"
   ]
  },
  {
   "cell_type": "code",
   "execution_count": 2,
   "metadata": {},
   "outputs": [],
   "source": [
    "path = '../trends-data/trends.txt'"
   ]
  },
  {
   "cell_type": "code",
   "execution_count": null,
   "metadata": {},
   "outputs": [],
   "source": []
  },
  {
   "attachments": {},
   "cell_type": "markdown",
   "metadata": {},
   "source": [
    "### ."
   ]
  },
  {
   "cell_type": "code",
   "execution_count": null,
   "metadata": {},
   "outputs": [
    {
     "data": {
      "text/plain": [
       "[('08/05/2023 14:42:04', 2),\n",
       " ('08/05/2023 15:12:06', 3),\n",
       " ('08/05/2023 17:42:10', 3),\n",
       " ('08/05/2023 19:12:15', 7),\n",
       " ('08/05/2023 19:42:15', 7),\n",
       " ('08/05/2023 20:12:16', 2),\n",
       " ('08/05/2023 20:42:17', 2),\n",
       " ('08/05/2023 21:12:20', 15),\n",
       " ('08/05/2023 21:42:21', 2),\n",
       " ('08/05/2023 23:12:23', 3),\n",
       " ('08/05/2023 23:42:24', 20),\n",
       " ('09/05/2023 00:12:27', 14),\n",
       " ('09/05/2023 00:42:28', 17),\n",
       " ('09/05/2023 01:12:28', 20)]"
      ]
     },
     "metadata": {},
     "output_type": "display_data"
    }
   ],
   "source": [
    "# dict with trend name as key and tuple ( Date, Positiion) as value\n",
    "trends_time = {}\n",
    "trends_data = {}\n",
    "def create_dict_trends(trend, datas):\n",
    "\n",
    "    for i in range(len(trend)):\n",
    "        trends_data[datas[i]] = trend[i]\n",
    "\n",
    "    for i in list(trends_data.keys()):\n",
    "        for j in range(len(trends_data[i])):\n",
    "            if trends_data[i][j] not in trends_time.keys():\n",
    "                trends_time[trends_data[i][j]] = [(i, j+1)]\n",
    "            else:\n",
    "                trends_time[trends_data[i][j]].append((i, j+1))\n",
    "            # print(trends_data[i][j], \"   SPACE    \", (i, j+1))\n",
    "    # trends_time[\"Anaheim\"]\n",
    "    return trends_time, trends_data\n",
    "\n",
    "\n",
    "\n",
    "def get_trend_time(trend_name, trends_time):\n",
    "    \"\"\" Returns the time and position of the trend given as parameter \"\"\"\n",
    "\n",
    "    if trend_name not in trends_time.keys():\n",
    "        print(\"Trend not found\")\n",
    "        return None\n",
    "    return trends_time[trend_name]\n",
    "\n",
    "\n",
    "\n",
    "\n",
    "trends_time, trends_data = create_dict_trends(trend, datas)\n",
    "get_trend_time(\"Anaheim\", trends_time)"
   ]
  }
 ],
 "metadata": {
  "kernelspec": {
   "display_name": "ml",
   "language": "python",
   "name": "python3"
  },
  "language_info": {
   "codemirror_mode": {
    "name": "ipython",
    "version": 3
   },
   "file_extension": ".py",
   "mimetype": "text/x-python",
   "name": "python",
   "nbconvert_exporter": "python",
   "pygments_lexer": "ipython3",
   "version": "3.10.10"
  },
  "orig_nbformat": 4
 },
 "nbformat": 4,
 "nbformat_minor": 2
}
