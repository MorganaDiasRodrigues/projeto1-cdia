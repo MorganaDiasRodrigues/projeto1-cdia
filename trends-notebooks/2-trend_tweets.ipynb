{
 "cells": [
  {
   "attachments": {},
   "cell_type": "markdown",
   "metadata": {},
   "source": [
    "## Imports"
   ]
  },
  {
   "cell_type": "code",
   "execution_count": 4,
   "metadata": {},
   "outputs": [],
   "source": [
    "import pandas as pd\n",
    "import snscrape.modules.twitter as sntwitter\n",
    "import re"
   ]
  },
  {
   "attachments": {},
   "cell_type": "markdown",
   "metadata": {},
   "source": [
    "### Lendo e extraindo as trends"
   ]
  },
  {
   "cell_type": "code",
   "execution_count": 11,
   "metadata": {},
   "outputs": [],
   "source": [
    "path = '../trends-data/trends.txt'"
   ]
  },
  {
   "cell_type": "code",
   "execution_count": 22,
   "metadata": {},
   "outputs": [
    {
     "name": "stdout",
     "output_type": "stream",
     "text": [
      "Total de linhas: 1638\n",
      "['Date: 08/05/2023 14:42:04', 'URL: https://twitter.com/search?q=%23SpiderManAcrossTheSpiderVerse - Trend name: #SpiderManAcrossTheSpiderVerse', 'URL: https://twitter.com/search?q=Anaheim - Trend name: Anaheim']\n"
     ]
    }
   ],
   "source": [
    "trends = []\n",
    "\n",
    "with open(path) as f:\n",
    "    for line in f.readlines():\n",
    "        trends.append(str(line).rstrip())\n",
    "\n",
    "print(f'Total de linhas: {len(trends)}')\n",
    "print(trends[0:3])"
   ]
  },
  {
   "attachments": {},
   "cell_type": "markdown",
   "metadata": {},
   "source": [
    "### Extraindo as datas"
   ]
  },
  {
   "cell_type": "code",
   "execution_count": 23,
   "metadata": {},
   "outputs": [
    {
     "name": "stdout",
     "output_type": "stream",
     "text": [
      "Total de datas: 78\n",
      "['08/05/2023 14:42:04', '08/05/2023 15:12:06', '08/05/2023 15:42:07', '08/05/2023 16:12:08', '08/05/2023 16:42:09']\n"
     ]
    }
   ],
   "source": [
    "datas = []\n",
    "for i in range(0, len(trends), 21):\n",
    "    datas.append(str(trends[i]).replace(\"\\n\", \"\").replace(\"Date: \", \"\").rstrip())\n",
    "\n",
    "print(f'Total de datas: {len(datas)}')\n",
    "print(datas[0:5])"
   ]
  },
  {
   "attachments": {},
   "cell_type": "markdown",
   "metadata": {},
   "source": [
    "### Extraindo as URLs e Trend Names"
   ]
  },
  {
   "cell_type": "code",
   "execution_count": 25,
   "metadata": {},
   "outputs": [],
   "source": [
    "trends_urls = trends.copy()\n",
    "# trends_urls"
   ]
  },
  {
   "cell_type": "code",
   "execution_count": 26,
   "metadata": {},
   "outputs": [
    {
     "name": "stdout",
     "output_type": "stream",
     "text": [
      "Total de URLs/Trend Names: 1560\n",
      "['URL: https://twitter.com/search?q=%23SpiderManAcrossTheSpiderVerse - Trend name: #SpiderManAcrossTheSpiderVerse', 'URL: https://twitter.com/search?q=Anaheim - Trend name: Anaheim', 'URL: https://twitter.com/search?q=%23Mondaymorning - Trend name: #Mondaymorning', 'URL: https://twitter.com/search?q=Goku - Trend name: Goku', 'URL: https://twitter.com/search?q=Oppenheimer - Trend name: Oppenheimer']\n"
     ]
    }
   ],
   "source": [
    "for index, item in enumerate(trends_urls):\n",
    "    if str(item).startswith(\"D\"): # excluindo as datas\n",
    "        trends_urls.remove(trends_urls[index])\n",
    "\n",
    "print(f'Total de URLs/Trend Names: {len(trends_urls)}')\n",
    "print(trends_urls[0:5])"
   ]
  },
  {
   "attachments": {},
   "cell_type": "markdown",
   "metadata": {},
   "source": [
    "## Extraindo tweets das trends"
   ]
  },
  {
   "cell_type": "code",
   "execution_count": null,
   "metadata": {},
   "outputs": [],
   "source": [
    "# trends_existentes = []\n",
    "# trend_text = {}\n",
    "# limit = 15\n",
    "\n",
    "# for item in trends_urls:\n",
    "#     trend_name = re.search(\"Trend name: (.*)\", str(item)).group().replace(\"Trend name: \", '').rstrip()\n",
    "#     tweets = []\n",
    "#     print(\"Nome da Trend: \", trend_name)\n",
    "#     if trend_name not in trends_existentes:\n",
    "#         print(\"Adicionando trend...\")\n",
    "#         trends_existentes.append(trend_name)\n",
    "#         for tweet in sntwitter.TwitterSearchScraper(f'{trend_name} lang:en').get_items():\n",
    "#             if len(tweets) == limit:\n",
    "#                 print(\"15 tweets adicionados.\")\n",
    "#                 break\n",
    "#             else:\n",
    "#                 tweets.append([tweet.rawContent])\n",
    "#                 trend_text[trend_name] = tweets\n",
    "        "
   ]
  },
  {
   "attachments": {},
   "cell_type": "markdown",
   "metadata": {},
   "source": [
    "### Saving"
   ]
  },
  {
   "cell_type": "code",
   "execution_count": null,
   "metadata": {},
   "outputs": [],
   "source": [
    "# with open('trends/processed_trends.txt', 'a') as file:\n",
    "#      file.write(json.dumps(trend_text))"
   ]
  }
 ],
 "metadata": {
  "kernelspec": {
   "display_name": "Python 3.9.12 ('base')",
   "language": "python",
   "name": "python3"
  },
  "language_info": {
   "codemirror_mode": {
    "name": "ipython",
    "version": 3
   },
   "file_extension": ".py",
   "mimetype": "text/x-python",
   "name": "python",
   "nbconvert_exporter": "python",
   "pygments_lexer": "ipython3",
   "version": "3.9.16"
  },
  "orig_nbformat": 4,
  "vscode": {
   "interpreter": {
    "hash": "31616bd77f438d5ef22421473cb2a762521df33f56ae2beaa250da96edbd522d"
   }
  }
 },
 "nbformat": 4,
 "nbformat_minor": 2
}
