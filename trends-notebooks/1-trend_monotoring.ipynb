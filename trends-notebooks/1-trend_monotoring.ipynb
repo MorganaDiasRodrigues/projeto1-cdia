{
 "cells": [
  {
   "attachments": {},
   "cell_type": "markdown",
   "metadata": {},
   "source": [
    "### Imports"
   ]
  },
  {
   "cell_type": "code",
   "execution_count": 1,
   "metadata": {},
   "outputs": [],
   "source": [
    "import pandas as pd\n",
    "import snscrape.modules.twitter as sntwitter\n",
    "from datetime import datetime\n",
    "import time\n",
    "import re\n",
    "import urllib.parse"
   ]
  },
  {
   "attachments": {},
   "cell_type": "markdown",
   "metadata": {},
   "source": [
    "## Trend Topics"
   ]
  },
  {
   "cell_type": "code",
   "execution_count": 2,
   "metadata": {},
   "outputs": [],
   "source": [
    "def get_trend_topics(scheduler, time): \n",
    "    scheduler.enter(20, 1, get_trend_topics, (scheduler, time))\n",
    "    print(f\"Getting trend topics - TIME: {time}\")\n",
    "    for tweet in sntwitter.TwitterTrendsScraper().get_items():\n",
    "                print(tweet)"
   ]
  },
  {
   "cell_type": "code",
   "execution_count": 5,
   "metadata": {},
   "outputs": [
    {
     "name": "stdout",
     "output_type": "stream",
     "text": [
      "08/05/2023 14:06:40\n",
      "https://twitter.com/search?q=Oppenheimer\n",
      "Oppenheimer\n",
      "https://twitter.com/search?q=%23Mondayvibes\n",
      "#Mondayvibes\n",
      "https://twitter.com/search?q=Goku\n",
      "Goku\n",
      "https://twitter.com/search?q=%23SpiderManAcrossTheSpiderVerse\n",
      "#SpiderManAcrossTheSpiderVerse\n",
      "https://twitter.com/search?q=Krypto\n",
      "Krypto\n",
      "https://twitter.com/search?q=Seer\n",
      "Seer\n",
      "https://twitter.com/search?q=Fantilli\n",
      "Fantilli\n",
      "https://twitter.com/search?q=Anaheim\n",
      "Anaheim\n",
      "https://twitter.com/search?q=The%20Weeknd\n",
      "The Weeknd\n",
      "https://twitter.com/search?q=Joe%20Milton\n",
      "Joe Milton\n",
      "https://twitter.com/search?q=%23corpsetwtselfieday\n",
      "#corpsetwtselfieday\n",
      "https://twitter.com/search?q=Mythra\n",
      "Mythra\n",
      "https://twitter.com/search?q=%24DGAF\n",
      "$DGAF\n",
      "https://twitter.com/search?q=Sean%20Connery\n",
      "Sean Connery\n",
      "https://twitter.com/search?q=Weather%20Channel\n",
      "Weather Channel\n",
      "https://twitter.com/search?q=%23LGRW\n",
      "#LGRW\n",
      "https://twitter.com/search?q=Adderall\n",
      "Adderall\n",
      "https://twitter.com/search?q=%23COYB\n",
      "#COYB\n",
      "https://twitter.com/search?q=Bedard\n",
      "Bedard\n",
      "https://twitter.com/search?q=%23Mondaymorning\n",
      "#Mondaymorning\n"
     ]
    }
   ],
   "source": [
    "intervalo = 1800 #segundos\n",
    "tempo_monitorar = 12 #horas\n",
    "tempo_monitorar = tempo_monitorar * 3600\n",
    "\n",
    "with open(\"trends-080523.txt\", 'a') as f:\n",
    "    for i in range(int(tempo_monitorar/intervalo)):\n",
    "        print(datetime.now().strftime(\"%d/%m/%Y %H:%M:%S\"))\n",
    "        f.write(f\"Date: {datetime.now().strftime('%d/%m/%Y %H:%M:%S')} \\n\")\n",
    "        for tweet in sntwitter.TwitterTrendsScraper().get_items():\n",
    "            print(str(tweet))\n",
    "            regexado = re.search(\"q=.*\", str(tweet)).group().replace(\"q=\", '')\n",
    "            decodificado = urllib.parse.unquote(regexado)\n",
    "            print(decodificado)\n",
    "            f.write(f\"URL: {tweet} - Trend name: {decodificado} \\n\")\n",
    "\n",
    "\n",
    "        time.sleep(intervalo)"
   ]
  }
 ],
 "metadata": {
  "kernelspec": {
   "display_name": "webscrap",
   "language": "python",
   "name": "python3"
  },
  "language_info": {
   "codemirror_mode": {
    "name": "ipython",
    "version": 3
   },
   "file_extension": ".py",
   "mimetype": "text/x-python",
   "name": "python",
   "nbconvert_exporter": "python",
   "pygments_lexer": "ipython3",
   "version": "3.9.16"
  },
  "orig_nbformat": 4
 },
 "nbformat": 4,
 "nbformat_minor": 2
}
