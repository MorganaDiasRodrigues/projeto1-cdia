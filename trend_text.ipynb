{
 "cells": [
  {
   "attachments": {},
   "cell_type": "markdown",
   "metadata": {},
   "source": [
    "## Imports"
   ]
  },
  {
   "cell_type": "code",
   "execution_count": 1,
   "metadata": {},
   "outputs": [],
   "source": [
    "import pandas as pd\n",
    "import json\n",
    "# import snscrape.modules.twitter as sntwitter\n",
    "import re"
   ]
  },
  {
   "attachments": {},
   "cell_type": "markdown",
   "metadata": {},
   "source": [
    "### Lendo e extraindo as trends"
   ]
  },
  {
   "cell_type": "code",
   "execution_count": 8,
   "metadata": {},
   "outputs": [
    {
     "name": "stdout",
     "output_type": "stream",
     "text": [
      "Total de linhas: 1638\n"
     ]
    }
   ],
   "source": [
    "with open(f'trends/trends.txt') as f:\n",
    "    total_linhas = len(f.readlines())\n",
    "\n",
    "print(f'Total de linhas: {total_linhas}')"
   ]
  },
  {
   "cell_type": "code",
   "execution_count": 6,
   "metadata": {},
   "outputs": [
    {
     "name": "stdout",
     "output_type": "stream",
     "text": [
      "Total: 1638\n",
      "['Date: 08/05/2023 14:42:04', 'URL: https://twitter.com/search?q=%23SpiderManAcrossTheSpiderVerse - Trend name: #SpiderManAcrossTheSpiderVerse', 'URL: https://twitter.com/search?q=Anaheim - Trend name: Anaheim', 'URL: https://twitter.com/search?q=%23Mondaymorning - Trend name: #Mondaymorning', 'URL: https://twitter.com/search?q=Goku - Trend name: Goku']\n"
     ]
    }
   ],
   "source": [
    "trends = []\n",
    "\n",
    "with open(f'trends/trends.txt') as f:\n",
    "    for line in f.readlines():\n",
    "        trends.append(str(line).rstrip())\n",
    "\n",
    "print(f'Total: {len(trends)}')\n",
    "print(trends[0:5])"
   ]
  },
  {
   "attachments": {},
   "cell_type": "markdown",
   "metadata": {},
   "source": [
    "### Extraindo as datas"
   ]
  },
  {
   "cell_type": "code",
   "execution_count": 9,
   "metadata": {},
   "outputs": [
    {
     "name": "stdout",
     "output_type": "stream",
     "text": [
      "Total de datas: 78\n",
      "['08/05/2023 14:42:04', '08/05/2023 15:12:06', '08/05/2023 15:42:07', '08/05/2023 16:12:08', '08/05/2023 16:42:09']\n"
     ]
    }
   ],
   "source": [
    "datas = []\n",
    "for i in range(0, total_linhas, 21):\n",
    "    datas.append(str(trends[i]).replace(\"\\n\", \"\").replace(\"Date: \", \"\").rstrip())\n",
    "\n",
    "print(f'Total de datas: {len(datas)}')\n",
    "print(datas[0:5])"
   ]
  },
  {
   "attachments": {},
   "cell_type": "markdown",
   "metadata": {},
   "source": [
    "### Extraindo as URLs/Trend Names"
   ]
  },
  {
   "cell_type": "code",
   "execution_count": null,
   "metadata": {},
   "outputs": [],
   "source": [
    "trends_urls = trends.copy()\n",
    "trends_urls"
   ]
  },
  {
   "cell_type": "code",
   "execution_count": null,
   "metadata": {},
   "outputs": [],
   "source": [
    "for index, item in enumerate(trends_urls):\n",
    "    if str(item).startswith(\"D\"): # excluindo as datas\n",
    "        trends_urls.remove(trends_urls[index])\n",
    "\n",
    "print(f'Total de URLs/Trend Names: {len(trends_urls)}')\n",
    "print(trends_urls[0:5])"
   ]
  },
  {
   "attachments": {},
   "cell_type": "markdown",
   "metadata": {},
   "source": [
    "## Extraindo tweets das trends"
   ]
  },
  {
   "cell_type": "code",
   "execution_count": null,
   "metadata": {},
   "outputs": [],
   "source": [
    "# texto = trends_urls[0]\n",
    "# regexado = re.search(\"Trend name: (.*)\", str(texto)).group().replace(\"Trend name: \", '').rstrip()\n",
    "# regexado"
   ]
  },
  {
   "cell_type": "code",
   "execution_count": null,
   "metadata": {},
   "outputs": [],
   "source": [
    "# trends_existentes = []\n",
    "# trend_text = {}\n",
    "# limit = 15\n",
    "\n",
    "# for item in trends_urls:\n",
    "#     trend_name = re.search(\"Trend name: (.*)\", str(item)).group().replace(\"Trend name: \", '').rstrip()\n",
    "#     tweets = []\n",
    "#     print(\"Nome da Trend: \", trend_name)\n",
    "#     if trend_name not in trends_existentes:\n",
    "#         print(\"Adicionando trend...\")\n",
    "#         trends_existentes.append(trend_name)\n",
    "#         for tweet in sntwitter.TwitterSearchScraper(f'{trend_name} lang:en').get_items():\n",
    "#             if len(tweets) == limit:\n",
    "#                 print(\"15 tweets adicionados.\")\n",
    "#                 break\n",
    "#             else:\n",
    "#                 tweets.append([tweet.rawContent])\n",
    "#                 trend_text[trend_name] = tweets\n",
    "        "
   ]
  },
  {
   "cell_type": "code",
   "execution_count": null,
   "metadata": {},
   "outputs": [],
   "source": [
    "# len(trend_text.keys())"
   ]
  },
  {
   "attachments": {},
   "cell_type": "markdown",
   "metadata": {},
   "source": [
    "### Saving"
   ]
  },
  {
   "cell_type": "code",
   "execution_count": null,
   "metadata": {},
   "outputs": [],
   "source": [
    "# with open('trends/processed_trends.txt', 'a') as file:\n",
    "#      file.write(json.dumps(trend_text))"
   ]
  },
  {
   "attachments": {},
   "cell_type": "markdown",
   "metadata": {},
   "source": [
    "## Time Series das Trends"
   ]
  },
  {
   "cell_type": "code",
   "execution_count": null,
   "metadata": {},
   "outputs": [],
   "source": [
    "inicio = 0\n",
    "final = 20\n",
    "trend = []\n",
    "for item in trends_urls:\n",
    "    # print(trends_urls[inicio:final])\n",
    "    trend.append([re.search(\"Trend name: (.*)\", str(item)).group().replace(\"Trend name: \", '').rstrip() for item in trends_urls[inicio:final]])\n",
    "    inicio = final\n",
    "    final += 20\n",
    "    \n",
    "    print(\"PROCESSADA: \", trend)\n",
    "    if final == len(trends_urls):\n",
    "        trend.append([re.search(\"Trend name: (.*)\", str(item)).group().replace(\"Trend name: \", '').rstrip() for item in trends_urls[inicio:final]])\n",
    "        print(\"DEU\")\n",
    "        break"
   ]
  },
  {
   "cell_type": "markdown",
   "metadata": {},
   "source": [
    "## Cae"
   ]
  },
  {
   "cell_type": "code",
   "execution_count": 23,
   "metadata": {},
   "outputs": [
    {
     "data": {
      "text/plain": [
       "[('08/05/2023 14:42:04', 2),\n",
       " ('08/05/2023 15:12:06', 3),\n",
       " ('08/05/2023 17:42:10', 3),\n",
       " ('08/05/2023 19:12:15', 7),\n",
       " ('08/05/2023 19:42:15', 7),\n",
       " ('08/05/2023 20:12:16', 2),\n",
       " ('08/05/2023 20:42:17', 2),\n",
       " ('08/05/2023 21:12:20', 15),\n",
       " ('08/05/2023 21:42:21', 2),\n",
       " ('08/05/2023 23:12:23', 3),\n",
       " ('08/05/2023 23:42:24', 20),\n",
       " ('09/05/2023 00:12:27', 14),\n",
       " ('09/05/2023 00:42:28', 17),\n",
       " ('09/05/2023 01:12:28', 20)]"
      ]
     },
     "execution_count": 23,
     "metadata": {},
     "output_type": "execute_result"
    }
   ],
   "source": [
    "# dict with trend name as key and tuple ( Date, Positiion) as value\n",
    "trends_time = {}\n",
    "trends_data = {}\n",
    "def create_dict_trends(trend, datas):\n",
    "\n",
    "    for i in range(len(trend)):\n",
    "        trends_data[datas[i]] = trend[i]\n",
    "\n",
    "    for i in list(trends_data.keys()):\n",
    "        for j in range(len(trends_data[i])):\n",
    "            if trends_data[i][j] not in trends_time.keys():\n",
    "                trends_time[trends_data[i][j]] = [(i, j+1)]\n",
    "            else:\n",
    "                trends_time[trends_data[i][j]].append((i, j+1))\n",
    "            # print(trends_data[i][j], \"   SPACE    \", (i, j+1))\n",
    "    # trends_time[\"Anaheim\"]\n",
    "    return trends_time, trends_data\n",
    "\n",
    "\n",
    "\n",
    "def get_trend_time(trend_name, trends_time):\n",
    "    \"\"\" Returns the time and position of the trend given as parameter \"\"\"\n",
    "\n",
    "    if trend_name not in trends_time.keys():\n",
    "        print(\"Trend not found\")\n",
    "        return None\n",
    "    return trends_time[trend_name]\n",
    "\n",
    "\n",
    "\n",
    "\n",
    "trends_time, trends_data = create_dict_trends(trend, datas)\n",
    "get_trend_time(\"Anaheim\", trends_time)"
   ]
  },
  {
   "cell_type": "code",
   "execution_count": 26,
   "metadata": {},
   "outputs": [
    {
     "ename": "ValueError",
     "evalue": "All arrays must be of the same length",
     "output_type": "error",
     "traceback": [
      "\u001b[0;31m---------------------------------------------------------------------------\u001b[0m",
      "\u001b[0;31mValueError\u001b[0m                                Traceback (most recent call last)",
      "\u001b[1;32m/home/cae/projeto1-cdia/trend_text.ipynb Cell 21\u001b[0m in \u001b[0;36m<cell line: 1>\u001b[0;34m()\u001b[0m\n\u001b[0;32m----> <a href='vscode-notebook-cell:/home/cae/projeto1-cdia/trend_text.ipynb#X46sZmlsZQ%3D%3D?line=0'>1</a>\u001b[0m trends_df \u001b[39m=\u001b[39m pd\u001b[39m.\u001b[39;49mDataFrame\u001b[39m.\u001b[39;49mfrom_dict(trends_time)\n\u001b[1;32m      <a href='vscode-notebook-cell:/home/cae/projeto1-cdia/trend_text.ipynb#X46sZmlsZQ%3D%3D?line=1'>2</a>\u001b[0m trends_df\n",
      "File \u001b[0;32m~/anaconda3/lib/python3.9/site-packages/pandas/core/frame.py:1593\u001b[0m, in \u001b[0;36mDataFrame.from_dict\u001b[0;34m(cls, data, orient, dtype, columns)\u001b[0m\n\u001b[1;32m   1590\u001b[0m \u001b[39melse\u001b[39;00m:  \u001b[39m# pragma: no cover\u001b[39;00m\n\u001b[1;32m   1591\u001b[0m     \u001b[39mraise\u001b[39;00m \u001b[39mValueError\u001b[39;00m(\u001b[39m\"\u001b[39m\u001b[39monly recognize index or columns for orient\u001b[39m\u001b[39m\"\u001b[39m)\n\u001b[0;32m-> 1593\u001b[0m \u001b[39mreturn\u001b[39;00m \u001b[39mcls\u001b[39;49m(data, index\u001b[39m=\u001b[39;49mindex, columns\u001b[39m=\u001b[39;49mcolumns, dtype\u001b[39m=\u001b[39;49mdtype)\n",
      "File \u001b[0;32m~/anaconda3/lib/python3.9/site-packages/pandas/core/frame.py:614\u001b[0m, in \u001b[0;36mDataFrame.__init__\u001b[0;34m(self, data, index, columns, dtype, copy)\u001b[0m\n\u001b[1;32m    608\u001b[0m     mgr \u001b[39m=\u001b[39m \u001b[39mself\u001b[39m\u001b[39m.\u001b[39m_init_mgr(\n\u001b[1;32m    609\u001b[0m         data, axes\u001b[39m=\u001b[39m{\u001b[39m\"\u001b[39m\u001b[39mindex\u001b[39m\u001b[39m\"\u001b[39m: index, \u001b[39m\"\u001b[39m\u001b[39mcolumns\u001b[39m\u001b[39m\"\u001b[39m: columns}, dtype\u001b[39m=\u001b[39mdtype, copy\u001b[39m=\u001b[39mcopy\n\u001b[1;32m    610\u001b[0m     )\n\u001b[1;32m    612\u001b[0m \u001b[39melif\u001b[39;00m \u001b[39misinstance\u001b[39m(data, \u001b[39mdict\u001b[39m):\n\u001b[1;32m    613\u001b[0m     \u001b[39m# GH#38939 de facto copy defaults to False only in non-dict cases\u001b[39;00m\n\u001b[0;32m--> 614\u001b[0m     mgr \u001b[39m=\u001b[39m dict_to_mgr(data, index, columns, dtype\u001b[39m=\u001b[39;49mdtype, copy\u001b[39m=\u001b[39;49mcopy, typ\u001b[39m=\u001b[39;49mmanager)\n\u001b[1;32m    615\u001b[0m \u001b[39melif\u001b[39;00m \u001b[39misinstance\u001b[39m(data, ma\u001b[39m.\u001b[39mMaskedArray):\n\u001b[1;32m    616\u001b[0m     \u001b[39mimport\u001b[39;00m \u001b[39mnumpy\u001b[39;00m\u001b[39m.\u001b[39;00m\u001b[39mma\u001b[39;00m\u001b[39m.\u001b[39;00m\u001b[39mmrecords\u001b[39;00m \u001b[39mas\u001b[39;00m \u001b[39mmrecords\u001b[39;00m\n",
      "File \u001b[0;32m~/anaconda3/lib/python3.9/site-packages/pandas/core/internals/construction.py:464\u001b[0m, in \u001b[0;36mdict_to_mgr\u001b[0;34m(data, index, columns, dtype, typ, copy)\u001b[0m\n\u001b[1;32m    456\u001b[0m     arrays \u001b[39m=\u001b[39m [\n\u001b[1;32m    457\u001b[0m         x\n\u001b[1;32m    458\u001b[0m         \u001b[39mif\u001b[39;00m \u001b[39mnot\u001b[39;00m \u001b[39mhasattr\u001b[39m(x, \u001b[39m\"\u001b[39m\u001b[39mdtype\u001b[39m\u001b[39m\"\u001b[39m) \u001b[39mor\u001b[39;00m \u001b[39mnot\u001b[39;00m \u001b[39misinstance\u001b[39m(x\u001b[39m.\u001b[39mdtype, ExtensionDtype)\n\u001b[1;32m    459\u001b[0m         \u001b[39melse\u001b[39;00m x\u001b[39m.\u001b[39mcopy()\n\u001b[1;32m    460\u001b[0m         \u001b[39mfor\u001b[39;00m x \u001b[39min\u001b[39;00m arrays\n\u001b[1;32m    461\u001b[0m     ]\n\u001b[1;32m    462\u001b[0m     \u001b[39m# TODO: can we get rid of the dt64tz special case above?\u001b[39;00m\n\u001b[0;32m--> 464\u001b[0m \u001b[39mreturn\u001b[39;00m arrays_to_mgr(\n\u001b[1;32m    465\u001b[0m     arrays, data_names, index, columns, dtype\u001b[39m=\u001b[39;49mdtype, typ\u001b[39m=\u001b[39;49mtyp, consolidate\u001b[39m=\u001b[39;49mcopy\n\u001b[1;32m    466\u001b[0m )\n",
      "File \u001b[0;32m~/anaconda3/lib/python3.9/site-packages/pandas/core/internals/construction.py:119\u001b[0m, in \u001b[0;36marrays_to_mgr\u001b[0;34m(arrays, arr_names, index, columns, dtype, verify_integrity, typ, consolidate)\u001b[0m\n\u001b[1;32m    116\u001b[0m \u001b[39mif\u001b[39;00m verify_integrity:\n\u001b[1;32m    117\u001b[0m     \u001b[39m# figure out the index, if necessary\u001b[39;00m\n\u001b[1;32m    118\u001b[0m     \u001b[39mif\u001b[39;00m index \u001b[39mis\u001b[39;00m \u001b[39mNone\u001b[39;00m:\n\u001b[0;32m--> 119\u001b[0m         index \u001b[39m=\u001b[39m _extract_index(arrays)\n\u001b[1;32m    120\u001b[0m     \u001b[39melse\u001b[39;00m:\n\u001b[1;32m    121\u001b[0m         index \u001b[39m=\u001b[39m ensure_index(index)\n",
      "File \u001b[0;32m~/anaconda3/lib/python3.9/site-packages/pandas/core/internals/construction.py:635\u001b[0m, in \u001b[0;36m_extract_index\u001b[0;34m(data)\u001b[0m\n\u001b[1;32m    633\u001b[0m lengths \u001b[39m=\u001b[39m \u001b[39mlist\u001b[39m(\u001b[39mset\u001b[39m(raw_lengths))\n\u001b[1;32m    634\u001b[0m \u001b[39mif\u001b[39;00m \u001b[39mlen\u001b[39m(lengths) \u001b[39m>\u001b[39m \u001b[39m1\u001b[39m:\n\u001b[0;32m--> 635\u001b[0m     \u001b[39mraise\u001b[39;00m \u001b[39mValueError\u001b[39;00m(\u001b[39m\"\u001b[39m\u001b[39mAll arrays must be of the same length\u001b[39m\u001b[39m\"\u001b[39m)\n\u001b[1;32m    637\u001b[0m \u001b[39mif\u001b[39;00m have_dicts:\n\u001b[1;32m    638\u001b[0m     \u001b[39mraise\u001b[39;00m \u001b[39mValueError\u001b[39;00m(\n\u001b[1;32m    639\u001b[0m         \u001b[39m\"\u001b[39m\u001b[39mMixing dicts with non-Series may lead to ambiguous ordering.\u001b[39m\u001b[39m\"\u001b[39m\n\u001b[1;32m    640\u001b[0m     )\n",
      "\u001b[0;31mValueError\u001b[0m: All arrays must be of the same length"
     ]
    }
   ],
   "source": [
    "trends_df = pd.DataFrame.from_dict(trends_time)\n",
    "trends_df"
   ]
  },
  {
   "cell_type": "markdown",
   "metadata": {},
   "source": [
    "## No more Cae :("
   ]
  },
  {
   "cell_type": "code",
   "execution_count": null,
   "metadata": {},
   "outputs": [],
   "source": [
    "len(datas)"
   ]
  },
  {
   "cell_type": "code",
   "execution_count": null,
   "metadata": {},
   "outputs": [],
   "source": [
    "len(trend)"
   ]
  },
  {
   "cell_type": "code",
   "execution_count": null,
   "metadata": {},
   "outputs": [],
   "source": [
    "trends_data = {}\n",
    "\n",
    "for i in range(len(trend)):\n",
    "    trends_data[datas[i]] = trend[i]\n",
    "\n",
    "trends_data"
   ]
  },
  {
   "cell_type": "code",
   "execution_count": null,
   "metadata": {},
   "outputs": [],
   "source": [
    "{'time': trends_data.keys()}"
   ]
  },
  {
   "cell_type": "code",
   "execution_count": null,
   "metadata": {},
   "outputs": [],
   "source": [
    "trends_data.values()"
   ]
  },
  {
   "cell_type": "code",
   "execution_count": null,
   "metadata": {},
   "outputs": [],
   "source": [
    "columns = {}\n",
    "for i in range(1, 21):\n",
    "    columns[str(i)] = None\n",
    "\n",
    "columns"
   ]
  },
  {
   "cell_type": "code",
   "execution_count": null,
   "metadata": {},
   "outputs": [],
   "source": [
    "ex_datas = datas[0:2]\n",
    "ex_datas"
   ]
  },
  {
   "cell_type": "code",
   "execution_count": null,
   "metadata": {},
   "outputs": [],
   "source": [
    "ex_columns = {'1': None, '2': None}"
   ]
  },
  {
   "cell_type": "code",
   "execution_count": null,
   "metadata": {},
   "outputs": [],
   "source": [
    "print(trends_data[ex_datas[0]][0])\n",
    "print(trends_data[ex_datas[1]][0])"
   ]
  },
  {
   "cell_type": "code",
   "execution_count": null,
   "metadata": {},
   "outputs": [],
   "source": [
    "print(trends_data[ex_datas[0]][1])\n",
    "print(trends_data[ex_datas[1]][1])"
   ]
  },
  {
   "cell_type": "code",
   "execution_count": null,
   "metadata": {},
   "outputs": [],
   "source": [
    "column_values = {}\n",
    "\n",
    "\n",
    "for data in ex_datas:\n",
    "\n",
    "    print('\\n', data, '\\n')\n",
    "    i = 0\n",
    "    while i < 2:\n",
    "        print(trends_data[data][i])\n",
    "        lista_ranking.append(trends_data[data][i])\n",
    "        print(lista_ranking)\n",
    "        column_values['1'] = lista_ranking\n",
    "        i += 1\n",
    "    "
   ]
  },
  {
   "cell_type": "code",
   "execution_count": null,
   "metadata": {},
   "outputs": [],
   "source": [
    "column_values"
   ]
  },
  {
   "cell_type": "code",
   "execution_count": null,
   "metadata": {},
   "outputs": [],
   "source": [
    "df = pd.DataFrame(index=ex_datas, columns=ex_columns)\n",
    "df.head(5)"
   ]
  }
 ],
 "metadata": {
  "kernelspec": {
   "display_name": "Python 3.9.12 ('base')",
   "language": "python",
   "name": "python3"
  },
  "language_info": {
   "codemirror_mode": {
    "name": "ipython",
    "version": 3
   },
   "file_extension": ".py",
   "mimetype": "text/x-python",
   "name": "python",
   "nbconvert_exporter": "python",
   "pygments_lexer": "ipython3",
   "version": "3.9.12"
  },
  "orig_nbformat": 4,
  "vscode": {
   "interpreter": {
    "hash": "31616bd77f438d5ef22421473cb2a762521df33f56ae2beaa250da96edbd522d"
   }
  }
 },
 "nbformat": 4,
 "nbformat_minor": 2
}
