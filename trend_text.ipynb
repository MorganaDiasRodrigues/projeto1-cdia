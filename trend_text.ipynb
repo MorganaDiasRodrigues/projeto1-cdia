{
 "cells": [
  {
   "attachments": {},
   "cell_type": "markdown",
   "metadata": {},
   "source": [
    "## Imports"
   ]
  },
  {
   "cell_type": "code",
   "execution_count": 195,
   "metadata": {},
   "outputs": [],
   "source": [
    "import json\n",
    "import snscrape.modules.twitter as sntwitter\n",
    "import re"
   ]
  },
  {
   "attachments": {},
   "cell_type": "markdown",
   "metadata": {},
   "source": [
    "### Lendo e extraindo as trends"
   ]
  },
  {
   "cell_type": "code",
   "execution_count": 186,
   "metadata": {},
   "outputs": [
    {
     "name": "stdout",
     "output_type": "stream",
     "text": [
      "Total de linhas: 1638\n"
     ]
    }
   ],
   "source": [
    "with open(f'trends/trends.txt') as f:\n",
    "    total_linhas = len(f.readlines())\n",
    "\n",
    "print(f'Total de linhas: {total_linhas}')"
   ]
  },
  {
   "cell_type": "code",
   "execution_count": 187,
   "metadata": {},
   "outputs": [
    {
     "name": "stdout",
     "output_type": "stream",
     "text": [
      "Total: 1638\n",
      "['Date: 08/05/2023 14:42:04 \\n', 'URL: https://twitter.com/search?q=%23SpiderManAcrossTheSpiderVerse - Trend name: #SpiderManAcrossTheSpiderVerse \\n', 'URL: https://twitter.com/search?q=Anaheim - Trend name: Anaheim \\n', 'URL: https://twitter.com/search?q=%23Mondaymorning - Trend name: #Mondaymorning \\n', 'URL: https://twitter.com/search?q=Goku - Trend name: Goku \\n']\n"
     ]
    }
   ],
   "source": [
    "trends = []\n",
    "\n",
    "with open(f'trends/trends.txt') as f:\n",
    "    for line in f.readlines():\n",
    "        trends.append(line)\n",
    "\n",
    "print(f'Total: {len(trends)}')\n",
    "print(trends[0:5])"
   ]
  },
  {
   "attachments": {},
   "cell_type": "markdown",
   "metadata": {},
   "source": [
    "### Extraindo as datas"
   ]
  },
  {
   "cell_type": "code",
   "execution_count": 188,
   "metadata": {},
   "outputs": [
    {
     "name": "stdout",
     "output_type": "stream",
     "text": [
      "Total de datas: 78\n",
      "['08/05/2023 14:42:04', '08/05/2023 15:12:06', '08/05/2023 15:42:07', '08/05/2023 16:12:08', '08/05/2023 16:42:09']\n"
     ]
    }
   ],
   "source": [
    "datas = []\n",
    "for i in range(0, total_linhas, 21):\n",
    "    datas.append(str(trends[i]).replace(\"\\n\", \"\").replace(\"Date: \", \"\").rstrip())\n",
    "\n",
    "print(f'Total de datas: {len(datas)}')\n",
    "print(datas[0:5])"
   ]
  },
  {
   "attachments": {},
   "cell_type": "markdown",
   "metadata": {},
   "source": [
    "### Extraindo as URLs/Trend Names"
   ]
  },
  {
   "cell_type": "code",
   "execution_count": 189,
   "metadata": {},
   "outputs": [],
   "source": [
    "trends_urls = trends.copy()"
   ]
  },
  {
   "cell_type": "code",
   "execution_count": 190,
   "metadata": {},
   "outputs": [
    {
     "name": "stdout",
     "output_type": "stream",
     "text": [
      "Total de URLs/Trend Names: 1560\n",
      "['URL: https://twitter.com/search?q=%23SpiderManAcrossTheSpiderVerse - Trend name: #SpiderManAcrossTheSpiderVerse \\n', 'URL: https://twitter.com/search?q=Anaheim - Trend name: Anaheim \\n', 'URL: https://twitter.com/search?q=%23Mondaymorning - Trend name: #Mondaymorning \\n', 'URL: https://twitter.com/search?q=Goku - Trend name: Goku \\n', 'URL: https://twitter.com/search?q=Oppenheimer - Trend name: Oppenheimer \\n']\n"
     ]
    }
   ],
   "source": [
    "for index, item in enumerate(trends_urls):\n",
    "    if str(item).startswith(\"D\"): # excluindo as datas\n",
    "        trends_urls.remove(trends_urls[index])\n",
    "\n",
    "print(f'Total de URLs/Trend Names: {len(trends_urls)}')\n",
    "print(trends_urls[0:5])"
   ]
  },
  {
   "attachments": {},
   "cell_type": "markdown",
   "metadata": {},
   "source": [
    "### Isolando o nome da Trend"
   ]
  },
  {
   "cell_type": "code",
   "execution_count": 191,
   "metadata": {},
   "outputs": [
    {
     "data": {
      "text/plain": [
       "'#SpiderManAcrossTheSpiderVerse'"
      ]
     },
     "execution_count": 191,
     "metadata": {},
     "output_type": "execute_result"
    }
   ],
   "source": [
    "texto = trends_urls[0]\n",
    "regexado = re.search(\"Trend name: (.*)\", str(texto)).group().replace(\"Trend name: \", '').rstrip()\n",
    "regexado"
   ]
  },
  {
   "cell_type": "code",
   "execution_count": 192,
   "metadata": {},
   "outputs": [
    {
     "name": "stdout",
     "output_type": "stream",
     "text": [
      "Nome da Trend:  #SpiderManAcrossTheSpiderVerse\n",
      "Adicionando trend...\n"
     ]
    },
    {
     "name": "stderr",
     "output_type": "stream",
     "text": [
      "Skipping unrecognised entry ID: 'promoted-tweet-1636654831937941504-83229ca61897b29'\n"
     ]
    },
    {
     "name": "stdout",
     "output_type": "stream",
     "text": [
      "15 tweets adicionados.\n",
      "Nome da Trend:  Anaheim\n",
      "Adicionando trend...\n",
      "15 tweets adicionados.\n",
      "Nome da Trend:  #Mondaymorning\n",
      "Adicionando trend...\n"
     ]
    },
    {
     "name": "stderr",
     "output_type": "stream",
     "text": [
      "Skipping unrecognised entry ID: 'promoted-tweet-1656335699300306944-832c50af06c9a2f'\n",
      "Skipping unrecognised entry ID: 'promoted-tweet-1636654831937941504-83237373cadd85f'\n"
     ]
    },
    {
     "name": "stdout",
     "output_type": "stream",
     "text": [
      "15 tweets adicionados.\n",
      "Nome da Trend:  Goku\n",
      "Adicionando trend...\n",
      "15 tweets adicionados.\n",
      "Nome da Trend:  Oppenheimer\n",
      "Adicionando trend...\n"
     ]
    },
    {
     "name": "stderr",
     "output_type": "stream",
     "text": [
      "Skipping unrecognised entry ID: 'promoted-tweet-1479958596033019906-832afc1929c77d3'\n",
      "Skipping unrecognised entry ID: 'promoted-tweet-1479958596033019906-8328079ee6c513d'\n"
     ]
    },
    {
     "name": "stdout",
     "output_type": "stream",
     "text": [
      "15 tweets adicionados.\n",
      "Nome da Trend:  Infowars\n",
      "Adicionando trend...\n",
      "15 tweets adicionados.\n",
      "Nome da Trend:  Joe Milton\n",
      "Adicionando trend...\n",
      "15 tweets adicionados.\n",
      "Nome da Trend:  #corpsetwtselfieday\n",
      "Adicionando trend...\n",
      "15 tweets adicionados.\n",
      "Nome da Trend:  Mythra\n",
      "Adicionando trend...\n",
      "15 tweets adicionados.\n",
      "Nome da Trend:  Sean Dyche\n",
      "Adicionando trend...\n",
      "15 tweets adicionados.\n",
      "Nome da Trend:  Krypto\n",
      "Adicionando trend...\n"
     ]
    },
    {
     "name": "stderr",
     "output_type": "stream",
     "text": [
      "Skipping unrecognised entry ID: 'promoted-tweet-1652218940079128576-832f0a907b34d7d'\n",
      "Skipping unrecognised entry ID: 'promoted-tweet-1636654831937941504-83279c8635d2639'\n"
     ]
    },
    {
     "name": "stdout",
     "output_type": "stream",
     "text": [
      "15 tweets adicionados.\n",
      "Nome da Trend:  Sean Connery\n",
      "Adicionando trend...\n",
      "15 tweets adicionados.\n",
      "Nome da Trend:  The Weeknd\n",
      "Adicionando trend...\n",
      "15 tweets adicionados.\n",
      "Nome da Trend:  #RaiseTheAge\n",
      "Adicionando trend...\n",
      "15 tweets adicionados.\n",
      "Nome da Trend:  Adderall\n",
      "Adicionando trend...\n",
      "15 tweets adicionados.\n",
      "Nome da Trend:  Purge\n",
      "Adicionando trend...\n",
      "15 tweets adicionados.\n",
      "Nome da Trend:  Weather Channel\n",
      "Adicionando trend...\n",
      "15 tweets adicionados.\n",
      "Nome da Trend:  Red Cross\n",
      "Adicionando trend...\n",
      "15 tweets adicionados.\n",
      "Nome da Trend:  Seer\n",
      "Adicionando trend...\n",
      "15 tweets adicionados.\n",
      "Nome da Trend:  #Mondaythoughts\n",
      "Adicionando trend...\n"
     ]
    },
    {
     "name": "stderr",
     "output_type": "stream",
     "text": [
      "Skipping unrecognised entry ID: 'promoted-tweet-1479958596033019906-832bdaf8fca4430'\n"
     ]
    },
    {
     "name": "stdout",
     "output_type": "stream",
     "text": [
      "15 tweets adicionados.\n",
      "Nome da Trend:  #SpiderManAcrossTheSpiderVerse\n",
      "Nome da Trend:  #TeacherAppreciationWeek\n",
      "Adicionando trend...\n",
      "15 tweets adicionados.\n",
      "Nome da Trend:  Anaheim\n",
      "Nome da Trend:  Oppenheimer\n",
      "Nome da Trend:  Goku\n",
      "Nome da Trend:  #corpsetwtselfieday\n",
      "Nome da Trend:  Krypto\n",
      "Nome da Trend:  #RaiseTheAge\n",
      "Nome da Trend:  Seer\n",
      "Nome da Trend:  #Mondaymorning\n",
      "Nome da Trend:  Joe Milton\n",
      "Nome da Trend:  Dark Souls 2\n",
      "Adicionando trend...\n",
      "15 tweets adicionados.\n",
      "Nome da Trend:  The Weeknd\n",
      "Nome da Trend:  Sean Connery\n",
      "Nome da Trend:  Weather Channel\n",
      "Nome da Trend:  Pyra\n",
      "Adicionando trend...\n",
      "15 tweets adicionados.\n",
      "Nome da Trend:  Juelz\n",
      "Adicionando trend...\n"
     ]
    },
    {
     "name": "stderr",
     "output_type": "stream",
     "text": [
      "Skipping unrecognised entry ID: 'promoted-tweet-1650033720944893952-832db951474b518'\n"
     ]
    },
    {
     "name": "stdout",
     "output_type": "stream",
     "text": [
      "15 tweets adicionados.\n",
      "Nome da Trend:  Ewers\n",
      "Adicionando trend...\n",
      "15 tweets adicionados.\n",
      "Nome da Trend:  Bedard\n",
      "Adicionando trend...\n",
      "15 tweets adicionados.\n",
      "Nome da Trend:  #Mondayvibes\n",
      "Adicionando trend...\n",
      "15 tweets adicionados.\n",
      "Nome da Trend:  #teachers\n",
      "Adicionando trend...\n"
     ]
    },
    {
     "name": "stderr",
     "output_type": "stream",
     "text": [
      "Skipping unrecognised entry ID: 'promoted-tweet-1649329626559258625-8325219206a11fd'\n"
     ]
    },
    {
     "name": "stdout",
     "output_type": "stream",
     "text": [
      "15 tweets adicionados.\n",
      "Nome da Trend:  Goku\n",
      "Nome da Trend:  #QueenCharlotteNetflix\n",
      "Adicionando trend...\n"
     ]
    },
    {
     "name": "stderr",
     "output_type": "stream",
     "text": [
      "Skipping unrecognised entry ID: 'promoted-tweet-1636654831937941504-83241388dc8aff5'\n"
     ]
    },
    {
     "name": "stdout",
     "output_type": "stream",
     "text": [
      "15 tweets adicionados.\n",
      "Nome da Trend:  Purge\n",
      "Nome da Trend:  #Mondaymorning\n",
      "Nome da Trend:  Krypto\n",
      "Nome da Trend:  Joe Milton\n",
      "Nome da Trend:  #BehindYouSkipper\n",
      "Adicionando trend...\n",
      "15 tweets adicionados.\n",
      "Nome da Trend:  Texas Tactical Border Force\n",
      "Adicionando trend...\n"
     ]
    },
    {
     "name": "stderr",
     "output_type": "stream",
     "text": [
      "Unavailable user in card on tweet 1656863271784259584\n",
      "User 14204245 not found in user refs in card on tweet 1656863271784259584\n",
      "Unavailable user in card on tweet 1656863171850674177\n",
      "User 14204245 not found in user refs in card on tweet 1656863171850674177\n"
     ]
    },
    {
     "name": "stdout",
     "output_type": "stream",
     "text": [
      "15 tweets adicionados.\n",
      "Nome da Trend:  #corpsetwtselfieday\n",
      "Nome da Trend:  Tombstone\n",
      "Adicionando trend...\n",
      "15 tweets adicionados.\n",
      "Nome da Trend:  Sean Connery\n",
      "Nome da Trend:  Infowars\n",
      "Nome da Trend:  The Weather Channel\n",
      "Adicionando trend...\n"
     ]
    },
    {
     "name": "stderr",
     "output_type": "stream",
     "text": [
      "Twitter responded with an error: TimeoutError: Timeout: Unspecified, TimeoutError: Timeout: Unspecified, TimeoutError: Timeout: Unspecified, TimeoutError: Timeout: Unspecified, TimeoutError: Timeout: Unspecified, TimeoutError: Timeout: Unspecified, TimeoutError: Timeout: Unspecified, TimeoutError: Timeout: Unspecified, TimeoutError: Timeout: Unspecified, TimeoutError: Timeout: Unspecified, TimeoutError: Timeout: Unspecified, TimeoutError: Timeout: Unspecified, TimeoutError: Timeout: Unspecified, TimeoutError: Timeout: Unspecified, TimeoutError: Timeout: Unspecified, TimeoutError: Timeout: Unspecified, TimeoutError: Timeout: Unspecified, TimeoutError: Timeout: Unspecified, TimeoutError: Timeout: Unspecified, TimeoutError: Timeout: Unspecified, TimeoutError: Timeout: Unspecified, TimeoutError: Timeout: Unspecified, TimeoutError: Timeout: Unspecified, TimeoutError: Timeout: Unspecified, TimeoutError: Timeout: Unspecified, TimeoutError: Timeout: Unspecified, TimeoutError: Timeout: Unspecified, TimeoutError: Timeout: Unspecified, TimeoutError: Timeout: Unspecified, TimeoutError: Timeout: Unspecified, TimeoutError: Timeout: Unspecified, TimeoutError: Timeout: Unspecified, TimeoutError: Timeout: Unspecified, TimeoutError: Timeout: Unspecified, TimeoutError: Timeout: Unspecified, TimeoutError: Timeout: Unspecified, TimeoutError: Timeout: Unspecified, TimeoutError: Timeout: Unspecified, TimeoutError: Timeout: Unspecified, TimeoutError: Timeout: Unspecified, TimeoutError: Timeout: Unspecified, TimeoutError: Timeout: Unspecified, TimeoutError: Timeout: Unspecified, TimeoutError: Timeout: Unspecified, TimeoutError: Timeout: Unspecified, TimeoutError: Timeout: Unspecified, TimeoutError: Timeout: Unspecified, TimeoutError: Timeout: Unspecified, TimeoutError: Timeout: Unspecified, TimeoutError: Timeout: Unspecified\n"
     ]
    },
    {
     "name": "stdout",
     "output_type": "stream",
     "text": [
      "15 tweets adicionados.\n",
      "Nome da Trend:  #HaveACokeDay\n",
      "Adicionando trend...\n"
     ]
    },
    {
     "name": "stderr",
     "output_type": "stream",
     "text": [
      "Skipping unrecognised entry ID: 'promoted-tweet-1636654831937941504-83223e9eaf65e03'\n"
     ]
    },
    {
     "name": "stdout",
     "output_type": "stream",
     "text": [
      "15 tweets adicionados.\n",
      "Nome da Trend:  SLOOS\n",
      "Adicionando trend...\n",
      "15 tweets adicionados.\n",
      "Nome da Trend:  #RaiseTheAge\n",
      "Nome da Trend:  The Weeknd\n",
      "Nome da Trend:  jack antonoff\n",
      "Adicionando trend...\n"
     ]
    },
    {
     "name": "stderr",
     "output_type": "stream",
     "text": [
      "Skipping unrecognised entry ID: 'promoted-tweet-1636654831937941504-83265de0a6d41f3'\n",
      "Skipping unrecognised entry ID: 'promoted-tweet-1643699317041946634-832333c67293a8b'\n"
     ]
    },
    {
     "name": "stdout",
     "output_type": "stream",
     "text": [
      "15 tweets adicionados.\n",
      "Nome da Trend:  HB 2744\n",
      "Adicionando trend...\n"
     ]
    },
    {
     "name": "stderr",
     "output_type": "stream",
     "text": [
      "Twitter responded with an error: TimeoutError: Timeout: Unspecified, TimeoutError: Timeout: Unspecified, TimeoutError: Timeout: Unspecified, TimeoutError: Timeout: Unspecified, TimeoutError: Timeout: Unspecified, TimeoutError: Timeout: Unspecified, TimeoutError: Timeout: Unspecified, TimeoutError: Timeout: Unspecified, TimeoutError: Timeout: Unspecified, TimeoutError: Timeout: Unspecified, TimeoutError: Timeout: Unspecified, TimeoutError: Timeout: Unspecified, TimeoutError: Timeout: Unspecified, TimeoutError: Timeout: Unspecified, TimeoutError: Timeout: Unspecified, TimeoutError: Timeout: Unspecified, TimeoutError: Timeout: Unspecified, TimeoutError: Timeout: Unspecified, TimeoutError: Timeout: Unspecified, TimeoutError: Timeout: Unspecified, TimeoutError: Timeout: Unspecified, TimeoutError: Timeout: Unspecified, TimeoutError: Timeout: Unspecified, TimeoutError: Timeout: Unspecified, TimeoutError: Timeout: Unspecified, TimeoutError: Timeout: Unspecified, TimeoutError: Timeout: Unspecified, TimeoutError: Timeout: Unspecified, TimeoutError: Timeout: Unspecified, TimeoutError: Timeout: Unspecified, TimeoutError: Timeout: Unspecified, TimeoutError: Timeout: Unspecified, TimeoutError: Timeout: Unspecified, TimeoutError: Timeout: Unspecified, TimeoutError: Timeout: Unspecified, TimeoutError: Timeout: Unspecified, TimeoutError: Timeout: Unspecified, TimeoutError: Timeout: Unspecified, TimeoutError: Timeout: Unspecified, TimeoutError: Timeout: Unspecified, TimeoutError: Timeout: Unspecified, TimeoutError: Timeout: Unspecified, TimeoutError: Timeout: Unspecified, TimeoutError: Timeout: Unspecified, TimeoutError: Timeout: Unspecified, TimeoutError: Timeout: Unspecified, TimeoutError: Timeout: Unspecified, TimeoutError: Timeout: Unspecified, TimeoutError: Timeout: Unspecified, TimeoutError: Timeout: Unspecified, TimeoutError: Timeout: Unspecified, TimeoutError: Timeout: Unspecified\n",
      "Skipping unrecognised entry ID: 'promoted-tweet-1636654831937941504-8322da103ce2993'\n"
     ]
    },
    {
     "name": "stdout",
     "output_type": "stream",
     "text": [
      "15 tweets adicionados.\n",
      "Nome da Trend:  Purge\n",
      "Nome da Trend:  #corpsetwtselfieday\n",
      "Nome da Trend:  Goku\n",
      "Nome da Trend:  Robert Moses\n",
      "Adicionando trend...\n",
      "15 tweets adicionados.\n",
      "Nome da Trend:  Sean Connery\n",
      "Nome da Trend:  Sharpe\n",
      "Adicionando trend...\n",
      "15 tweets adicionados.\n",
      "Nome da Trend:  #BehindYouSkipper\n",
      "Nome da Trend:  The Weeknd\n",
      "Nome da Trend:  Mythra\n",
      "Nome da Trend:  Texas House\n",
      "Adicionando trend...\n",
      "15 tweets adicionados.\n",
      "Nome da Trend:  #Pistons\n",
      "Adicionando trend...\n",
      "15 tweets adicionados.\n",
      "Nome da Trend:  #WritingCommnunity\n",
      "Adicionando trend...\n"
     ]
    },
    {
     "name": "stderr",
     "output_type": "stream",
     "text": [
      "Skipping unrecognised entry ID: 'promoted-tweet-1652218940079128576-832d9b18171b3f6'\n"
     ]
    },
    {
     "name": "stdout",
     "output_type": "stream",
     "text": [
      "15 tweets adicionados.\n",
      "Nome da Trend:  Oppenheimer\n",
      "Nome da Trend:  Weather Channel\n",
      "Nome da Trend:  Tombstone\n",
      "Nome da Trend:  #RaiseTheAge\n",
      "Nome da Trend:  SLOOS\n",
      "Nome da Trend:  luke hemmings\n",
      "Adicionando trend...\n"
     ]
    },
    {
     "name": "stderr",
     "output_type": "stream",
     "text": [
      "Skipping unrecognised entry ID: 'promoted-tweet-1652218940079128576-832ed283402f53a'\n"
     ]
    },
    {
     "name": "stdout",
     "output_type": "stream",
     "text": [
      "15 tweets adicionados.\n",
      "Nome da Trend:  HB 2744\n",
      "Nome da Trend:  Lowering\n",
      "Adicionando trend...\n",
      "15 tweets adicionados.\n",
      "Nome da Trend:  NICKI IS COMING\n",
      "Adicionando trend...\n",
      "15 tweets adicionados.\n",
      "Nome da Trend:  #ThankATeacher\n",
      "Adicionando trend...\n",
      "15 tweets adicionados.\n",
      "Nome da Trend:  Brett Favre\n",
      "Adicionando trend...\n",
      "15 tweets adicionados.\n",
      "Nome da Trend:  Tombstone\n",
      "Nome da Trend:  Purge\n",
      "Nome da Trend:  #JusticeForGannon\n",
      "Adicionando trend...\n",
      "15 tweets adicionados.\n",
      "Nome da Trend:  The Weather Channel\n",
      "Nome da Trend:  #PaidLeaveMN\n",
      "Adicionando trend...\n"
     ]
    },
    {
     "name": "stderr",
     "output_type": "stream",
     "text": [
      "Skipping unrecognised entry ID: 'promoted-tweet-1652218940079128576-83283e7aecf0b15'\n"
     ]
    },
    {
     "name": "stdout",
     "output_type": "stream",
     "text": [
      "15 tweets adicionados.\n",
      "Nome da Trend:  #WritingCommnunity\n",
      "Nome da Trend:  #Sprina\n",
      "Adicionando trend...\n",
      "15 tweets adicionados.\n",
      "Nome da Trend:  Oppenheimer\n",
      "Nome da Trend:  Goth IHOP\n",
      "Adicionando trend...\n"
     ]
    },
    {
     "name": "stderr",
     "output_type": "stream",
     "text": [
      "Skipping unrecognised entry ID: 'promoted-tweet-1636654831937941504-8337c7e422db076'\n",
      "Skipping unrecognised entry ID: 'promoted-tweet-1654657407203659779-83306631b5e69fc'\n",
      "Skipping unrecognised entry ID: 'promoted-tweet-1636654831937941504-833b107ebeea4f4'\n"
     ]
    },
    {
     "name": "stdout",
     "output_type": "stream",
     "text": [
      "15 tweets adicionados.\n",
      "Nome da Trend:  Sean Connery\n",
      "Nome da Trend:  #MothersDay\n",
      "Adicionando trend...\n"
     ]
    },
    {
     "name": "stderr",
     "output_type": "stream",
     "text": [
      "Unavailable user in card on tweet 1657032186216828929\n",
      "Unavailable user in card on tweet 1657032186216828929\n",
      "User 160497158 not found in user refs in card on tweet 1657032186216828929\n",
      "User 160497158 not found in user refs in card on tweet 1657032186216828929\n"
     ]
    },
    {
     "name": "stdout",
     "output_type": "stream",
     "text": [
      "15 tweets adicionados.\n",
      "Nome da Trend:  The Weeknd\n",
      "Nome da Trend:  Mythra\n",
      "Nome da Trend:  luke hemmings\n",
      "Nome da Trend:  HB 2744\n",
      "Nome da Trend:  Sharpe\n",
      "Nome da Trend:  Lowering\n",
      "Nome da Trend:  #matura2023\n",
      "Adicionando trend...\n"
     ]
    },
    {
     "name": "stderr",
     "output_type": "stream",
     "text": [
      "Skipping unrecognised entry ID: 'promoted-tweet-1636654831937941504-83347e2d85fca14'\n",
      "Skipping unrecognised entry ID: 'promoted-tweet-1636654831937941504-8335b4ade986608'\n"
     ]
    },
    {
     "name": "stdout",
     "output_type": "stream",
     "text": [
      "15 tweets adicionados.\n",
      "Nome da Trend:  Mythra\n",
      "Nome da Trend:  Dirk\n",
      "Adicionando trend...\n"
     ]
    },
    {
     "name": "stderr",
     "output_type": "stream",
     "text": [
      "Skipping unrecognised entry ID: 'promoted-tweet-1636654831937941504-8335ddced89f9dd'\n",
      "Skipping unrecognised entry ID: 'promoted-tweet-1636654831937941504-833a6b950421fa6'\n"
     ]
    },
    {
     "name": "stdout",
     "output_type": "stream",
     "text": [
      "15 tweets adicionados.\n",
      "Nome da Trend:  #BehindYouSkipper\n",
      "Nome da Trend:  NICKI IS COMING\n",
      "Nome da Trend:  #WritingCommnunity\n",
      "Nome da Trend:  The Weather Channel\n",
      "Nome da Trend:  SLOOS\n",
      "Nome da Trend:  Sean Connery\n",
      "Nome da Trend:  Goku\n",
      "Nome da Trend:  #NHLdraftlottery\n",
      "Adicionando trend...\n"
     ]
    },
    {
     "name": "stderr",
     "output_type": "stream",
     "text": [
      "Skipping unrecognised entry ID: 'promoted-tweet-1652218940079128576-8335941c5020513'\n"
     ]
    },
    {
     "name": "stdout",
     "output_type": "stream",
     "text": [
      "15 tweets adicionados.\n",
      "Nome da Trend:  HB 2744\n",
      "Nome da Trend:  The Weeknd\n",
      "Nome da Trend:  luke hemmings\n",
      "Nome da Trend:  Lowering\n",
      "Nome da Trend:  Tombstone\n",
      "Nome da Trend:  Goth IHOP\n",
      "Nome da Trend:  Brett Favre\n",
      "Nome da Trend:  Derek Jeter\n",
      "Adicionando trend...\n",
      "15 tweets adicionados.\n",
      "Nome da Trend:  Sharpe\n",
      "Nome da Trend:  Batman\n",
      "Adicionando trend...\n",
      "15 tweets adicionados.\n",
      "Nome da Trend:  #Mondayvibes\n",
      "Nome da Trend:  Anaheim\n",
      "Nome da Trend:  NICKI IS COMING\n",
      "Nome da Trend:  Mythra\n",
      "Nome da Trend:  The Weather Channel\n",
      "Nome da Trend:  Oppenheimer\n",
      "Nome da Trend:  $PLTR\n",
      "Adicionando trend...\n",
      "15 tweets adicionados.\n",
      "Nome da Trend:  Sean Connery\n",
      "Nome da Trend:  Blackhawks\n",
      "Adicionando trend...\n",
      "15 tweets adicionados.\n",
      "Nome da Trend:  Tombstone\n",
      "Nome da Trend:  Lowering\n",
      "Nome da Trend:  Goku\n",
      "Nome da Trend:  The Weeknd\n",
      "Nome da Trend:  #Sprina\n",
      "Nome da Trend:  Dirk\n",
      "Nome da Trend:  luke hemmings\n",
      "Nome da Trend:  Derek Jeter\n",
      "Nome da Trend:  HB 2744\n",
      "Nome da Trend:  Dwight McNeil\n",
      "Adicionando trend...\n"
     ]
    },
    {
     "name": "stderr",
     "output_type": "stream",
     "text": [
      "Skipping unrecognised entry ID: 'promoted-tweet-1652218940079128576-83342c072b9d678'\n"
     ]
    },
    {
     "name": "stdout",
     "output_type": "stream",
     "text": [
      "15 tweets adicionados.\n",
      "Nome da Trend:  Nazism\n",
      "Adicionando trend...\n",
      "15 tweets adicionados.\n",
      "Nome da Trend:  NICKI IS COMING\n",
      "Nome da Trend:  Student Loans\n",
      "Adicionando trend...\n"
     ]
    },
    {
     "name": "stderr",
     "output_type": "stream",
     "text": [
      "Skipping unrecognised entry ID: 'promoted-tweet-1655422275385016322-833aa300e735edb'\n",
      "Skipping unrecognised entry ID: 'promoted-tweet-1647967430487035905-833900960783a06'\n"
     ]
    },
    {
     "name": "stdout",
     "output_type": "stream",
     "text": [
      "15 tweets adicionados.\n",
      "Nome da Trend:  Batman\n",
      "Nome da Trend:  Kareem Jackson\n",
      "Adicionando trend...\n",
      "15 tweets adicionados.\n",
      "Nome da Trend:  Thursday Night Football\n",
      "Adicionando trend...\n"
     ]
    },
    {
     "name": "stderr",
     "output_type": "stream",
     "text": [
      "Skipping unrecognised entry ID: 'promoted-tweet-1643699317041946634-833556f44e694f0'\n",
      "Skipping unrecognised entry ID: 'promoted-tweet-1636654831937941504-8333f7f68573ace'\n",
      "Skipping unrecognised entry ID: 'promoted-tweet-1610394285014147072-8332af6addca9e7'\n"
     ]
    },
    {
     "name": "stdout",
     "output_type": "stream",
     "text": [
      "15 tweets adicionados.\n",
      "Nome da Trend:  Texas House\n",
      "Nome da Trend:  #BehindYouSkipper\n",
      "Nome da Trend:  The Weeknd\n",
      "Nome da Trend:  $PLTR\n",
      "Nome da Trend:  Dirk\n",
      "Nome da Trend:  #cybertruck\n",
      "Adicionando trend...\n"
     ]
    },
    {
     "name": "stderr",
     "output_type": "stream",
     "text": [
      "Skipping unrecognised entry ID: 'promoted-tweet-1636654831937941504-833cf7d9be31988'\n"
     ]
    },
    {
     "name": "stdout",
     "output_type": "stream",
     "text": [
      "15 tweets adicionados.\n",
      "Nome da Trend:  Goku\n",
      "Nome da Trend:  Tombstone\n",
      "Nome da Trend:  Ethics\n",
      "Adicionando trend...\n"
     ]
    },
    {
     "name": "stderr",
     "output_type": "stream",
     "text": [
      "Skipping unrecognised entry ID: 'promoted-tweet-1656316160965754880-833a1a5233d9003'\n"
     ]
    },
    {
     "name": "stdout",
     "output_type": "stream",
     "text": [
      "15 tweets adicionados.\n",
      "Nome da Trend:  Derek Jeter\n",
      "Nome da Trend:  luke hemmings\n",
      "Nome da Trend:  HB 2744\n",
      "Nome da Trend:  Morel\n",
      "Adicionando trend...\n",
      "15 tweets adicionados.\n",
      "Nome da Trend:  Ranch\n",
      "Adicionando trend...\n"
     ]
    },
    {
     "name": "stderr",
     "output_type": "stream",
     "text": [
      "Skipping unrecognised entry ID: 'promoted-tweet-1655992448114642944-833810f3128e415'\n"
     ]
    },
    {
     "name": "stdout",
     "output_type": "stream",
     "text": [
      "15 tweets adicionados.\n",
      "Nome da Trend:  Nazism\n",
      "Nome da Trend:  Thursday Night Football\n",
      "Nome da Trend:  Student Loans\n",
      "Nome da Trend:  NICKI IS COMING\n",
      "Nome da Trend:  Lucid\n",
      "Adicionando trend...\n",
      "15 tweets adicionados.\n",
      "Nome da Trend:  Aryan\n",
      "Adicionando trend...\n",
      "15 tweets adicionados.\n",
      "Nome da Trend:  Blackhawks\n",
      "Nome da Trend:  Oppenheimer\n",
      "Nome da Trend:  Tim Pool\n",
      "Adicionando trend...\n",
      "15 tweets adicionados.\n",
      "Nome da Trend:  Goku\n",
      "Nome da Trend:  Tombstone\n",
      "Nome da Trend:  The Weeknd\n",
      "Nome da Trend:  Dirk\n",
      "Nome da Trend:  #cybertruck\n",
      "Nome da Trend:  Ethics\n",
      "Nome da Trend:  $PYPL\n",
      "Adicionando trend...\n"
     ]
    },
    {
     "name": "stderr",
     "output_type": "stream",
     "text": [
      "Skipping unrecognised entry ID: 'promoted-tweet-1652218940079128576-8336fcd5a4a155a'\n",
      "Stopping after 20 empty pages\n"
     ]
    },
    {
     "name": "stdout",
     "output_type": "stream",
     "text": [
      "Nome da Trend:  Derek Jeter\n",
      "Nome da Trend:  luke hemmings\n",
      "Nome da Trend:  HB 2744\n",
      "Nome da Trend:  Morel\n",
      "Nome da Trend:  Nazism\n",
      "Nome da Trend:  Goku\n",
      "Nome da Trend:  NICKI IS COMING\n",
      "Nome da Trend:  Lucid\n",
      "Nome da Trend:  Batman\n",
      "Nome da Trend:  Blackhawks\n",
      "Nome da Trend:  Anaheim\n",
      "Nome da Trend:  Student Loans\n",
      "Nome da Trend:  Latinos\n",
      "Adicionando trend...\n",
      "15 tweets adicionados.\n",
      "Nome da Trend:  Ethics\n",
      "Nome da Trend:  luke hemmings\n",
      "Nome da Trend:  Tombstone\n",
      "Nome da Trend:  HB 2744\n",
      "Nome da Trend:  $PYPL\n",
      "Nome da Trend:  Dirk\n",
      "Nome da Trend:  #DeadlineWH\n",
      "Adicionando trend...\n"
     ]
    },
    {
     "name": "stderr",
     "output_type": "stream",
     "text": [
      "Skipping unrecognised entry ID: 'promoted-tweet-1636654831937941504-8332a0cab69c38d'\n"
     ]
    },
    {
     "name": "stdout",
     "output_type": "stream",
     "text": [
      "15 tweets adicionados.\n",
      "Nome da Trend:  Derek Jeter\n",
      "Nome da Trend:  Ducks\n",
      "Adicionando trend...\n"
     ]
    },
    {
     "name": "stderr",
     "output_type": "stream",
     "text": [
      "Skipping unrecognised entry ID: 'promoted-tweet-1582240499234406400-833e446032acdd3'\n"
     ]
    },
    {
     "name": "stdout",
     "output_type": "stream",
     "text": [
      "15 tweets adicionados.\n",
      "Nome da Trend:  Morel\n",
      "Nome da Trend:  $PLTR\n",
      "Nome da Trend:  Nazism\n",
      "Nome da Trend:  Cocoa Puffs\n",
      "Adicionando trend...\n",
      "15 tweets adicionados.\n",
      "Nome da Trend:  NICKI IS COMING\n",
      "Nome da Trend:  Mr. Beast\n",
      "Adicionando trend...\n",
      "15 tweets adicionados.\n",
      "Nome da Trend:  Rasmussen\n",
      "Adicionando trend...\n"
     ]
    },
    {
     "name": "stderr",
     "output_type": "stream",
     "text": [
      "Skipping unrecognised entry ID: 'promoted-tweet-1652218940079128576-8333a648e513adf'\n"
     ]
    },
    {
     "name": "stdout",
     "output_type": "stream",
     "text": [
      "15 tweets adicionados.\n",
      "Nome da Trend:  Hasbulla\n",
      "Adicionando trend...\n",
      "15 tweets adicionados.\n",
      "Nome da Trend:  Anaheim\n",
      "Nome da Trend:  Batman\n",
      "Nome da Trend:  Cybertruck\n",
      "Adicionando trend...\n"
     ]
    },
    {
     "name": "stderr",
     "output_type": "stream",
     "text": [
      "Skipping unrecognised entry ID: 'promoted-tweet-1636654831937941504-8335d366bd28f3c'\n"
     ]
    },
    {
     "name": "stdout",
     "output_type": "stream",
     "text": [
      "15 tweets adicionados.\n",
      "Nome da Trend:  #PaidLeaveMN\n",
      "Nome da Trend:  Dirk\n",
      "Nome da Trend:  Lucid\n",
      "Nome da Trend:  Ethics\n",
      "Nome da Trend:  Femboy Hooters\n",
      "Adicionando trend...\n",
      "15 tweets adicionados.\n",
      "Nome da Trend:  luke hemmings\n",
      "Nome da Trend:  Tim Pool\n",
      "Nome da Trend:  Top Secret\n",
      "Adicionando trend...\n",
      "15 tweets adicionados.\n",
      "Nome da Trend:  Tombstone\n",
      "Nome da Trend:  Derek Jeter\n",
      "Nome da Trend:  PETA\n",
      "Adicionando trend...\n",
      "15 tweets adicionados.\n",
      "Nome da Trend:  Nazism\n",
      "Nome da Trend:  Anaheim\n",
      "Nome da Trend:  Lucid\n",
      "Nome da Trend:  NICKI IS COMING\n",
      "Nome da Trend:  Cocoa Puffs\n",
      "Nome da Trend:  I AM A SURGEON\n",
      "Adicionando trend...\n",
      "15 tweets adicionados.\n",
      "Nome da Trend:  Darkest Dungeon 2\n",
      "Adicionando trend...\n",
      "15 tweets adicionados.\n",
      "Nome da Trend:  Batman\n",
      "Nome da Trend:  Tim Pool\n",
      "Nome da Trend:  Student Loans\n",
      "Nome da Trend:  Latinos\n",
      "Nome da Trend:  Demon Copperhead\n",
      "Adicionando trend...\n",
      "15 tweets adicionados.\n",
      "Nome da Trend:  Hasbulla\n",
      "Nome da Trend:  Tombstone\n",
      "Nome da Trend:  Blackhawks\n",
      "Nome da Trend:  Goku\n",
      "Nome da Trend:  Ethics\n",
      "Nome da Trend:  Dirk\n",
      "Nome da Trend:  luke hemmings\n",
      "Nome da Trend:  Red Wings\n",
      "Adicionando trend...\n",
      "15 tweets adicionados.\n",
      "Nome da Trend:  Nazism\n",
      "Nome da Trend:  Anaheim\n",
      "Nome da Trend:  Cocoa Puffs\n",
      "Nome da Trend:  NICKI IS COMING\n",
      "Nome da Trend:  Lucid\n",
      "Nome da Trend:  Rodney King\n",
      "Adicionando trend...\n",
      "15 tweets adicionados.\n",
      "Nome da Trend:  Batman\n",
      "Nome da Trend:  #HadMeAvoidingEyeContact\n",
      "Adicionando trend...\n"
     ]
    },
    {
     "name": "stderr",
     "output_type": "stream",
     "text": [
      "Skipping unrecognised entry ID: 'promoted-tweet-1636654831937941504-833b67369c51b77'\n"
     ]
    },
    {
     "name": "stdout",
     "output_type": "stream",
     "text": [
      "15 tweets adicionados.\n",
      "Nome da Trend:  #QueenCharlotteNetflix\n",
      "Nome da Trend:  Blackhawks\n",
      "Nome da Trend:  Hasbulla\n",
      "Nome da Trend:  Demon Copperhead\n",
      "Nome da Trend:  Ethics\n",
      "Nome da Trend:  Iowa State\n",
      "Adicionando trend...\n",
      "15 tweets adicionados.\n",
      "Nome da Trend:  Dirk\n",
      "Nome da Trend:  #TheReidOut\n",
      "Adicionando trend...\n"
     ]
    },
    {
     "name": "stderr",
     "output_type": "stream",
     "text": [
      "Twitter responded with an error: TimeoutError: Timeout: Unspecified, TimeoutError: Timeout: Unspecified, TimeoutError: Timeout: Unspecified, TimeoutError: Timeout: Unspecified, TimeoutError: Timeout: Unspecified, TimeoutError: Timeout: Unspecified, TimeoutError: Timeout: Unspecified, TimeoutError: Timeout: Unspecified, TimeoutError: Timeout: Unspecified, TimeoutError: Timeout: Unspecified, TimeoutError: Timeout: Unspecified, TimeoutError: Timeout: Unspecified, TimeoutError: Timeout: Unspecified, TimeoutError: Timeout: Unspecified, TimeoutError: Timeout: Unspecified, TimeoutError: Timeout: Unspecified, TimeoutError: Timeout: Unspecified, TimeoutError: Timeout: Unspecified, TimeoutError: Timeout: Unspecified, TimeoutError: Timeout: Unspecified, TimeoutError: Timeout: Unspecified, TimeoutError: Timeout: Unspecified, TimeoutError: Timeout: Unspecified, TimeoutError: Timeout: Unspecified, TimeoutError: Timeout: Unspecified, TimeoutError: Timeout: Unspecified, TimeoutError: Timeout: Unspecified, TimeoutError: Timeout: Unspecified, TimeoutError: Timeout: Unspecified, TimeoutError: Timeout: Unspecified, TimeoutError: Timeout: Unspecified, TimeoutError: Timeout: Unspecified, TimeoutError: Timeout: Unspecified, TimeoutError: Timeout: Unspecified, TimeoutError: Timeout: Unspecified, TimeoutError: Timeout: Unspecified, TimeoutError: Timeout: Unspecified, TimeoutError: Timeout: Unspecified, TimeoutError: Timeout: Unspecified, TimeoutError: Timeout: Unspecified, TimeoutError: Timeout: Unspecified, TimeoutError: Timeout: Unspecified, TimeoutError: Timeout: Unspecified, TimeoutError: Timeout: Unspecified, TimeoutError: Timeout: Unspecified, TimeoutError: Timeout: Unspecified, TimeoutError: Timeout: Unspecified, TimeoutError: Timeout: Unspecified, TimeoutError: Timeout: Unspecified, TimeoutError: Timeout: Unspecified\n"
     ]
    },
    {
     "name": "stdout",
     "output_type": "stream",
     "text": [
      "15 tweets adicionados.\n",
      "Nome da Trend:  #Sprina\n",
      "Nome da Trend:  Tombstone\n",
      "Nome da Trend:  Goku\n",
      "Nome da Trend:  PETA\n",
      "Nome da Trend:  NICKI IS COMING\n",
      "Nome da Trend:  Mr. Beast\n",
      "Nome da Trend:  Ethics\n",
      "Nome da Trend:  I AM A SURGEON\n",
      "Nome da Trend:  Flyers\n",
      "Adicionando trend...\n"
     ]
    },
    {
     "name": "stderr",
     "output_type": "stream",
     "text": [
      "Skipping unrecognised entry ID: 'promoted-tweet-1652218940079128576-833d9367753b272'\n"
     ]
    },
    {
     "name": "stdout",
     "output_type": "stream",
     "text": [
      "15 tweets adicionados.\n",
      "Nome da Trend:  Shinsuke\n",
      "Adicionando trend...\n",
      "15 tweets adicionados.\n",
      "Nome da Trend:  Batman\n",
      "Nome da Trend:  #HadMeAvoidingEyeContact\n",
      "Nome da Trend:  Cybertruck\n",
      "Nome da Trend:  Roger\n",
      "Adicionando trend...\n"
     ]
    },
    {
     "name": "stderr",
     "output_type": "stream",
     "text": [
      "Skipping unrecognised entry ID: 'promoted-tweet-1636654831937941504-833963a4a2f75f9'\n"
     ]
    },
    {
     "name": "stdout",
     "output_type": "stream",
     "text": [
      "15 tweets adicionados.\n",
      "Nome da Trend:  Grimes\n",
      "Adicionando trend...\n"
     ]
    },
    {
     "name": "stderr",
     "output_type": "stream",
     "text": [
      "Twitter responded with an error: TimeoutError: Timeout: Unspecified, TimeoutError: Timeout: Unspecified, TimeoutError: Timeout: Unspecified, TimeoutError: Timeout: Unspecified, TimeoutError: Timeout: Unspecified, TimeoutError: Timeout: Unspecified, TimeoutError: Timeout: Unspecified, TimeoutError: Timeout: Unspecified, TimeoutError: Timeout: Unspecified, TimeoutError: Timeout: Unspecified, TimeoutError: Timeout: Unspecified, TimeoutError: Timeout: Unspecified, TimeoutError: Timeout: Unspecified, TimeoutError: Timeout: Unspecified, TimeoutError: Timeout: Unspecified, TimeoutError: Timeout: Unspecified, TimeoutError: Timeout: Unspecified, TimeoutError: Timeout: Unspecified, TimeoutError: Timeout: Unspecified, TimeoutError: Timeout: Unspecified, TimeoutError: Timeout: Unspecified, TimeoutError: Timeout: Unspecified, TimeoutError: Timeout: Unspecified, TimeoutError: Timeout: Unspecified, TimeoutError: Timeout: Unspecified, TimeoutError: Timeout: Unspecified, TimeoutError: Timeout: Unspecified, TimeoutError: Timeout: Unspecified, TimeoutError: Timeout: Unspecified, TimeoutError: Timeout: Unspecified, TimeoutError: Timeout: Unspecified, TimeoutError: Timeout: Unspecified, TimeoutError: Timeout: Unspecified, TimeoutError: Timeout: Unspecified, TimeoutError: Timeout: Unspecified, TimeoutError: Timeout: Unspecified, TimeoutError: Timeout: Unspecified, TimeoutError: Timeout: Unspecified, TimeoutError: Timeout: Unspecified, TimeoutError: Timeout: Unspecified, TimeoutError: Timeout: Unspecified, TimeoutError: Timeout: Unspecified, TimeoutError: Timeout: Unspecified, TimeoutError: Timeout: Unspecified, TimeoutError: Timeout: Unspecified, TimeoutError: Timeout: Unspecified, TimeoutError: Timeout: Unspecified, TimeoutError: Timeout: Unspecified, TimeoutError: Timeout: Unspecified, TimeoutError: Timeout: Unspecified\n"
     ]
    },
    {
     "name": "stdout",
     "output_type": "stream",
     "text": [
      "15 tweets adicionados.\n",
      "Nome da Trend:  Iowa State\n",
      "Nome da Trend:  Hasbulla\n",
      "Nome da Trend:  #TheReidOut\n",
      "Nome da Trend:  Anaheim\n",
      "Nome da Trend:  Dirk\n",
      "Nome da Trend:  Tombstone\n",
      "Nome da Trend:  PETA\n",
      "Nome da Trend:  Yeen\n",
      "Adicionando trend...\n",
      "15 tweets adicionados.\n",
      "Nome da Trend:  Seth\n",
      "Adicionando trend...\n",
      "15 tweets adicionados.\n",
      "Nome da Trend:  Ethics\n",
      "Nome da Trend:  Anaheim\n",
      "Nome da Trend:  Nestor\n",
      "Adicionando trend...\n",
      "15 tweets adicionados.\n",
      "Nome da Trend:  Trick Daddy\n",
      "Adicionando trend...\n",
      "15 tweets adicionados.\n",
      "Nome da Trend:  Meg 2\n",
      "Adicionando trend...\n",
      "15 tweets adicionados.\n",
      "Nome da Trend:  Femboy Hooters\n",
      "Nome da Trend:  Finn\n",
      "Adicionando trend...\n"
     ]
    },
    {
     "name": "stderr",
     "output_type": "stream",
     "text": [
      "Skipping unrecognised entry ID: 'promoted-tweet-1479233820897394688-83312bc5eb2de6b'\n"
     ]
    },
    {
     "name": "stdout",
     "output_type": "stream",
     "text": [
      "15 tweets adicionados.\n",
      "Nome da Trend:  Hasbulla\n",
      "Nome da Trend:  #SJSharks\n",
      "Adicionando trend...\n",
      "15 tweets adicionados.\n",
      "Nome da Trend:  #TheVoice\n",
      "Adicionando trend...\n",
      "15 tweets adicionados.\n",
      "Nome da Trend:  Gary Bettman\n",
      "Adicionando trend...\n",
      "15 tweets adicionados.\n",
      "Nome da Trend:  Oswaldo\n",
      "Adicionando trend...\n"
     ]
    },
    {
     "name": "stderr",
     "output_type": "stream",
     "text": [
      "Stopping after 20 empty pages\n"
     ]
    },
    {
     "name": "stdout",
     "output_type": "stream",
     "text": [
      "Nome da Trend:  Thibs\n",
      "Adicionando trend...\n"
     ]
    },
    {
     "name": "stderr",
     "output_type": "stream",
     "text": [
      "Skipping unrecognised entry ID: 'promoted-tweet-1652218940079128576-833b7946f6adcd2'\n"
     ]
    },
    {
     "name": "stdout",
     "output_type": "stream",
     "text": [
      "15 tweets adicionados.\n",
      "Nome da Trend:  Fantilli\n",
      "Adicionando trend...\n"
     ]
    },
    {
     "name": "stderr",
     "output_type": "stream",
     "text": [
      "Skipping unrecognised entry ID: 'promoted-tweet-1582240499234406400-833a697c2c5683d'\n"
     ]
    },
    {
     "name": "stdout",
     "output_type": "stream",
     "text": [
      "15 tweets adicionados.\n",
      "Nome da Trend:  Flyers\n",
      "Nome da Trend:  Red Wings\n",
      "Nome da Trend:  Blackhawks\n",
      "Nome da Trend:  Goth IHOP\n",
      "Nome da Trend:  #STLBlues\n",
      "Adicionando trend...\n"
     ]
    },
    {
     "name": "stderr",
     "output_type": "stream",
     "text": [
      "Skipping unrecognised entry ID: 'promoted-tweet-1652218940079128576-8335dcd222ab951'\n"
     ]
    },
    {
     "name": "stdout",
     "output_type": "stream",
     "text": [
      "15 tweets adicionados.\n",
      "Nome da Trend:  Ducks\n",
      "Nome da Trend:  Ethics\n",
      "Nome da Trend:  #YouMakeStrayKidsStay\n",
      "Adicionando trend...\n",
      "15 tweets adicionados.\n",
      "Nome da Trend:  Fantilli\n",
      "Nome da Trend:  Nestor\n",
      "Nome da Trend:  Flyers\n",
      "Nome da Trend:  Meg 2\n",
      "Nome da Trend:  Adin Hill\n",
      "Adicionando trend...\n",
      "15 tweets adicionados.\n",
      "Nome da Trend:  #WestminsterDogShow\n",
      "Adicionando trend...\n"
     ]
    },
    {
     "name": "stderr",
     "output_type": "stream",
     "text": [
      "Skipping unrecognised entry ID: 'promoted-tweet-1652218940079128576-8330c949cdc388e'\n"
     ]
    },
    {
     "name": "stdout",
     "output_type": "stream",
     "text": [
      "15 tweets adicionados.\n",
      "Nome da Trend:  #TheVoice\n",
      "Nome da Trend:  Goth IHOP\n",
      "Nome da Trend:  Hasbulla\n",
      "Nome da Trend:  Thibs\n",
      "Nome da Trend:  Dylan Cease\n",
      "Adicionando trend...\n",
      "15 tweets adicionados.\n",
      "Nome da Trend:  Tim Pool\n",
      "Nome da Trend:  #스트레이키즈\n",
      "Adicionando trend...\n"
     ]
    },
    {
     "name": "stderr",
     "output_type": "stream",
     "text": [
      "Skipping unrecognised entry ID: 'promoted-tweet-1652218940079128576-833deccfcc208b3'\n"
     ]
    },
    {
     "name": "stdout",
     "output_type": "stream",
     "text": [
      "15 tweets adicionados.\n",
      "Nome da Trend:  Blue Jackets\n",
      "Adicionando trend...\n",
      "15 tweets adicionados.\n",
      "Nome da Trend:  Brossoit\n",
      "Adicionando trend...\n",
      "15 tweets adicionados.\n",
      "Nome da Trend:  Brett Favre\n",
      "Nome da Trend:  Lindros\n",
      "Adicionando trend...\n",
      "15 tweets adicionados.\n",
      "Nome da Trend:  Red Wings\n",
      "Nome da Trend:  #TheVoice\n",
      "Nome da Trend:  #YouMakeStrayKidsStay\n",
      "Nome da Trend:  #911onFOX\n",
      "Adicionando trend...\n"
     ]
    },
    {
     "name": "stderr",
     "output_type": "stream",
     "text": [
      "Skipping unrecognised entry ID: 'promoted-tweet-1636654831937941504-8334baa9a069935'\n",
      "Skipping unrecognised entry ID: 'promoted-tweet-1652218940079128576-8336a0aad38253d'\n"
     ]
    },
    {
     "name": "stdout",
     "output_type": "stream",
     "text": [
      "15 tweets adicionados.\n",
      "Nome da Trend:  Madrigal\n",
      "Adicionando trend...\n"
     ]
    },
    {
     "name": "stderr",
     "output_type": "stream",
     "text": [
      "Skipping unrecognised entry ID: 'promoted-tweet-1643889850167226368-8330bf8a99d0c22'\n",
      "Skipping unrecognised entry ID: 'promoted-tweet-1646557384595079179-8339bfbca943f55'\n",
      "Skipping unrecognised entry ID: 'promoted-tweet-1643889850167226368-8337417902a6c45'\n"
     ]
    },
    {
     "name": "stdout",
     "output_type": "stream",
     "text": [
      "15 tweets adicionados.\n",
      "Nome da Trend:  JP Sears\n",
      "Adicionando trend...\n",
      "15 tweets adicionados.\n",
      "Nome da Trend:  Araiza\n",
      "Adicionando trend...\n",
      "15 tweets adicionados.\n",
      "Nome da Trend:  #JeopardyMasters\n",
      "Adicionando trend...\n"
     ]
    },
    {
     "name": "stderr",
     "output_type": "stream",
     "text": [
      "Skipping unrecognised entry ID: 'promoted-tweet-1636654831937941504-833cb80593388cd'\n"
     ]
    },
    {
     "name": "stdout",
     "output_type": "stream",
     "text": [
      "15 tweets adicionados.\n",
      "Nome da Trend:  Night of Champions\n",
      "Adicionando trend...\n"
     ]
    },
    {
     "name": "stderr",
     "output_type": "stream",
     "text": [
      "Skipping unrecognised entry ID: 'promoted-tweet-1646557384595079179-833472c841b736a'\n",
      "Skipping unrecognised entry ID: 'promoted-tweet-1656372777488642189-833e5b4f586400a'\n"
     ]
    },
    {
     "name": "stdout",
     "output_type": "stream",
     "text": [
      "15 tweets adicionados.\n",
      "Nome da Trend:  Meg 2\n",
      "Nome da Trend:  Goth IHOP\n",
      "Nome da Trend:  #WestminsterDogShow\n",
      "Nome da Trend:  Blue Jackets\n",
      "Nome da Trend:  Shinsuke\n",
      "Nome da Trend:  Brossoit\n",
      "Nome da Trend:  Flyers\n",
      "Nome da Trend:  Lindros\n",
      "Nome da Trend:  Willson\n",
      "Adicionando trend...\n",
      "15 tweets adicionados.\n",
      "Nome da Trend:  Glass\n",
      "Adicionando trend...\n",
      "15 tweets adicionados.\n",
      "Nome da Trend:  Seth\n",
      "Nome da Trend:  Nakamura\n",
      "Adicionando trend...\n",
      "15 tweets adicionados.\n",
      "Nome da Trend:  #TheVoice\n",
      "Nome da Trend:  #YouMakeStrayKidsStay\n",
      "Nome da Trend:  Anaheim\n",
      "Nome da Trend:  Fantilli\n",
      "Nome da Trend:  #JeopardyMasters\n",
      "Nome da Trend:  #StrangeWaysToShowAffection\n",
      "Adicionando trend...\n",
      "15 tweets adicionados.\n",
      "Nome da Trend:  Goth IHOP\n",
      "Nome da Trend:  Meg 2\n",
      "Nome da Trend:  Kane\n",
      "Adicionando trend...\n",
      "15 tweets adicionados.\n",
      "Nome da Trend:  Shinsuke\n",
      "Nome da Trend:  Brossoit\n",
      "Nome da Trend:  Thibs\n",
      "Nome da Trend:  Willson\n",
      "Nome da Trend:  Dylan Cease\n",
      "Nome da Trend:  #TheLittleMermaid\n",
      "Adicionando trend...\n",
      "15 tweets adicionados.\n",
      "Nome da Trend:  Eichel\n",
      "Adicionando trend...\n"
     ]
    },
    {
     "name": "stderr",
     "output_type": "stream",
     "text": [
      "Skipping unrecognised entry ID: 'promoted-tweet-1636654831937941504-833237c4771c905'\n"
     ]
    },
    {
     "name": "stdout",
     "output_type": "stream",
     "text": [
      "15 tweets adicionados.\n",
      "Nome da Trend:  Grimes\n",
      "Nome da Trend:  Seth\n",
      "Nome da Trend:  Ducks\n",
      "Nome da Trend:  Glass\n",
      "Nome da Trend:  #TheVoice\n",
      "Nome da Trend:  Columbus\n",
      "Adicionando trend...\n",
      "15 tweets adicionados.\n",
      "Nome da Trend:  #YouMakeStrayKidsStay\n",
      "Nome da Trend:  #911onFOX\n",
      "Nome da Trend:  #VegasBorn\n",
      "Adicionando trend...\n",
      "15 tweets adicionados.\n",
      "Nome da Trend:  #JeopardyMasters\n",
      "Nome da Trend:  Kane\n",
      "Nome da Trend:  #AdamKutnerPowerPlay\n",
      "Adicionando trend...\n"
     ]
    },
    {
     "name": "stderr",
     "output_type": "stream",
     "text": [
      "Skipping unrecognised entry ID: 'promoted-tweet-1636654831937941504-8332ba17afb2582'\n"
     ]
    },
    {
     "name": "stdout",
     "output_type": "stream",
     "text": [
      "15 tweets adicionados.\n",
      "Nome da Trend:  Goth IHOP\n",
      "Nome da Trend:  Natalya\n",
      "Adicionando trend...\n",
      "15 tweets adicionados.\n",
      "Nome da Trend:  Seth\n",
      "Nome da Trend:  Gary Payton\n",
      "Adicionando trend...\n",
      "15 tweets adicionados.\n",
      "Nome da Trend:  Willson\n",
      "Nome da Trend:  Brett Favre\n",
      "Nome da Trend:  Ducks\n",
      "Nome da Trend:  GPII\n",
      "Adicionando trend...\n",
      "15 tweets adicionados.\n",
      "Nome da Trend:  Glass\n",
      "Nome da Trend:  Donte\n",
      "Adicionando trend...\n",
      "15 tweets adicionados.\n",
      "Nome da Trend:  Dylan Cease\n",
      "Nome da Trend:  Anaheim\n",
      "Nome da Trend:  #TheVoice\n",
      "Nome da Trend:  San Andreas\n",
      "Adicionando trend...\n"
     ]
    },
    {
     "name": "stderr",
     "output_type": "stream",
     "text": [
      "Twitter responded with an error: TimeoutError: Timeout: Unspecified, TimeoutError: Timeout: Unspecified, TimeoutError: Timeout: Unspecified, TimeoutError: Timeout: Unspecified, TimeoutError: Timeout: Unspecified, TimeoutError: Timeout: Unspecified, TimeoutError: Timeout: Unspecified, TimeoutError: Timeout: Unspecified, TimeoutError: Timeout: Unspecified, TimeoutError: Timeout: Unspecified, TimeoutError: Timeout: Unspecified, TimeoutError: Timeout: Unspecified, TimeoutError: Timeout: Unspecified, TimeoutError: Timeout: Unspecified, TimeoutError: Timeout: Unspecified, TimeoutError: Timeout: Unspecified, TimeoutError: Timeout: Unspecified, TimeoutError: Timeout: Unspecified, TimeoutError: Timeout: Unspecified, TimeoutError: Timeout: Unspecified, TimeoutError: Timeout: Unspecified, TimeoutError: Timeout: Unspecified, TimeoutError: Timeout: Unspecified, TimeoutError: Timeout: Unspecified, TimeoutError: Timeout: Unspecified, TimeoutError: Timeout: Unspecified, TimeoutError: Timeout: Unspecified, TimeoutError: Timeout: Unspecified, TimeoutError: Timeout: Unspecified, TimeoutError: Timeout: Unspecified, TimeoutError: Timeout: Unspecified, TimeoutError: Timeout: Unspecified, TimeoutError: Timeout: Unspecified, TimeoutError: Timeout: Unspecified, TimeoutError: Timeout: Unspecified, TimeoutError: Timeout: Unspecified, TimeoutError: Timeout: Unspecified, TimeoutError: Timeout: Unspecified, TimeoutError: Timeout: Unspecified, TimeoutError: Timeout: Unspecified, TimeoutError: Timeout: Unspecified, TimeoutError: Timeout: Unspecified, TimeoutError: Timeout: Unspecified, TimeoutError: Timeout: Unspecified, TimeoutError: Timeout: Unspecified, TimeoutError: Timeout: Unspecified, TimeoutError: Timeout: Unspecified, TimeoutError: Timeout: Unspecified, TimeoutError: Timeout: Unspecified, TimeoutError: Timeout: Unspecified\n"
     ]
    },
    {
     "name": "stdout",
     "output_type": "stream",
     "text": [
      "15 tweets adicionados.\n",
      "Nome da Trend:  Columbus\n",
      "Nome da Trend:  Get Poole\n",
      "Adicionando trend...\n"
     ]
    },
    {
     "name": "stderr",
     "output_type": "stream",
     "text": [
      "Skipping unrecognised entry ID: 'promoted-tweet-1652218940079128576-833c1359a36c6fc'\n"
     ]
    },
    {
     "name": "stdout",
     "output_type": "stream",
     "text": [
      "15 tweets adicionados.\n",
      "Nome da Trend:  Kyla\n",
      "Adicionando trend...\n",
      "15 tweets adicionados.\n",
      "Nome da Trend:  #VegasBorn\n",
      "Nome da Trend:  Kane\n",
      "Nome da Trend:  #AdamKutnerPowerPlay\n",
      "Nome da Trend:  Night of Champions\n",
      "Nome da Trend:  Jacksonville\n",
      "Adicionando trend...\n",
      "15 tweets adicionados.\n",
      "Nome da Trend:  Goth IHOP\n",
      "Nome da Trend:  Meg 2\n",
      "Nome da Trend:  #NHLDraft\n",
      "Adicionando trend...\n"
     ]
    },
    {
     "name": "stderr",
     "output_type": "stream",
     "text": [
      "Skipping unrecognised entry ID: 'promoted-tweet-1652218940079128576-834745e3bfcce8b'\n"
     ]
    },
    {
     "name": "stdout",
     "output_type": "stream",
     "text": [
      "15 tweets adicionados.\n",
      "Nome da Trend:  Anaheim\n",
      "Nome da Trend:  Bettman\n",
      "Adicionando trend...\n",
      "15 tweets adicionados.\n",
      "Nome da Trend:  Grimes\n",
      "Nome da Trend:  Huggins\n",
      "Adicionando trend...\n"
     ]
    },
    {
     "name": "stderr",
     "output_type": "stream",
     "text": [
      "Skipping unrecognised entry ID: 'promoted-tweet-1657023461254889474-834245644766db8'\n"
     ]
    },
    {
     "name": "stdout",
     "output_type": "stream",
     "text": [
      "15 tweets adicionados.\n",
      "Nome da Trend:  Dylan Cease\n",
      "Nome da Trend:  Fantilli\n",
      "Nome da Trend:  Ducks\n",
      "Nome da Trend:  #TheVoice\n",
      "Nome da Trend:  Meg 2\n",
      "Nome da Trend:  Get Poole\n",
      "Nome da Trend:  San Andreas\n",
      "Nome da Trend:  Grimes\n",
      "Nome da Trend:  Huggins\n",
      "Nome da Trend:  Columbus\n",
      "Nome da Trend:  Rollins\n",
      "Adicionando trend...\n"
     ]
    },
    {
     "name": "stderr",
     "output_type": "stream",
     "text": [
      "Skipping unrecognised entry ID: 'promoted-tweet-1582240699516596224-8342ca96dee0618'\n"
     ]
    },
    {
     "name": "stdout",
     "output_type": "stream",
     "text": [
      "15 tweets adicionados.\n",
      "Nome da Trend:  Goth IHOP\n",
      "Nome da Trend:  #NHLDraft\n",
      "Nome da Trend:  #VegasBorn\n",
      "Nome da Trend:  Fantilli\n",
      "Nome da Trend:  Night of Champions\n",
      "Nome da Trend:  Kulture\n",
      "Adicionando trend...\n"
     ]
    },
    {
     "name": "stderr",
     "output_type": "stream",
     "text": [
      "Skipping unrecognised entry ID: 'promoted-tweet-1655992448114642944-834b55b6ce13fc2'\n",
      "Skipping unrecognised entry ID: 'promoted-tweet-1655992448114642944-834f5cdfa4f2f7c'\n",
      "Skipping unrecognised entry ID: 'promoted-tweet-1657023461254889474-8340c86ae7df377'\n"
     ]
    },
    {
     "name": "stdout",
     "output_type": "stream",
     "text": [
      "15 tweets adicionados.\n",
      "Nome da Trend:  Brett Favre\n",
      "Nome da Trend:  Dylan Cease\n",
      "Nome da Trend:  Anaheim\n",
      "Nome da Trend:  Eichel\n",
      "Nome da Trend:  Ducks\n",
      "Nome da Trend:  Seth\n",
      "Nome da Trend:  Goth IHOP\n",
      "Nome da Trend:  Seth\n",
      "Nome da Trend:  #TheVoice\n",
      "Nome da Trend:  Get Poole\n",
      "Nome da Trend:  BLOCKED BY JAMES\n",
      "Adicionando trend...\n",
      "15 tweets adicionados.\n",
      "Nome da Trend:  San Andreas\n",
      "Nome da Trend:  Columbus\n",
      "Nome da Trend:  Jake Irvin\n",
      "Adicionando trend...\n",
      "15 tweets adicionados.\n",
      "Nome da Trend:  Eichel\n",
      "Nome da Trend:  Stan Van Gundy\n",
      "Adicionando trend...\n"
     ]
    },
    {
     "name": "stderr",
     "output_type": "stream",
     "text": [
      "Skipping unrecognised entry ID: 'promoted-tweet-1652218940079128576-83479490ad1da42'\n"
     ]
    },
    {
     "name": "stdout",
     "output_type": "stream",
     "text": [
      "15 tweets adicionados.\n",
      "Nome da Trend:  Kulture\n",
      "Nome da Trend:  #VegasBorn\n",
      "Nome da Trend:  Meg 2\n",
      "Nome da Trend:  Mitchell Robinson\n",
      "Adicionando trend...\n"
     ]
    },
    {
     "name": "stderr",
     "output_type": "stream",
     "text": [
      "Skipping unrecognised entry ID: 'promoted-tweet-1646557384595079179-8345b82b82023bc'\n"
     ]
    },
    {
     "name": "stdout",
     "output_type": "stream",
     "text": [
      "15 tweets adicionados.\n",
      "Nome da Trend:  Fantilli\n",
      "Nome da Trend:  Huggins\n",
      "Nome da Trend:  Dylan Cease\n",
      "Nome da Trend:  Bettman\n",
      "Nome da Trend:  Grimes\n",
      "Nome da Trend:  Anaheim\n",
      "Nome da Trend:  #TheVoice\n",
      "Nome da Trend:  BLOCKED BY JAMES\n",
      "Nome da Trend:  Get Poole\n",
      "Nome da Trend:  Warriors in 7\n",
      "Adicionando trend...\n",
      "15 tweets adicionados.\n",
      "Nome da Trend:  Up 3-1\n",
      "Adicionando trend...\n",
      "15 tweets adicionados.\n",
      "Nome da Trend:  Live by the 3\n",
      "Adicionando trend...\n"
     ]
    },
    {
     "name": "stderr",
     "output_type": "stream",
     "text": [
      "Skipping unrecognised entry ID: 'promoted-tweet-1657023461254889474-834c87cc2ee246a'\n"
     ]
    },
    {
     "name": "stdout",
     "output_type": "stream",
     "text": [
      "15 tweets adicionados.\n",
      "Nome da Trend:  LeBron and AD\n",
      "Adicionando trend...\n"
     ]
    },
    {
     "name": "stderr",
     "output_type": "stream",
     "text": [
      "Skipping unrecognised entry ID: 'promoted-tweet-1649437801006395402-834b4f134c84a4f'\n",
      "Skipping unrecognised entry ID: 'promoted-tweet-1652870462781771776-834da537422cd07'\n"
     ]
    },
    {
     "name": "stdout",
     "output_type": "stream",
     "text": [
      "15 tweets adicionados.\n",
      "Nome da Trend:  Klutch\n",
      "Adicionando trend...\n",
      "15 tweets adicionados.\n",
      "Nome da Trend:  #VegasBorn\n",
      "Nome da Trend:  Chris Haynes\n",
      "Adicionando trend...\n",
      "15 tweets adicionados.\n",
      "Nome da Trend:  STAY READY\n",
      "Adicionando trend...\n"
     ]
    },
    {
     "name": "stderr",
     "output_type": "stream",
     "text": [
      "Could not translate t.co card URL on tweet 1657031873472634883\n"
     ]
    },
    {
     "name": "stdout",
     "output_type": "stream",
     "text": [
      "15 tweets adicionados.\n",
      "Nome da Trend:  Kim K\n",
      "Adicionando trend...\n"
     ]
    },
    {
     "name": "stderr",
     "output_type": "stream",
     "text": [
      "Skipping unrecognised entry ID: 'promoted-tweet-1636654831937941504-8340d9de0aef097'\n"
     ]
    },
    {
     "name": "stdout",
     "output_type": "stream",
     "text": [
      "15 tweets adicionados.\n",
      "Nome da Trend:  Seth\n",
      "Nome da Trend:  #TheLittleMermaid\n",
      "Nome da Trend:  Wardell\n",
      "Adicionando trend...\n"
     ]
    },
    {
     "name": "stderr",
     "output_type": "stream",
     "text": [
      "Skipping unrecognised entry ID: 'promoted-tweet-1636654831937941504-834677892819626'\n"
     ]
    },
    {
     "name": "stdout",
     "output_type": "stream",
     "text": [
      "15 tweets adicionados.\n",
      "Nome da Trend:  Montero\n",
      "Adicionando trend...\n",
      "15 tweets adicionados.\n",
      "Nome da Trend:  Stan Van Gundy\n",
      "Nome da Trend:  Trish\n",
      "Adicionando trend...\n",
      "15 tweets adicionados.\n",
      "Nome da Trend:  Donte\n",
      "Nome da Trend:  Dennis\n",
      "Adicionando trend...\n",
      "15 tweets adicionados.\n",
      "Nome da Trend:  Dubs in 7\n",
      "Adicionando trend...\n",
      "15 tweets adicionados.\n",
      "Nome da Trend:  Down 3-1\n",
      "Adicionando trend...\n",
      "15 tweets adicionados.\n",
      "Nome da Trend:  Thibs\n",
      "Nome da Trend:  #VegasBorn\n",
      "Nome da Trend:  Moody\n",
      "Adicionando trend...\n",
      "15 tweets adicionados.\n",
      "Nome da Trend:  Corgi\n",
      "Adicionando trend...\n",
      "15 tweets adicionados.\n",
      "Nome da Trend:  Stan Van Gundy\n",
      "Nome da Trend:  Wardell\n",
      "Nome da Trend:  Kim K\n",
      "Nome da Trend:  Trish\n",
      "Nome da Trend:  Montero\n",
      "Nome da Trend:  #TheLittleMermaid\n",
      "Nome da Trend:  Klutch\n",
      "Nome da Trend:  STAY READY\n",
      "Nome da Trend:  Gary Payton\n",
      "Nome da Trend:  Chris Haynes\n",
      "Nome da Trend:  Durk\n",
      "Adicionando trend...\n",
      "15 tweets adicionados.\n",
      "Nome da Trend:  Logan Gilbert\n",
      "Adicionando trend...\n",
      "15 tweets adicionados.\n",
      "Nome da Trend:  Halle\n",
      "Adicionando trend...\n",
      "15 tweets adicionados.\n",
      "Nome da Trend:  Kuminga\n",
      "Adicionando trend...\n",
      "15 tweets adicionados.\n",
      "Nome da Trend:  #نکلو_خان_کی_زندگی_بچاؤ\n",
      "Adicionando trend...\n"
     ]
    },
    {
     "name": "stderr",
     "output_type": "stream",
     "text": [
      "Skipping unrecognised entry ID: 'promoted-tweet-1636654831937941504-8349e601c399fb2'\n",
      "Skipping unrecognised entry ID: 'promoted-tweet-1479958596033019906-834151dff4f94e7'\n"
     ]
    },
    {
     "name": "stdout",
     "output_type": "stream",
     "text": [
      "15 tweets adicionados.\n",
      "Nome da Trend:  Season 17\n",
      "Adicionando trend...\n"
     ]
    },
    {
     "name": "stderr",
     "output_type": "stream",
     "text": [
      "Skipping unrecognised entry ID: 'promoted-tweet-1652218940079128576-834b61b11ef5ead'\n"
     ]
    },
    {
     "name": "stdout",
     "output_type": "stream",
     "text": [
      "15 tweets adicionados.\n",
      "Nome da Trend:  #DebtCeiling\n",
      "Adicionando trend...\n"
     ]
    },
    {
     "name": "stderr",
     "output_type": "stream",
     "text": [
      "Skipping unrecognised entry ID: 'promoted-tweet-1482049875856400389-83442b93a6e802a'\n"
     ]
    },
    {
     "name": "stdout",
     "output_type": "stream",
     "text": [
      "15 tweets adicionados.\n",
      "Nome da Trend:  Use VPN\n",
      "Adicionando trend...\n",
      "15 tweets adicionados.\n",
      "Nome da Trend:  #TuesdayThoughts\n",
      "Adicionando trend...\n"
     ]
    },
    {
     "name": "stderr",
     "output_type": "stream",
     "text": [
      "Skipping unrecognised entry ID: 'promoted-tweet-1479958596033019906-83437e8500350fb'\n",
      "Skipping unrecognised entry ID: 'promoted-tweet-1652218940079128576-834d18642cc9b5e'\n",
      "Skipping unrecognised entry ID: 'promoted-tweet-1656335699300306944-834e5bc86897ec4'\n"
     ]
    },
    {
     "name": "stdout",
     "output_type": "stream",
     "text": [
      "15 tweets adicionados.\n",
      "Nome da Trend:  #GokuDay\n",
      "Adicionando trend...\n"
     ]
    },
    {
     "name": "stderr",
     "output_type": "stream",
     "text": [
      "Skipping unrecognised entry ID: 'promoted-tweet-1636654831937941504-834b9db8c033d1f'\n"
     ]
    },
    {
     "name": "stdout",
     "output_type": "stream",
     "text": [
      "15 tweets adicionados.\n",
      "Nome da Trend:  Kodak\n",
      "Adicionando trend...\n",
      "15 tweets adicionados.\n",
      "Nome da Trend:  UofL\n",
      "Adicionando trend...\n",
      "15 tweets adicionados.\n",
      "Nome da Trend:  #tuesdaymotivations\n",
      "Adicionando trend...\n"
     ]
    },
    {
     "name": "stderr",
     "output_type": "stream",
     "text": [
      "Skipping unrecognised entry ID: 'promoted-tweet-1479958596033019906-83423f2048afafb'\n",
      "Skipping unrecognised entry ID: 'promoted-tweet-1652218940079128576-834a6e810fc0f70'\n",
      "Skipping unrecognised entry ID: 'promoted-tweet-1479958596033019906-834a1eab4edf8f3'\n"
     ]
    },
    {
     "name": "stdout",
     "output_type": "stream",
     "text": [
      "15 tweets adicionados.\n",
      "Nome da Trend:  The Good Doctor\n",
      "Adicionando trend...\n",
      "15 tweets adicionados.\n",
      "Nome da Trend:  Final Cut Pro\n",
      "Adicionando trend...\n",
      "15 tweets adicionados.\n",
      "Nome da Trend:  #kswx\n",
      "Adicionando trend...\n",
      "15 tweets adicionados.\n",
      "Nome da Trend:  Glenn\n",
      "Adicionando trend...\n",
      "15 tweets adicionados.\n",
      "Nome da Trend:  Blueface\n",
      "Adicionando trend...\n",
      "15 tweets adicionados.\n",
      "Nome da Trend:  #FreeThePill\n",
      "Adicionando trend...\n",
      "15 tweets adicionados.\n",
      "Nome da Trend:  Denji\n",
      "Adicionando trend...\n"
     ]
    },
    {
     "name": "stderr",
     "output_type": "stream",
     "text": [
      "Skipping unrecognised entry ID: 'promoted-tweet-1636654831937941504-834662fffcdf4e9'\n",
      "Twitter responded with an error: TimeoutError: Timeout: Unspecified, TimeoutError: Timeout: Unspecified, TimeoutError: Timeout: Unspecified, TimeoutError: Timeout: Unspecified, TimeoutError: Timeout: Unspecified, TimeoutError: Timeout: Unspecified, TimeoutError: Timeout: Unspecified, TimeoutError: Timeout: Unspecified, TimeoutError: Timeout: Unspecified, TimeoutError: Timeout: Unspecified, TimeoutError: Timeout: Unspecified, TimeoutError: Timeout: Unspecified, TimeoutError: Timeout: Unspecified, TimeoutError: Timeout: Unspecified, TimeoutError: Timeout: Unspecified, TimeoutError: Timeout: Unspecified, TimeoutError: Timeout: Unspecified, TimeoutError: Timeout: Unspecified, TimeoutError: Timeout: Unspecified, TimeoutError: Timeout: Unspecified, TimeoutError: Timeout: Unspecified, TimeoutError: Timeout: Unspecified, TimeoutError: Timeout: Unspecified, TimeoutError: Timeout: Unspecified, TimeoutError: Timeout: Unspecified, TimeoutError: Timeout: Unspecified, TimeoutError: Timeout: Unspecified, TimeoutError: Timeout: Unspecified, TimeoutError: Timeout: Unspecified, TimeoutError: Timeout: Unspecified, TimeoutError: Timeout: Unspecified, TimeoutError: Timeout: Unspecified, TimeoutError: Timeout: Unspecified, TimeoutError: Timeout: Unspecified, TimeoutError: Timeout: Unspecified, TimeoutError: Timeout: Unspecified, TimeoutError: Timeout: Unspecified, TimeoutError: Timeout: Unspecified, TimeoutError: Timeout: Unspecified, TimeoutError: Timeout: Unspecified, TimeoutError: Timeout: Unspecified, TimeoutError: Timeout: Unspecified, TimeoutError: Timeout: Unspecified, TimeoutError: Timeout: Unspecified, TimeoutError: Timeout: Unspecified, TimeoutError: Timeout: Unspecified, TimeoutError: Timeout: Unspecified, TimeoutError: Timeout: Unspecified, TimeoutError: Timeout: Unspecified, TimeoutError: Timeout: Unspecified, TimeoutError: Timeout: Unspecified, TimeoutError: Timeout: Unspecified\n",
      "Skipping unrecognised entry ID: 'promoted-tweet-1636654831937941504-8341ac5cf5ec5ba'\n"
     ]
    },
    {
     "name": "stdout",
     "output_type": "stream",
     "text": [
      "15 tweets adicionados.\n",
      "Nome da Trend:  Pakistan\n",
      "Adicionando trend...\n",
      "15 tweets adicionados.\n",
      "Nome da Trend:  Greenberg\n",
      "Adicionando trend...\n",
      "15 tweets adicionados.\n",
      "Nome da Trend:  Ballistic\n",
      "Adicionando trend...\n",
      "15 tweets adicionados.\n",
      "Nome da Trend:  #BehindYouSkipper\n",
      "Nome da Trend:  #نکلو_خان_کی_زندگی_بچاؤ\n",
      "Nome da Trend:  Chrisean\n",
      "Adicionando trend...\n",
      "15 tweets adicionados.\n",
      "Nome da Trend:  Use VPN\n",
      "Nome da Trend:  Final Cut Pro\n",
      "Nome da Trend:  #DebtCeiling\n",
      "Nome da Trend:  #TuesdayThoughts\n",
      "Nome da Trend:  The Little Mermaid\n",
      "Adicionando trend...\n"
     ]
    },
    {
     "name": "stderr",
     "output_type": "stream",
     "text": [
      "Skipping unrecognised entry ID: 'promoted-tweet-1582240499234406400-834d0ece4941296'\n",
      "Unavailable user in card on tweet 1657032832332492800\n",
      "User 27073265 not found in user refs in card on tweet 1657032832332492800\n"
     ]
    },
    {
     "name": "stdout",
     "output_type": "stream",
     "text": [
      "15 tweets adicionados.\n",
      "Nome da Trend:  #GokuDay\n",
      "Nome da Trend:  #kswx\n",
      "Nome da Trend:  Hozier\n",
      "Adicionando trend...\n",
      "15 tweets adicionados.\n",
      "Nome da Trend:  Fort Hood\n",
      "Adicionando trend...\n",
      "15 tweets adicionados.\n",
      "Nome da Trend:  #FreeThePill\n",
      "Nome da Trend:  Season 17\n",
      "Nome da Trend:  UofL\n",
      "Nome da Trend:  #SAFEMOON\n",
      "Adicionando trend...\n",
      "15 tweets adicionados.\n",
      "Nome da Trend:  Denji\n",
      "Nome da Trend:  The Good Doctor\n",
      "Nome da Trend:  Kodak\n",
      "Nome da Trend:  Ballistic\n",
      "Nome da Trend:  Blueface\n",
      "Nome da Trend:  Use VPN\n",
      "Nome da Trend:  #GokuDay\n",
      "Nome da Trend:  Molotov\n",
      "Adicionando trend...\n",
      "15 tweets adicionados.\n",
      "Nome da Trend:  WhatsApp\n",
      "Adicionando trend...\n"
     ]
    },
    {
     "name": "stderr",
     "output_type": "stream",
     "text": [
      "Skipping unrecognised entry ID: 'promoted-tweet-1636654831937941504-834275baa00f404'\n",
      "Skipping unrecognised entry ID: 'promoted-tweet-1636654831937941504-8341344e0aee2a4'\n",
      "Skipping unrecognised entry ID: 'promoted-tweet-1636654831937941504-834bd0003b00130'\n"
     ]
    },
    {
     "name": "stdout",
     "output_type": "stream",
     "text": [
      "15 tweets adicionados.\n",
      "Nome da Trend:  Season 17\n",
      "Nome da Trend:  #Data23\n",
      "Adicionando trend...\n"
     ]
    },
    {
     "name": "stderr",
     "output_type": "stream",
     "text": [
      "Skipping unrecognised entry ID: 'promoted-tweet-1636654831937941504-834a3dcb4ba79d1'\n"
     ]
    },
    {
     "name": "stdout",
     "output_type": "stream",
     "text": [
      "15 tweets adicionados.\n",
      "Nome da Trend:  #FreeThePill\n",
      "Nome da Trend:  The Good Doctor\n",
      "Nome da Trend:  Final Cut Pro\n",
      "Nome da Trend:  #DebtCeiling\n",
      "Nome da Trend:  Pakistan\n",
      "Nome da Trend:  Nick Cannon\n",
      "Adicionando trend...\n",
      "15 tweets adicionados.\n",
      "Nome da Trend:  Fort Hood\n",
      "Nome da Trend:  #kswx\n",
      "Nome da Trend:  Pluto\n",
      "Adicionando trend...\n"
     ]
    },
    {
     "name": "stderr",
     "output_type": "stream",
     "text": [
      "Skipping unrecognised entry ID: 'promoted-tweet-1627689875456798720-83411ce95d5d1da'\n"
     ]
    },
    {
     "name": "stdout",
     "output_type": "stream",
     "text": [
      "15 tweets adicionados.\n",
      "Nome da Trend:  Blueface\n",
      "Nome da Trend:  Glenn\n",
      "Nome da Trend:  UofL\n",
      "Nome da Trend:  Kodak\n",
      "Nome da Trend:  Ballistic\n",
      "Nome da Trend:  #نکلو_خان_کی_زندگی_بچاؤ\n",
      "Nome da Trend:  Pluto\n",
      "Nome da Trend:  WhatsApp\n",
      "Nome da Trend:  Glenn\n",
      "Nome da Trend:  Use VPN\n",
      "Nome da Trend:  Molotov\n",
      "Nome da Trend:  Final Cut Pro\n",
      "Nome da Trend:  Robert De Niro\n",
      "Adicionando trend...\n"
     ]
    },
    {
     "name": "stderr",
     "output_type": "stream",
     "text": [
      "Unavailable user in card on tweet 1657030775601000450\n",
      "User 14204245 not found in user refs in card on tweet 1657030775601000450\n"
     ]
    },
    {
     "name": "stdout",
     "output_type": "stream",
     "text": [
      "15 tweets adicionados.\n",
      "Nome da Trend:  #GokuDay\n",
      "Nome da Trend:  The Good Doctor\n",
      "Nome da Trend:  Pakistan\n",
      "Nome da Trend:  #tuesdaymotivations\n",
      "Nome da Trend:  #MIvRCB\n",
      "Adicionando trend...\n"
     ]
    },
    {
     "name": "stderr",
     "output_type": "stream",
     "text": [
      "Skipping unrecognised entry ID: 'promoted-tweet-1636654831937941504-834be390db3ed64'\n"
     ]
    },
    {
     "name": "stdout",
     "output_type": "stream",
     "text": [
      "15 tweets adicionados.\n",
      "Nome da Trend:  #FreeThePill\n",
      "Nome da Trend:  Kodak\n",
      "Nome da Trend:  #kswx\n",
      "Nome da Trend:  Landy\n",
      "Adicionando trend...\n"
     ]
    },
    {
     "name": "stderr",
     "output_type": "stream",
     "text": [
      "Skipping unrecognised entry ID: 'promoted-tweet-1626139865963237378-8347798e8f01607'\n"
     ]
    },
    {
     "name": "stdout",
     "output_type": "stream",
     "text": [
      "15 tweets adicionados.\n",
      "Nome da Trend:  Ballistic\n",
      "Nome da Trend:  The GOAT\n",
      "Adicionando trend...\n",
      "15 tweets adicionados.\n",
      "Nome da Trend:  John Brown\n",
      "Adicionando trend...\n",
      "15 tweets adicionados.\n",
      "Nome da Trend:  WhatsApp\n",
      "Nome da Trend:  Pluto\n",
      "Nome da Trend:  Pakistan\n",
      "Nome da Trend:  Molotov\n",
      "Nome da Trend:  Blueface\n",
      "Nome da Trend:  President Donald Trump\n",
      "Adicionando trend...\n",
      "15 tweets adicionados.\n",
      "Nome da Trend:  The Good Doctor\n",
      "Nome da Trend:  Sexual Assault\n",
      "Adicionando trend...\n",
      "15 tweets adicionados.\n",
      "Nome da Trend:  $5 Million\n",
      "Adicionando trend...\n",
      "15 tweets adicionados.\n",
      "Nome da Trend:  Alessandra\n",
      "Adicionando trend...\n",
      "15 tweets adicionados.\n",
      "Nome da Trend:  Appeal\n",
      "Adicionando trend...\n",
      "15 tweets adicionados.\n",
      "Nome da Trend:  D White\n",
      "Adicionando trend...\n",
      "15 tweets adicionados.\n",
      "Nome da Trend:  #ImranKhan\n",
      "Adicionando trend...\n",
      "15 tweets adicionados.\n",
      "Nome da Trend:  The GOAT\n",
      "Nome da Trend:  Courtois\n",
      "Adicionando trend...\n",
      "15 tweets adicionados.\n",
      "Nome da Trend:  Glenn\n",
      "Nome da Trend:  Fort Hood\n",
      "Nome da Trend:  Civil\n",
      "Adicionando trend...\n",
      "15 tweets adicionados.\n",
      "Nome da Trend:  John Brown\n",
      "Nome da Trend:  Tory\n",
      "Adicionando trend...\n",
      "15 tweets adicionados.\n",
      "Nome da Trend:  #trumpisguilty\n",
      "Adicionando trend...\n",
      "15 tweets adicionados.\n",
      "Nome da Trend:  Croatia\n",
      "Adicionando trend...\n",
      "15 tweets adicionados.\n",
      "Nome da Trend:  Ederson\n",
      "Adicionando trend...\n",
      "15 tweets adicionados.\n",
      "Nome da Trend:  The Good Doctor\n",
      "Nome da Trend:  Pakistan\n",
      "Nome da Trend:  Max Scherzer\n",
      "Adicionando trend...\n",
      "15 tweets adicionados.\n",
      "Nome da Trend:  #tuesdayvibe\n",
      "Adicionando trend...\n"
     ]
    },
    {
     "name": "stderr",
     "output_type": "stream",
     "text": [
      "Skipping unrecognised entry ID: 'promoted-tweet-1636654831937941504-834a3d5e2b80dda'\n"
     ]
    },
    {
     "name": "stdout",
     "output_type": "stream",
     "text": [
      "15 tweets adicionados.\n",
      "Nome da Trend:  Tory\n",
      "Nome da Trend:  Morgan Wallen\n",
      "Adicionando trend...\n",
      "15 tweets adicionados.\n",
      "Nome da Trend:  Liz Cheney\n",
      "Adicionando trend...\n",
      "15 tweets adicionados.\n",
      "Nome da Trend:  Donald J. Trump\n",
      "Adicionando trend...\n",
      "15 tweets adicionados.\n",
      "Nome da Trend:  Carvajal\n",
      "Adicionando trend...\n"
     ]
    },
    {
     "name": "stderr",
     "output_type": "stream",
     "text": [
      "Skipping unrecognised entry ID: 'promoted-tweet-1636654831937941504-834ae41ff2136a6'\n",
      "Skipping unrecognised entry ID: 'promoted-tweet-1636654831937941504-834fef2e05b78d9'\n"
     ]
    },
    {
     "name": "stdout",
     "output_type": "stream",
     "text": [
      "15 tweets adicionados.\n",
      "Nome da Trend:  DPOY\n",
      "Adicionando trend...\n",
      "15 tweets adicionados.\n",
      "Nome da Trend:  The GOAT\n",
      "Nome da Trend:  Convicted\n",
      "Adicionando trend...\n",
      "15 tweets adicionados.\n",
      "Nome da Trend:  Courtois\n",
      "Nome da Trend:  Molotov\n",
      "Nome da Trend:  Kroos\n",
      "Adicionando trend...\n",
      "15 tweets adicionados.\n",
      "Nome da Trend:  Caruso\n",
      "Adicionando trend...\n",
      "15 tweets adicionados.\n",
      "Nome da Trend:  Stormy\n",
      "Adicionando trend...\n",
      "15 tweets adicionados.\n",
      "Nome da Trend:  The GOAT\n",
      "Nome da Trend:  Molotov\n",
      "Nome da Trend:  Croatia\n",
      "Nome da Trend:  Civil\n",
      "Nome da Trend:  Access Hollywood\n",
      "Adicionando trend...\n",
      "15 tweets adicionados.\n",
      "Nome da Trend:  The Good Doctor\n",
      "Nome da Trend:  Courtois\n",
      "Nome da Trend:  Appeal\n",
      "Nome da Trend:  Carvajal\n",
      "Nome da Trend:  MTV News\n",
      "Adicionando trend...\n"
     ]
    },
    {
     "name": "stderr",
     "output_type": "stream",
     "text": [
      "Skipping unrecognised entry ID: 'promoted-tweet-1652218940079128576-834475f97f74958'\n",
      "Skipping unrecognised entry ID: 'promoted-tweet-1656117099260178437-834cb63d4f0ce5f'\n",
      "Skipping unrecognised entry ID: 'promoted-tweet-1656552717521698816-834b6bcddc5434a'\n"
     ]
    },
    {
     "name": "stdout",
     "output_type": "stream",
     "text": [
      "15 tweets adicionados.\n",
      "Nome da Trend:  #ChampionsLeague\n",
      "Adicionando trend...\n"
     ]
    },
    {
     "name": "stderr",
     "output_type": "stream",
     "text": [
      "Skipping unrecognised entry ID: 'promoted-tweet-1652218940079128576-83465ab9215c563'\n"
     ]
    },
    {
     "name": "stdout",
     "output_type": "stream",
     "text": [
      "15 tweets adicionados.\n",
      "Nome da Trend:  Tory\n",
      "Nome da Trend:  Robert De Niro\n",
      "Nome da Trend:  Jaden McDaniels\n",
      "Adicionando trend...\n",
      "15 tweets adicionados.\n",
      "Nome da Trend:  Bernardo\n",
      "Adicionando trend...\n",
      "15 tweets adicionados.\n",
      "Nome da Trend:  #NationalFentanylAwarenessDay\n",
      "Adicionando trend...\n"
     ]
    },
    {
     "name": "stderr",
     "output_type": "stream",
     "text": [
      "Skipping unrecognised entry ID: 'promoted-tweet-1636654831937941504-83432af2b9d9a68'\n"
     ]
    },
    {
     "name": "stdout",
     "output_type": "stream",
     "text": [
      "15 tweets adicionados.\n",
      "Nome da Trend:  Herb Jones\n",
      "Adicionando trend...\n",
      "15 tweets adicionados.\n",
      "Nome da Trend:  Cessa\n",
      "Adicionando trend...\n"
     ]
    },
    {
     "name": "stderr",
     "output_type": "stream",
     "text": [
      "Stopping after 20 empty pages\n"
     ]
    },
    {
     "name": "stdout",
     "output_type": "stream",
     "text": [
      "Nome da Trend:  Caruso\n",
      "Nome da Trend:  Claxton\n",
      "Adicionando trend...\n",
      "15 tweets adicionados.\n",
      "Nome da Trend:  Stormy\n",
      "Nome da Trend:  Pakistan\n",
      "Nome da Trend:  The Good Doctor\n",
      "Nome da Trend:  The GOAT\n",
      "Nome da Trend:  Croatia\n",
      "Nome da Trend:  Access Hollywood\n",
      "Nome da Trend:  Marla\n",
      "Adicionando trend...\n",
      "15 tweets adicionados.\n",
      "Nome da Trend:  MTV News\n",
      "Nome da Trend:  Tory\n",
      "Nome da Trend:  Modric\n",
      "Adicionando trend...\n"
     ]
    },
    {
     "name": "stderr",
     "output_type": "stream",
     "text": [
      "Skipping unrecognised entry ID: 'promoted-tweet-1636654831937941504-8345726d7afe54d'\n",
      "Skipping unrecognised entry ID: 'promoted-tweet-1636654831937941504-83424bca37bfe7b'\n"
     ]
    },
    {
     "name": "stdout",
     "output_type": "stream",
     "text": [
      "15 tweets adicionados.\n",
      "Nome da Trend:  #ChampionsLeague\n",
      "Nome da Trend:  Carvajal\n",
      "Nome da Trend:  Claxton\n",
      "Nome da Trend:  #PaulDiaz\n",
      "Adicionando trend...\n"
     ]
    },
    {
     "name": "stderr",
     "output_type": "stream",
     "text": [
      "Skipping unrecognised entry ID: 'promoted-tweet-1636654831937941504-834377d79894346'\n"
     ]
    },
    {
     "name": "stdout",
     "output_type": "stream",
     "text": [
      "15 tweets adicionados.\n",
      "Nome da Trend:  Herb Jones\n",
      "Nome da Trend:  Appeal\n",
      "Nome da Trend:  Bernardo\n",
      "Nome da Trend:  Denny Crum\n",
      "Adicionando trend...\n",
      "15 tweets adicionados.\n",
      "Nome da Trend:  Jaden McDaniels\n",
      "Nome da Trend:  Caruso\n",
      "Nome da Trend:  The GOAT\n",
      "Nome da Trend:  Croatia\n",
      "Nome da Trend:  Sexual Predator\n",
      "Adicionando trend...\n",
      "15 tweets adicionados.\n",
      "Nome da Trend:  Carvajal\n",
      "Nome da Trend:  #TXT_ASM_TOUR_BELMONTPARK\n",
      "Adicionando trend...\n"
     ]
    },
    {
     "name": "stderr",
     "output_type": "stream",
     "text": [
      "Skipping unrecognised entry ID: 'promoted-tweet-1636654831937941504-835a075c0047fc4'\n",
      "Skipping unrecognised entry ID: 'promoted-tweet-1643699317041946634-835b990c068c30a'\n"
     ]
    },
    {
     "name": "stdout",
     "output_type": "stream",
     "text": [
      "15 tweets adicionados.\n",
      "Nome da Trend:  Modric\n",
      "Nome da Trend:  The Good Doctor\n",
      "Nome da Trend:  Jaden McDaniels\n",
      "Nome da Trend:  Game Freak\n",
      "Adicionando trend...\n",
      "15 tweets adicionados.\n",
      "Nome da Trend:  Access Hollywood\n",
      "Nome da Trend:  Bernardo\n",
      "Nome da Trend:  MTV News\n",
      "Nome da Trend:  Appeal\n",
      "Nome da Trend:  Herb Jones\n",
      "Nome da Trend:  #ChampionsLeague\n",
      "Nome da Trend:  #NationalFentanylAwarenessDay\n",
      "Nome da Trend:  Caruso\n",
      "Nome da Trend:  Rodri\n",
      "Adicionando trend...\n",
      "15 tweets adicionados.\n",
      "Nome da Trend:  Claxton\n",
      "Nome da Trend:  Denny Crum\n",
      "Nome da Trend:  The GOAT\n",
      "Nome da Trend:  Witch Hunt\n",
      "Adicionando trend...\n",
      "15 tweets adicionados.\n",
      "Nome da Trend:  Croatia\n",
      "Nome da Trend:  Bernardo\n",
      "Nome da Trend:  vmin\n",
      "Adicionando trend...\n",
      "15 tweets adicionados.\n",
      "Nome da Trend:  The Good Doctor\n",
      "Nome da Trend:  Jaden McDaniels\n",
      "Nome da Trend:  Claxton\n",
      "Nome da Trend:  Game Freak\n",
      "Nome da Trend:  Marla\n",
      "Nome da Trend:  MTV News\n",
      "Nome da Trend:  Access Hollywood\n",
      "Nome da Trend:  #TXT_ASM_TOUR_BELMONTPARK\n",
      "Nome da Trend:  Tory\n",
      "Nome da Trend:  Robert De Niro\n",
      "Nome da Trend:  #StupidQuestionsAboutDairy\n",
      "Adicionando trend...\n",
      "15 tweets adicionados.\n",
      "Nome da Trend:  Carvajal\n",
      "Nome da Trend:  Appeal\n",
      "Nome da Trend:  Civil\n",
      "Nome da Trend:  Caruso\n",
      "Nome da Trend:  Tucker and Elon\n",
      "Adicionando trend...\n",
      "15 tweets adicionados.\n",
      "Nome da Trend:  The GOAT\n",
      "Nome da Trend:  The Good Doctor\n",
      "Nome da Trend:  Croatia\n",
      "Nome da Trend:  Stormy\n",
      "Nome da Trend:  Game Freak\n",
      "Nome da Trend:  Access Hollywood\n",
      "Nome da Trend:  Bernabeu\n",
      "Adicionando trend...\n",
      "15 tweets adicionados.\n",
      "Nome da Trend:  MTV News\n",
      "Nome da Trend:  Robert De Niro\n",
      "Nome da Trend:  Civil\n",
      "Nome da Trend:  #TXT_ASM_TOUR_BELMONTPARK\n",
      "Nome da Trend:  Jaden McDaniels\n",
      "Nome da Trend:  Modric\n",
      "Nome da Trend:  Bernardo\n",
      "Nome da Trend:  Claxton\n",
      "Nome da Trend:  Beetlejuice 2\n",
      "Adicionando trend...\n"
     ]
    },
    {
     "name": "stderr",
     "output_type": "stream",
     "text": [
      "Skipping unrecognised entry ID: 'promoted-tweet-1636654831937941504-835663399d0a45f'\n"
     ]
    },
    {
     "name": "stdout",
     "output_type": "stream",
     "text": [
      "15 tweets adicionados.\n",
      "Nome da Trend:  Denny Crum\n",
      "Nome da Trend:  George Santos\n",
      "Adicionando trend...\n",
      "15 tweets adicionados.\n",
      "Nome da Trend:  Appeal\n",
      "Nome da Trend:  #MeToo\n",
      "Adicionando trend...\n",
      "15 tweets adicionados.\n",
      "Nome da Trend:  Croatia\n",
      "Nome da Trend:  Tucker and Elon\n",
      "Nome da Trend:  5th Avenue\n",
      "Adicionando trend...\n",
      "15 tweets adicionados.\n",
      "Nome da Trend:  Game Freak\n",
      "Nome da Trend:  The GOAT\n",
      "Nome da Trend:  Convicted\n",
      "Nome da Trend:  The Good Doctor\n",
      "Nome da Trend:  Access Hollywood\n",
      "Nome da Trend:  MTV News\n",
      "Nome da Trend:  Robert De Niro\n",
      "Nome da Trend:  $5 Million\n",
      "Nome da Trend:  Bernardo\n",
      "Nome da Trend:  Modric\n",
      "Nome da Trend:  Jaden McDaniels\n",
      "Nome da Trend:  Appeal\n",
      "Nome da Trend:  Beetlejuice 2\n",
      "Nome da Trend:  Caruso\n",
      "Nome da Trend:  Bill Clinton\n",
      "Adicionando trend...\n",
      "15 tweets adicionados.\n",
      "Nome da Trend:  Claxton\n",
      "Nome da Trend:  The GOAT\n",
      "Nome da Trend:  Manchester\n",
      "Adicionando trend...\n"
     ]
    },
    {
     "name": "stderr",
     "output_type": "stream",
     "text": [
      "Skipping unrecognised entry ID: 'promoted-tweet-1650033720944893952-8357d53e70442ac'\n"
     ]
    },
    {
     "name": "stdout",
     "output_type": "stream",
     "text": [
      "15 tweets adicionados.\n",
      "Nome da Trend:  Croatia\n",
      "Nome da Trend:  Tucker and Elon\n",
      "Nome da Trend:  vmin\n",
      "Nome da Trend:  Etihad\n",
      "Adicionando trend...\n"
     ]
    },
    {
     "name": "stderr",
     "output_type": "stream",
     "text": [
      "Skipping unrecognised entry ID: 'promoted-tweet-1652218940079128576-835e3cefd9a3cc4'\n"
     ]
    },
    {
     "name": "stdout",
     "output_type": "stream",
     "text": [
      "15 tweets adicionados.\n",
      "Nome da Trend:  #kswx\n",
      "Nome da Trend:  $5 Million\n",
      "Nome da Trend:  The Good Doctor\n",
      "Nome da Trend:  Alaba\n",
      "Adicionando trend...\n"
     ]
    },
    {
     "name": "stderr",
     "output_type": "stream",
     "text": [
      "Skipping unrecognised entry ID: 'promoted-tweet-1636654831937941504-835197ebbfaa087'\n",
      "Skipping unrecognised entry ID: 'promoted-tweet-1636654831937941504-83568c044e83f43'\n"
     ]
    },
    {
     "name": "stdout",
     "output_type": "stream",
     "text": [
      "15 tweets adicionados.\n",
      "Nome da Trend:  MTV News\n",
      "Nome da Trend:  Nate Diaz\n",
      "Adicionando trend...\n",
      "15 tweets adicionados.\n",
      "Nome da Trend:  Malta\n",
      "Adicionando trend...\n",
      "15 tweets adicionados.\n",
      "Nome da Trend:  Melania\n",
      "Adicionando trend...\n",
      "15 tweets adicionados.\n",
      "Nome da Trend:  Game Freak\n",
      "Nome da Trend:  Bill Clinton\n",
      "Nome da Trend:  Marla\n",
      "Nome da Trend:  Tory Lanez\n",
      "Adicionando trend...\n",
      "15 tweets adicionados.\n",
      "Nome da Trend:  Stormy\n",
      "Nome da Trend:  Appeal\n",
      "Nome da Trend:  The GOAT\n",
      "Nome da Trend:  Alaba\n",
      "Nome da Trend:  Croatia\n",
      "Nome da Trend:  Melania\n",
      "Nome da Trend:  Tucker and Elon\n",
      "Nome da Trend:  vmin\n",
      "Nome da Trend:  #kswx\n",
      "Nome da Trend:  The Good Doctor\n",
      "Nome da Trend:  Manchester\n",
      "Nome da Trend:  Nate Diaz\n",
      "Nome da Trend:  MTV News\n",
      "Nome da Trend:  Jaden McDaniels\n",
      "Nome da Trend:  Access Hollywood\n",
      "Nome da Trend:  #Chuggamon\n",
      "Adicionando trend...\n",
      "15 tweets adicionados.\n",
      "Nome da Trend:  Etihad\n",
      "Nome da Trend:  #FreeSpeech\n",
      "Adicionando trend...\n",
      "15 tweets adicionados.\n",
      "Nome da Trend:  Marla\n",
      "Nome da Trend:  Appeal\n",
      "Nome da Trend:  John Brown\n",
      "Nome da Trend:  $5 Million\n",
      "Nome da Trend:  #MeToo\n",
      "Nome da Trend:  Manchester\n",
      "Nome da Trend:  #PHIvsBOS\n",
      "Adicionando trend...\n"
     ]
    },
    {
     "name": "stderr",
     "output_type": "stream",
     "text": [
      "Skipping unrecognised entry ID: 'promoted-tweet-1636654831937941504-83571a8bee91419'\n"
     ]
    },
    {
     "name": "stdout",
     "output_type": "stream",
     "text": [
      "15 tweets adicionados.\n",
      "Nome da Trend:  Kimberly Guilfoyle\n",
      "Adicionando trend...\n",
      "15 tweets adicionados.\n",
      "Nome da Trend:  Buck Showalter\n",
      "Adicionando trend...\n",
      "15 tweets adicionados.\n",
      "Nome da Trend:  Francisco Alvarez\n",
      "Adicionando trend...\n",
      "15 tweets adicionados.\n",
      "Nome da Trend:  #kswx\n",
      "Nome da Trend:  Derrick White\n",
      "Adicionando trend...\n",
      "15 tweets adicionados.\n",
      "Nome da Trend:  The GOAT\n",
      "Nome da Trend:  The Good Doctor\n",
      "Nome da Trend:  #USOC2023\n",
      "Adicionando trend...\n"
     ]
    },
    {
     "name": "stderr",
     "output_type": "stream",
     "text": [
      "Skipping unrecognised entry ID: 'promoted-tweet-1636654831937941504-835dc401c69926b'\n"
     ]
    },
    {
     "name": "stdout",
     "output_type": "stream",
     "text": [
      "15 tweets adicionados.\n",
      "Nome da Trend:  Vitek\n",
      "Adicionando trend...\n"
     ]
    },
    {
     "name": "stderr",
     "output_type": "stream",
     "text": [
      "Skipping unrecognised entry ID: 'promoted-tweet-1582240699516596224-835980d2544c8ea'\n"
     ]
    },
    {
     "name": "stdout",
     "output_type": "stream",
     "text": [
      "15 tweets adicionados.\n",
      "Nome da Trend:  #Chuggamon\n",
      "Nome da Trend:  Melania\n",
      "Nome da Trend:  David Peterson\n",
      "Adicionando trend...\n",
      "15 tweets adicionados.\n",
      "Nome da Trend:  #FreeSpeech\n",
      "Nome da Trend:  Etihad\n",
      "Nome da Trend:  Access Hollywood\n",
      "Nome da Trend:  Appeal\n",
      "Nome da Trend:  $5 Million\n",
      "Nome da Trend:  #MeToo\n",
      "Nome da Trend:  Imagine Dragons\n",
      "Adicionando trend...\n"
     ]
    },
    {
     "name": "stderr",
     "output_type": "stream",
     "text": [
      "Skipping unrecognised entry ID: 'promoted-tweet-1653811104596865026-835c6cdcdf7425f'\n"
     ]
    },
    {
     "name": "stdout",
     "output_type": "stream",
     "text": [
      "15 tweets adicionados.\n",
      "Nome da Trend:  Canha\n",
      "Adicionando trend...\n"
     ]
    },
    {
     "name": "stderr",
     "output_type": "stream",
     "text": [
      "Skipping unrecognised entry ID: 'promoted-tweet-1654657407203659779-8351863b242d85f'\n"
     ]
    },
    {
     "name": "stdout",
     "output_type": "stream",
     "text": [
      "15 tweets adicionados.\n",
      "Nome da Trend:  Kimberly Guilfoyle\n",
      "Nome da Trend:  Ridiculousness\n",
      "Adicionando trend...\n",
      "15 tweets adicionados.\n",
      "Nome da Trend:  Romney\n",
      "Adicionando trend...\n",
      "15 tweets adicionados.\n",
      "Nome da Trend:  The Good Doctor\n",
      "Nome da Trend:  Planet Her\n",
      "Adicionando trend...\n",
      "15 tweets adicionados.\n",
      "Nome da Trend:  Henry Davis\n",
      "Adicionando trend...\n",
      "15 tweets adicionados.\n",
      "Nome da Trend:  The GOAT\n",
      "Nome da Trend:  #TuckerOnTwitter\n",
      "Adicionando trend...\n",
      "15 tweets adicionados.\n",
      "Nome da Trend:  #SupermanAndLois\n",
      "Adicionando trend...\n"
     ]
    },
    {
     "name": "stderr",
     "output_type": "stream",
     "text": [
      "Skipping unrecognised entry ID: 'promoted-tweet-1636654831937941504-835faf4abd1e07e'\n"
     ]
    },
    {
     "name": "stdout",
     "output_type": "stream",
     "text": [
      "15 tweets adicionados.\n",
      "Nome da Trend:  #smiletwtselfieday\n",
      "Adicionando trend...\n",
      "15 tweets adicionados.\n",
      "Nome da Trend:  #QSMPGlobal\n",
      "Adicionando trend...\n"
     ]
    },
    {
     "name": "stderr",
     "output_type": "stream",
     "text": [
      "Skipping unrecognised entry ID: 'promoted-tweet-1636654831937941504-8359ab06dc7d06a'\n"
     ]
    },
    {
     "name": "stdout",
     "output_type": "stream",
     "text": [
      "15 tweets adicionados.\n",
      "Nome da Trend:  Vitek\n",
      "Nome da Trend:  #USOC2023\n",
      "Nome da Trend:  Tropicana\n",
      "Adicionando trend...\n"
     ]
    },
    {
     "name": "stderr",
     "output_type": "stream",
     "text": [
      "Skipping unrecognised entry ID: 'promoted-tweet-1582240499234406400-835d22b9d83b0c2'\n"
     ]
    },
    {
     "name": "stdout",
     "output_type": "stream",
     "text": [
      "15 tweets adicionados.\n",
      "Nome da Trend:  Access Hollywood\n",
      "Nome da Trend:  #FreeSpeech\n",
      "Nome da Trend:  Pritchard\n",
      "Adicionando trend...\n",
      "15 tweets adicionados.\n",
      "Nome da Trend:  #BoycottCNN\n",
      "Adicionando trend...\n",
      "15 tweets adicionados.\n",
      "Nome da Trend:  The GOAT\n",
      "Nome da Trend:  Mauricio\n",
      "Adicionando trend...\n",
      "15 tweets adicionados.\n",
      "Nome da Trend:  Reggie Miller\n",
      "Adicionando trend...\n",
      "15 tweets adicionados.\n",
      "Nome da Trend:  #cowx\n",
      "Adicionando trend...\n",
      "15 tweets adicionados.\n",
      "Nome da Trend:  Imagine Dragons\n",
      "Nome da Trend:  #MomWasRightAbout\n",
      "Adicionando trend...\n"
     ]
    },
    {
     "name": "stderr",
     "output_type": "stream",
     "text": [
      "Skipping unrecognised entry ID: 'promoted-tweet-1652218940079128576-835e18b62e68fe0'\n"
     ]
    },
    {
     "name": "stdout",
     "output_type": "stream",
     "text": [
      "15 tweets adicionados.\n",
      "Nome da Trend:  Planet Her\n",
      "Nome da Trend:  Tropicana\n",
      "Nome da Trend:  #SupermanAndLois\n",
      "Nome da Trend:  Vitek\n",
      "Nome da Trend:  Ridiculousness\n",
      "Nome da Trend:  Pritchard\n",
      "Nome da Trend:  #WestminsterDogShow\n",
      "Nome da Trend:  Marla\n",
      "Nome da Trend:  Flaherty\n",
      "Adicionando trend...\n"
     ]
    },
    {
     "name": "stderr",
     "output_type": "stream",
     "text": [
      "Skipping unrecognised entry ID: 'promoted-tweet-1636654831937941504-835ca7a80852fa7'\n",
      "Skipping unrecognised entry ID: 'promoted-tweet-1480320985018499073-835723e8a6f0d18'\n"
     ]
    },
    {
     "name": "stdout",
     "output_type": "stream",
     "text": [
      "15 tweets adicionados.\n",
      "Nome da Trend:  Guillorme\n",
      "Adicionando trend...\n"
     ]
    },
    {
     "name": "stderr",
     "output_type": "stream",
     "text": [
      "Skipping unrecognised entry ID: 'promoted-tweet-1652218940079128576-835f94a21372eb7'\n"
     ]
    },
    {
     "name": "stdout",
     "output_type": "stream",
     "text": [
      "15 tweets adicionados.\n",
      "Nome da Trend:  Mazzulla\n",
      "Adicionando trend...\n"
     ]
    },
    {
     "name": "stderr",
     "output_type": "stream",
     "text": [
      "Skipping unrecognised entry ID: 'promoted-tweet-1636654831937941504-8358a077f89af44'\n"
     ]
    },
    {
     "name": "stdout",
     "output_type": "stream",
     "text": [
      "15 tweets adicionados.\n",
      "Nome da Trend:  Cano\n",
      "Adicionando trend...\n",
      "15 tweets adicionados.\n",
      "Nome da Trend:  Vientos\n",
      "Adicionando trend...\n",
      "15 tweets adicionados.\n",
      "Nome da Trend:  Imagine Dragons\n",
      "Nome da Trend:  Romney\n",
      "Nome da Trend:  Sixers in 6\n",
      "Adicionando trend...\n"
     ]
    },
    {
     "name": "stderr",
     "output_type": "stream",
     "text": [
      "Skipping unrecognised entry ID: 'promoted-tweet-1652870462488313856-83504c981939219'\n"
     ]
    },
    {
     "name": "stdout",
     "output_type": "stream",
     "text": [
      "15 tweets adicionados.\n",
      "Nome da Trend:  TD Garden\n",
      "Adicionando trend...\n",
      "15 tweets adicionados.\n",
      "Nome da Trend:  Planet Her\n",
      "Nome da Trend:  Brad Stevens\n",
      "Adicionando trend...\n",
      "15 tweets adicionados.\n",
      "Nome da Trend:  #MomWasRightAbout\n",
      "Nome da Trend:  The GOAT\n",
      "Nome da Trend:  #cowx\n",
      "Nome da Trend:  #SullivansTravels\n",
      "Adicionando trend...\n",
      "15 tweets adicionados.\n",
      "Nome da Trend:  Pritchard\n",
      "Nome da Trend:  #SupermanAndLois\n",
      "Nome da Trend:  #USOC2023\n",
      "Nome da Trend:  Vitek\n",
      "Nome da Trend:  Morel\n",
      "Nome da Trend:  Beetlejuice 2\n",
      "Nome da Trend:  Vientos\n",
      "Nome da Trend:  Cano\n",
      "Nome da Trend:  Flaherty\n",
      "Nome da Trend:  Lindy\n",
      "Adicionando trend...\n",
      "15 tweets adicionados.\n",
      "Nome da Trend:  The GOAT\n",
      "Nome da Trend:  Assad\n",
      "Adicionando trend...\n",
      "15 tweets adicionados.\n",
      "Nome da Trend:  Pauly D\n",
      "Adicionando trend...\n"
     ]
    },
    {
     "name": "stderr",
     "output_type": "stream",
     "text": [
      "Skipping unrecognised entry ID: 'promoted-tweet-1646557384595079179-83545b348c69f64'\n"
     ]
    },
    {
     "name": "stdout",
     "output_type": "stream",
     "text": [
      "15 tweets adicionados.\n",
      "Nome da Trend:  Damn Boston\n",
      "Adicionando trend...\n",
      "15 tweets adicionados.\n",
      "Nome da Trend:  Paul DeJong\n",
      "Adicionando trend...\n",
      "15 tweets adicionados.\n",
      "Nome da Trend:  Planet Her\n",
      "Nome da Trend:  TD Garden\n",
      "Nome da Trend:  MTV News\n",
      "Nome da Trend:  Soulja\n",
      "Adicionando trend...\n"
     ]
    },
    {
     "name": "stderr",
     "output_type": "stream",
     "text": [
      "Skipping unrecognised entry ID: 'promoted-tweet-1654657407203659779-8357978380ebbac'\n",
      "Skipping unrecognised entry ID: 'promoted-tweet-1637018009993658369-83522a85b06526b'\n"
     ]
    },
    {
     "name": "stdout",
     "output_type": "stream",
     "text": [
      "15 tweets adicionados.\n",
      "Nome da Trend:  Brad Stevens\n",
      "Nome da Trend:  #USOC2023\n",
      "Nome da Trend:  #cowx\n",
      "Nome da Trend:  Vitek\n",
      "Nome da Trend:  Flaherty\n",
      "Nome da Trend:  Game 5\n",
      "Adicionando trend...\n",
      "15 tweets adicionados.\n",
      "Nome da Trend:  #AllForCITY\n",
      "Adicionando trend...\n",
      "15 tweets adicionados.\n",
      "Nome da Trend:  Canha\n",
      "Nome da Trend:  Philly in 6\n",
      "Adicionando trend...\n",
      "15 tweets adicionados.\n",
      "Nome da Trend:  Morel\n",
      "Nome da Trend:  #StrosTuesday\n",
      "Adicionando trend...\n"
     ]
    },
    {
     "name": "stderr",
     "output_type": "stream",
     "text": [
      "Skipping unrecognised entry ID: 'promoted-tweet-1646557384595079179-835cdf73ec16abc'\n"
     ]
    },
    {
     "name": "stdout",
     "output_type": "stream",
     "text": [
      "15 tweets adicionados.\n",
      "Nome da Trend:  The GOAT\n",
      "Nome da Trend:  Romney\n",
      "Nome da Trend:  Reggie Miller\n",
      "Nome da Trend:  Rob Williams\n",
      "Adicionando trend...\n",
      "15 tweets adicionados.\n",
      "Nome da Trend:  #FBIMostWanted\n",
      "Adicionando trend...\n"
     ]
    },
    {
     "name": "stderr",
     "output_type": "stream",
     "text": [
      "Skipping unrecognised entry ID: 'promoted-tweet-1652218940079128576-835e84eff44f7da'\n"
     ]
    },
    {
     "name": "stdout",
     "output_type": "stream",
     "text": [
      "15 tweets adicionados.\n",
      "Nome da Trend:  Pauly D\n",
      "Nome da Trend:  Planet Her\n",
      "Nome da Trend:  Assad\n",
      "Nome da Trend:  Brad Stevens\n",
      "Nome da Trend:  TD Garden\n",
      "Nome da Trend:  #911LoneStar\n",
      "Adicionando trend...\n"
     ]
    },
    {
     "name": "stderr",
     "output_type": "stream",
     "text": [
      "Skipping unrecognised entry ID: 'promoted-tweet-1636654831937941504-835fe9328840321'\n",
      "Skipping unrecognised entry ID: 'promoted-tweet-1636654831937941504-8354fbf8b0217f0'\n"
     ]
    },
    {
     "name": "stdout",
     "output_type": "stream",
     "text": [
      "15 tweets adicionados.\n",
      "Nome da Trend:  Vitek\n",
      "Nome da Trend:  #USOC2023\n",
      "Nome da Trend:  Morel\n",
      "Nome da Trend:  #MNUFC\n",
      "Adicionando trend...\n"
     ]
    },
    {
     "name": "stderr",
     "output_type": "stream",
     "text": [
      "Skipping unrecognised entry ID: 'promoted-tweet-1652218940079128576-835cd88ddb5e2a0'\n"
     ]
    },
    {
     "name": "stdout",
     "output_type": "stream",
     "text": [
      "15 tweets adicionados.\n",
      "Nome da Trend:  #LetsGoCanes\n",
      "Adicionando trend...\n",
      "15 tweets adicionados.\n",
      "Nome da Trend:  David Ross\n",
      "Adicionando trend...\n",
      "15 tweets adicionados.\n",
      "Nome da Trend:  #AllForCITY\n",
      "Nome da Trend:  Vientos\n",
      "Nome da Trend:  Lindsey\n",
      "Adicionando trend...\n",
      "15 tweets adicionados.\n",
      "Nome da Trend:  lorde\n",
      "Adicionando trend...\n"
     ]
    },
    {
     "name": "stderr",
     "output_type": "stream",
     "text": [
      "Skipping unrecognised entry ID: 'promoted-tweet-1654657407203659779-835bd31f27527fa'\n",
      "Skipping unrecognised entry ID: 'promoted-tweet-1652218940079128576-83507abb598e4c5'\n"
     ]
    },
    {
     "name": "stdout",
     "output_type": "stream",
     "text": [
      "15 tweets adicionados.\n",
      "Nome da Trend:  Romney\n",
      "Nome da Trend:  Buddy Holly\n",
      "Adicionando trend...\n"
     ]
    },
    {
     "name": "stderr",
     "output_type": "stream",
     "text": [
      "Skipping unrecognised entry ID: 'promoted-tweet-1636654831937941504-835121393989dcf'\n"
     ]
    },
    {
     "name": "stdout",
     "output_type": "stream",
     "text": [
      "15 tweets adicionados.\n",
      "Nome da Trend:  Tony Buckets\n",
      "Adicionando trend...\n"
     ]
    },
    {
     "name": "stderr",
     "output_type": "stream",
     "text": [
      "Skipping unrecognised entry ID: 'promoted-tweet-1636654831937941504-835888d5baec514'\n"
     ]
    },
    {
     "name": "stdout",
     "output_type": "stream",
     "text": [
      "15 tweets adicionados.\n",
      "Nome da Trend:  Tom Murphy\n",
      "Adicionando trend...\n",
      "15 tweets adicionados.\n",
      "Nome da Trend:  Pauly D\n",
      "Nome da Trend:  #ForTheLoveOfPhilly\n",
      "Adicionando trend...\n"
     ]
    },
    {
     "name": "stderr",
     "output_type": "stream",
     "text": [
      "Skipping unrecognised entry ID: 'promoted-tweet-1636654831937941504-8358a65bc4d1a41'\n"
     ]
    },
    {
     "name": "stdout",
     "output_type": "stream",
     "text": [
      "15 tweets adicionados.\n",
      "Nome da Trend:  Brad Stevens\n",
      "Nome da Trend:  #FBIMostWanted\n",
      "Nome da Trend:  TD Garden\n",
      "Nome da Trend:  Assad\n",
      "Nome da Trend:  #TuckerCarlson\n",
      "Adicionando trend...\n",
      "15 tweets adicionados.\n",
      "Nome da Trend:  Braun\n",
      "Adicionando trend...\n",
      "15 tweets adicionados.\n",
      "Nome da Trend:  #USOC2023\n",
      "Nome da Trend:  Sean Payton\n",
      "Adicionando trend...\n",
      "15 tweets adicionados.\n",
      "Nome da Trend:  #LetsGoCanes\n",
      "Nome da Trend:  #MNUFC\n",
      "Nome da Trend:  David Ross\n",
      "Nome da Trend:  Lindsey\n",
      "Nome da Trend:  #Nuggets\n",
      "Adicionando trend...\n"
     ]
    },
    {
     "name": "stderr",
     "output_type": "stream",
     "text": [
      "Skipping unrecognised entry ID: 'promoted-tweet-1652218940079128576-83572d703d34e69'\n"
     ]
    },
    {
     "name": "stdout",
     "output_type": "stream",
     "text": [
      "15 tweets adicionados.\n",
      "Nome da Trend:  lorde\n",
      "Nome da Trend:  Romney\n",
      "Nome da Trend:  Terrence Ross\n",
      "Adicionando trend...\n"
     ]
    },
    {
     "name": "stderr",
     "output_type": "stream",
     "text": [
      "Skipping unrecognised entry ID: 'promoted-tweet-1636654831937941504-835ffaf37763302'\n"
     ]
    },
    {
     "name": "stdout",
     "output_type": "stream",
     "text": [
      "15 tweets adicionados.\n",
      "Nome da Trend:  #Nuggets\n",
      "Nome da Trend:  MTV News\n",
      "Nome da Trend:  Tony Buckets\n",
      "Nome da Trend:  Game 6\n",
      "Adicionando trend...\n"
     ]
    },
    {
     "name": "stderr",
     "output_type": "stream",
     "text": [
      "Skipping unrecognised entry ID: 'promoted-tweet-1041759894154698757-835395b56eff549'\n",
      "Skipping unrecognised entry ID: 'promoted-tweet-1610394285014147072-83592811da59b8f'\n"
     ]
    },
    {
     "name": "stdout",
     "output_type": "stream",
     "text": [
      "15 tweets adicionados.\n",
      "Nome da Trend:  Assad\n",
      "Nome da Trend:  Brad Stevens\n",
      "Nome da Trend:  Robo\n",
      "Adicionando trend...\n",
      "15 tweets adicionados.\n",
      "Nome da Trend:  TD Garden\n",
      "Nome da Trend:  #LetsGoCanes\n",
      "Nome da Trend:  David Ross\n",
      "Nome da Trend:  Buddy Holly\n",
      "Nome da Trend:  #ForTheLoveOfPhilly\n",
      "Nome da Trend:  #MNUFC\n",
      "Nome da Trend:  Morel\n",
      "Nome da Trend:  TJ Warren\n",
      "Adicionando trend...\n",
      "15 tweets adicionados.\n",
      "Nome da Trend:  Canha\n",
      "Nome da Trend:  #USOpenCup\n",
      "Adicionando trend...\n"
     ]
    },
    {
     "name": "stderr",
     "output_type": "stream",
     "text": [
      "Skipping unrecognised entry ID: 'promoted-tweet-1652218940079128576-8357813dcf1f6bc'\n"
     ]
    },
    {
     "name": "stdout",
     "output_type": "stream",
     "text": [
      "15 tweets adicionados.\n",
      "Nome da Trend:  lorde\n",
      "Nome da Trend:  Robo\n",
      "Nome da Trend:  Romney\n",
      "Nome da Trend:  KD and Book\n",
      "Adicionando trend...\n"
     ]
    },
    {
     "name": "stderr",
     "output_type": "stream",
     "text": [
      "Skipping unrecognised entry ID: 'promoted-tweet-1592940138086162434-83524a9a19ec7ea'\n"
     ]
    },
    {
     "name": "stdout",
     "output_type": "stream",
     "text": [
      "15 tweets adicionados.\n",
      "Nome da Trend:  #FBIMostWanted\n",
      "Nome da Trend:  TD Garden\n",
      "Nome da Trend:  Tony Buckets\n",
      "Nome da Trend:  #TuckerCarlson\n",
      "Nome da Trend:  Assad\n",
      "Nome da Trend:  Okogie\n",
      "Adicionando trend...\n",
      "15 tweets adicionados.\n",
      "Nome da Trend:  #911LoneStar\n",
      "Nome da Trend:  #CWGothamKnights\n",
      "Adicionando trend...\n"
     ]
    },
    {
     "name": "stderr",
     "output_type": "stream",
     "text": [
      "Skipping unrecognised entry ID: 'promoted-tweet-1652218940079128576-8356a1fe33c888e'\n"
     ]
    },
    {
     "name": "stdout",
     "output_type": "stream",
     "text": [
      "15 tweets adicionados.\n",
      "Nome da Trend:  #MNUFC\n",
      "Nome da Trend:  Buddy Holly\n",
      "Nome da Trend:  David Ross\n",
      "Nome da Trend:  Game 6\n",
      "Nome da Trend:  Vindman\n",
      "Adicionando trend...\n",
      "15 tweets adicionados.\n",
      "Nome da Trend:  Pritchard\n",
      "Nome da Trend:  Monty Williams\n",
      "Adicionando trend...\n",
      "15 tweets adicionados.\n",
      "Nome da Trend:  corey\n",
      "Adicionando trend...\n",
      "15 tweets adicionados.\n",
      "Nome da Trend:  TD Garden\n",
      "Nome da Trend:  #TXT_ASM_TOUR_in_NY\n",
      "Adicionando trend...\n"
     ]
    },
    {
     "name": "stderr",
     "output_type": "stream",
     "text": [
      "Skipping unrecognised entry ID: 'promoted-tweet-1643699317041946634-835436177777ea8'\n"
     ]
    },
    {
     "name": "stdout",
     "output_type": "stream",
     "text": [
      "15 tweets adicionados.\n",
      "Nome da Trend:  KD and Book\n",
      "Nome da Trend:  Assad\n",
      "Nome da Trend:  Book and KD\n",
      "Adicionando trend...\n"
     ]
    },
    {
     "name": "stderr",
     "output_type": "stream",
     "text": [
      "Skipping unrecognised entry ID: 'promoted-tweet-1592940138086162434-835a83ed5bcec2f'\n"
     ]
    },
    {
     "name": "stdout",
     "output_type": "stream",
     "text": [
      "15 tweets adicionados.\n",
      "Nome da Trend:  #ForTheLoveOfPhilly\n",
      "Nome da Trend:  corey\n",
      "Nome da Trend:  Tony Buckets\n",
      "Nome da Trend:  #USOC2023\n",
      "Nome da Trend:  #cowx\n",
      "Nome da Trend:  Hintz\n",
      "Adicionando trend...\n"
     ]
    },
    {
     "name": "stderr",
     "output_type": "stream",
     "text": [
      "Skipping unrecognised entry ID: 'promoted-tweet-1636654831937941504-8356c5202c292e5'\n"
     ]
    },
    {
     "name": "stdout",
     "output_type": "stream",
     "text": [
      "15 tweets adicionados.\n",
      "Nome da Trend:  Buddy Holly\n",
      "Nome da Trend:  Kodansha\n",
      "Adicionando trend...\n"
     ]
    },
    {
     "name": "stderr",
     "output_type": "stream",
     "text": [
      "Skipping unrecognised entry ID: 'promoted-tweet-1654657407203659779-835786a91c5ac02'\n"
     ]
    },
    {
     "name": "stdout",
     "output_type": "stream",
     "text": [
      "15 tweets adicionados.\n",
      "Nome da Trend:  #MNUFC\n",
      "Nome da Trend:  Vindman\n",
      "Nome da Trend:  Soler\n",
      "Adicionando trend...\n",
      "15 tweets adicionados.\n",
      "Nome da Trend:  Michael Porter Jr.\n",
      "Adicionando trend...\n",
      "15 tweets adicionados.\n",
      "Nome da Trend:  Okogie\n",
      "Nome da Trend:  George Kirby\n",
      "Adicionando trend...\n",
      "15 tweets adicionados.\n",
      "Nome da Trend:  Deandre Ayton\n",
      "Adicionando trend...\n",
      "15 tweets adicionados.\n",
      "Nome da Trend:  lorde\n",
      "Nome da Trend:  #TXT_ASM_TOUR_in_NY\n",
      "Nome da Trend:  Jenna Ortega\n",
      "Adicionando trend...\n",
      "15 tweets adicionados.\n",
      "Nome da Trend:  Denver\n",
      "Adicionando trend...\n",
      "15 tweets adicionados.\n",
      "Nome da Trend:  KD and Book\n",
      "Nome da Trend:  #TuckerCarlson\n",
      "Nome da Trend:  Book and KD\n",
      "Nome da Trend:  Game 6\n",
      "Nome da Trend:  Soulja\n",
      "Nome da Trend:  TD Garden\n",
      "Nome da Trend:  Assad\n",
      "Nome da Trend:  #cowx\n",
      "Nome da Trend:  Buddy Holly\n",
      "Nome da Trend:  Robo\n",
      "Nome da Trend:  #USOC2023\n",
      "Nome da Trend:  Deandre Ayton\n",
      "Nome da Trend:  corey\n",
      "Nome da Trend:  #ForTheLoveOfPhilly\n",
      "Nome da Trend:  #DallasStars\n",
      "Adicionando trend...\n"
     ]
    },
    {
     "name": "stderr",
     "output_type": "stream",
     "text": [
      "Skipping unrecognised entry ID: 'promoted-tweet-1652218940079128576-8353f32c80c3b6c'\n"
     ]
    },
    {
     "name": "stdout",
     "output_type": "stream",
     "text": [
      "15 tweets adicionados.\n",
      "Nome da Trend:  Domi\n",
      "Adicionando trend...\n",
      "15 tweets adicionados.\n",
      "Nome da Trend:  Giorno\n",
      "Adicionando trend...\n",
      "15 tweets adicionados.\n",
      "Nome da Trend:  #CSKvsDC\n",
      "Adicionando trend...\n"
     ]
    },
    {
     "name": "stderr",
     "output_type": "stream",
     "text": [
      "Skipping unrecognised entry ID: 'promoted-tweet-1652218940079128576-83563b9fbcd24c5'\n"
     ]
    },
    {
     "name": "stdout",
     "output_type": "stream",
     "text": [
      "15 tweets adicionados.\n",
      "Nome da Trend:  Harrison Bader\n",
      "Adicionando trend...\n"
     ]
    },
    {
     "name": "stderr",
     "output_type": "stream",
     "text": [
      "Unavailable user in card on tweet 1657030749009108993\n",
      "User 104230233 not found in user refs in card on tweet 1657030749009108993\n",
      "Unavailable user in card on tweet 1657003972518088707\n",
      "Unavailable user in card on tweet 1657003972518088707\n",
      "User 990982557423423488 not found in user refs in card on tweet 1657003972518088707\n",
      "User 990982557423423488 not found in user refs in card on tweet 1657003972518088707\n"
     ]
    },
    {
     "name": "stdout",
     "output_type": "stream",
     "text": [
      "15 tweets adicionados.\n",
      "Nome da Trend:  Starfire\n",
      "Adicionando trend...\n",
      "15 tweets adicionados.\n",
      "Nome da Trend:  #wednesdaythought\n",
      "Adicionando trend...\n"
     ]
    },
    {
     "name": "stderr",
     "output_type": "stream",
     "text": [
      "Skipping unrecognised entry ID: 'promoted-tweet-1646557384595079179-8364d5f6f0c3f7c'\n",
      "Skipping unrecognised entry ID: 'promoted-tweet-1646557384595079179-83617c0299a4b88'\n"
     ]
    },
    {
     "name": "stdout",
     "output_type": "stream",
     "text": [
      "15 tweets adicionados.\n",
      "Nome da Trend:  Bruce Lee\n",
      "Adicionando trend...\n",
      "15 tweets adicionados.\n",
      "Nome da Trend:  #UFC290\n",
      "Adicionando trend...\n"
     ]
    },
    {
     "name": "stderr",
     "output_type": "stream",
     "text": [
      "Skipping unrecognised entry ID: 'promoted-tweet-1652218940079128576-836715f34e928ca'\n"
     ]
    },
    {
     "name": "stdout",
     "output_type": "stream",
     "text": [
      "15 tweets adicionados.\n",
      "Nome da Trend:  Victoria Monet\n",
      "Adicionando trend...\n"
     ]
    },
    {
     "name": "stderr",
     "output_type": "stream",
     "text": [
      "Skipping unrecognised entry ID: 'promoted-tweet-1643699317041946634-8369078793ce670'\n"
     ]
    },
    {
     "name": "stdout",
     "output_type": "stream",
     "text": [
      "15 tweets adicionados.\n",
      "Nome da Trend:  Jarritos\n",
      "Adicionando trend...\n",
      "15 tweets adicionados.\n",
      "Nome da Trend:  LLCs\n",
      "Adicionando trend...\n",
      "15 tweets adicionados.\n",
      "Nome da Trend:  #WednesdayMotivation\n",
      "Adicionando trend...\n"
     ]
    },
    {
     "name": "stderr",
     "output_type": "stream",
     "text": [
      "Skipping unrecognised entry ID: 'promoted-tweet-1646557384595079179-8364f0151fb7e65'\n"
     ]
    },
    {
     "name": "stdout",
     "output_type": "stream",
     "text": [
      "15 tweets adicionados.\n",
      "Nome da Trend:  London\n",
      "Adicionando trend...\n",
      "15 tweets adicionados.\n",
      "Nome da Trend:  #NationalGolfDay\n",
      "Adicionando trend...\n",
      "15 tweets adicionados.\n",
      "Nome da Trend:  corey\n",
      "Nome da Trend:  Gene Wilder\n",
      "Adicionando trend...\n",
      "15 tweets adicionados.\n",
      "Nome da Trend:  Milady\n",
      "Adicionando trend...\n",
      "15 tweets adicionados.\n",
      "Nome da Trend:  Steve Nash\n",
      "Adicionando trend...\n"
     ]
    },
    {
     "name": "stderr",
     "output_type": "stream",
     "text": [
      "Skipping unrecognised entry ID: 'promoted-tweet-1636654831937941504-836df1cf68999f6'\n"
     ]
    },
    {
     "name": "stdout",
     "output_type": "stream",
     "text": [
      "15 tweets adicionados.\n",
      "Nome da Trend:  Christmas Day\n",
      "Adicionando trend...\n",
      "15 tweets adicionados.\n",
      "Nome da Trend:  Smite\n",
      "Adicionando trend...\n"
     ]
    },
    {
     "name": "stderr",
     "output_type": "stream",
     "text": [
      "Skipping unrecognised entry ID: 'promoted-tweet-1646557384595079179-83611a33b7b8b0f'\n"
     ]
    },
    {
     "name": "stdout",
     "output_type": "stream",
     "text": [
      "15 tweets adicionados.\n",
      "Nome da Trend:  #GoodOmens\n",
      "Adicionando trend...\n",
      "15 tweets adicionados.\n",
      "Nome da Trend:  Starfire\n",
      "Nome da Trend:  Giorno\n",
      "Nome da Trend:  #wednesdaythought\n",
      "Nome da Trend:  Bruce Lee\n",
      "Nome da Trend:  Victoria Monet\n",
      "Nome da Trend:  Harrison Bader\n",
      "Nome da Trend:  #UFC290\n",
      "Nome da Trend:  #メイドの日\n",
      "Adicionando trend...\n",
      "15 tweets adicionados.\n",
      "Nome da Trend:  Jarritos\n",
      "Nome da Trend:  #maidday\n",
      "Adicionando trend...\n",
      "15 tweets adicionados.\n",
      "Nome da Trend:  #BoycottCNN\n",
      "Nome da Trend:  Gene Wilder\n",
      "Nome da Trend:  Christmas Day\n",
      "Nome da Trend:  Milady\n",
      "Nome da Trend:  #GoodOmens\n",
      "Nome da Trend:  Rich Hill\n",
      "Adicionando trend...\n",
      "15 tweets adicionados.\n",
      "Nome da Trend:  London\n",
      "Nome da Trend:  #NationalGolfDay\n",
      "Nome da Trend:  Helmut Lang\n",
      "Adicionando trend...\n",
      "15 tweets adicionados.\n",
      "Nome da Trend:  Smite\n",
      "Nome da Trend:  Feinstein\n",
      "Adicionando trend...\n",
      "15 tweets adicionados.\n",
      "Nome da Trend:  #wednesdaythought\n",
      "Nome da Trend:  $GOOGL\n",
      "Adicionando trend...\n"
     ]
    },
    {
     "name": "stderr",
     "output_type": "stream",
     "text": [
      "Skipping unrecognised entry ID: 'promoted-tweet-1636654831937941504-836162139a9efaa'\n"
     ]
    },
    {
     "name": "stdout",
     "output_type": "stream",
     "text": [
      "15 tweets adicionados.\n",
      "Nome da Trend:  Giorno\n",
      "Nome da Trend:  Harrison Bader\n",
      "Nome da Trend:  #メイドの日2023\n",
      "Adicionando trend...\n"
     ]
    },
    {
     "name": "stderr",
     "output_type": "stream",
     "text": [
      "Skipping unrecognised entry ID: 'promoted-tweet-1636654831937941504-83670aea89aff6d'\n"
     ]
    },
    {
     "name": "stdout",
     "output_type": "stream",
     "text": [
      "15 tweets adicionados.\n",
      "Nome da Trend:  Freddie Freeman\n",
      "Adicionando trend...\n"
     ]
    },
    {
     "name": "stderr",
     "output_type": "stream",
     "text": [
      "Skipping unrecognised entry ID: 'promoted-tweet-1646557384595079179-836f373affe0af7'\n"
     ]
    },
    {
     "name": "stdout",
     "output_type": "stream",
     "text": [
      "15 tweets adicionados.\n",
      "Nome da Trend:  Guam\n",
      "Adicionando trend...\n"
     ]
    },
    {
     "name": "stderr",
     "output_type": "stream",
     "text": [
      "Skipping unrecognised entry ID: 'promoted-tweet-1652218940079128576-8369bccc6a9679a'\n"
     ]
    },
    {
     "name": "stdout",
     "output_type": "stream",
     "text": [
      "15 tweets adicionados.\n",
      "Nome da Trend:  #WednesdayMotivation\n",
      "Nome da Trend:  Portia\n",
      "Adicionando trend...\n",
      "15 tweets adicionados.\n",
      "Nome da Trend:  London\n",
      "Nome da Trend:  Gene Wilder\n",
      "Nome da Trend:  Starfire\n",
      "Nome da Trend:  #NationalGolfDay\n",
      "Nome da Trend:  #BoycottCNN\n",
      "Nome da Trend:  Janelle Monae\n",
      "Adicionando trend...\n",
      "15 tweets adicionados.\n",
      "Nome da Trend:  Rich Hill\n",
      "Nome da Trend:  Milady\n",
      "Nome da Trend:  Victoria Monet\n",
      "Nome da Trend:  Taggert\n",
      "Adicionando trend...\n",
      "15 tweets adicionados.\n",
      "Nome da Trend:  Giorno\n",
      "Nome da Trend:  Impeach\n",
      "Adicionando trend...\n"
     ]
    },
    {
     "name": "stderr",
     "output_type": "stream",
     "text": [
      "Unavailable user in card on tweet 1657014261061763077\n",
      "Unavailable user in card on tweet 1657014261061763077\n",
      "User 1062915983294300160 not found in user refs in card on tweet 1657014261061763077\n",
      "User 1062915983294300160 not found in user refs in card on tweet 1657014261061763077\n"
     ]
    },
    {
     "name": "stdout",
     "output_type": "stream",
     "text": [
      "15 tweets adicionados.\n",
      "Nome da Trend:  $GOOGL\n",
      "Nome da Trend:  Charles Manson\n",
      "Adicionando trend...\n",
      "15 tweets adicionados.\n",
      "Nome da Trend:  #SantosArrested\n",
      "Adicionando trend...\n"
     ]
    },
    {
     "name": "stderr",
     "output_type": "stream",
     "text": [
      "Skipping unrecognised entry ID: 'promoted-tweet-1650033720944893952-836429eff98abc6'\n"
     ]
    },
    {
     "name": "stdout",
     "output_type": "stream",
     "text": [
      "15 tweets adicionados.\n",
      "Nome da Trend:  #PakistanUnderSiege\n",
      "Adicionando trend...\n"
     ]
    },
    {
     "name": "stderr",
     "output_type": "stream",
     "text": [
      "Skipping unrecognised entry ID: 'promoted-tweet-1652218940079128576-836a67ef118e569'\n",
      "Skipping unrecognised entry ID: 'promoted-tweet-1636654831937941504-836164477aaac8d'\n"
     ]
    },
    {
     "name": "stdout",
     "output_type": "stream",
     "text": [
      "15 tweets adicionados.\n",
      "Nome da Trend:  Starfire\n",
      "Nome da Trend:  #WednesdayMotivation\n",
      "Nome da Trend:  Portia\n",
      "Nome da Trend:  #BoycottCNN\n",
      "Nome da Trend:  CUFF IT\n",
      "Adicionando trend...\n",
      "15 tweets adicionados.\n",
      "Nome da Trend:  Harrison Bader\n",
      "Nome da Trend:  London\n",
      "Nome da Trend:  Janelle Monae\n",
      "Nome da Trend:  Rich Hill\n",
      "Nome da Trend:  #maidday\n",
      "Nome da Trend:  Milady\n",
      "Nome da Trend:  Gene Wilder\n",
      "Nome da Trend:  Deivi Garcia\n",
      "Adicionando trend...\n",
      "15 tweets adicionados.\n",
      "Nome da Trend:  Taggert\n",
      "Nome da Trend:  #SantosArrested\n",
      "Nome da Trend:  Church Girl\n",
      "Adicionando trend...\n",
      "15 tweets adicionados.\n",
      "Nome da Trend:  Charles Manson\n",
      "Nome da Trend:  Clayton Kershaw\n",
      "Adicionando trend...\n"
     ]
    },
    {
     "name": "stderr",
     "output_type": "stream",
     "text": [
      "Skipping unrecognised entry ID: 'promoted-tweet-1652218940079128576-836ada5cd05a382'\n"
     ]
    },
    {
     "name": "stdout",
     "output_type": "stream",
     "text": [
      "15 tweets adicionados.\n",
      "Nome da Trend:  Strom Thurmond\n",
      "Adicionando trend...\n",
      "15 tweets adicionados.\n",
      "Nome da Trend:  Christmas Vacation\n",
      "Adicionando trend...\n"
     ]
    },
    {
     "name": "stderr",
     "output_type": "stream",
     "text": [
      "Skipping unrecognised entry ID: 'promoted-tweet-1622919832575279104-836fba31d4b2366'\n"
     ]
    },
    {
     "name": "stdout",
     "output_type": "stream",
     "text": [
      "15 tweets adicionados.\n",
      "Nome da Trend:  Portia\n",
      "Nome da Trend:  #maidday\n",
      "Nome da Trend:  Starfire\n",
      "Nome da Trend:  Janelle Monae\n",
      "Nome da Trend:  Black Parade\n",
      "Adicionando trend...\n",
      "15 tweets adicionados.\n",
      "Nome da Trend:  Tomori\n",
      "Adicionando trend...\n",
      "15 tweets adicionados.\n",
      "Nome da Trend:  Guam\n",
      "Nome da Trend:  Giorno\n",
      "Nome da Trend:  Miguel Vargas\n",
      "Adicionando trend...\n",
      "15 tweets adicionados.\n",
      "Nome da Trend:  Gene Wilder\n",
      "Nome da Trend:  Milady\n",
      "Nome da Trend:  BOTW\n",
      "Adicionando trend...\n"
     ]
    },
    {
     "name": "stderr",
     "output_type": "stream",
     "text": [
      "Skipping unrecognised entry ID: 'promoted-tweet-1636654831937941504-836a61d80a3b469'\n"
     ]
    },
    {
     "name": "stdout",
     "output_type": "stream",
     "text": [
      "15 tweets adicionados.\n",
      "Nome da Trend:  Colin Cowherd\n",
      "Adicionando trend...\n"
     ]
    },
    {
     "name": "stderr",
     "output_type": "stream",
     "text": [
      "Skipping unrecognised entry ID: 'promoted-tweet-1652218940079128576-836ec02919c076f'\n"
     ]
    },
    {
     "name": "stdout",
     "output_type": "stream",
     "text": [
      "15 tweets adicionados.\n",
      "Nome da Trend:  Stompees\n",
      "Adicionando trend...\n",
      "15 tweets adicionados.\n",
      "Nome da Trend:  Church Girl\n",
      "Nome da Trend:  Messias\n",
      "Adicionando trend...\n"
     ]
    },
    {
     "name": "stderr",
     "output_type": "stream",
     "text": [
      "Skipping unrecognised entry ID: 'promoted-tweet-1650033720944893952-83635a71a9380be'\n"
     ]
    },
    {
     "name": "stdout",
     "output_type": "stream",
     "text": [
      "15 tweets adicionados.\n",
      "Nome da Trend:  McCarthy\n",
      "Adicionando trend...\n",
      "15 tweets adicionados.\n",
      "Nome da Trend:  Naughty Girl\n",
      "Adicionando trend...\n",
      "15 tweets adicionados.\n",
      "Nome da Trend:  Mortal Kombat\n",
      "Adicionando trend...\n",
      "15 tweets adicionados.\n",
      "Nome da Trend:  Strom Thurmond\n",
      "Nome da Trend:  Giorno\n",
      "Nome da Trend:  #SantosArrested\n",
      "Nome da Trend:  Charles Manson\n",
      "Nome da Trend:  Christmas Vacation\n",
      "Nome da Trend:  Portia\n",
      "Nome da Trend:  #BoycottCNN\n",
      "Nome da Trend:  Virgo's Groove\n",
      "Adicionando trend...\n",
      "15 tweets adicionados.\n",
      "Nome da Trend:  Clayton Kershaw\n",
      "Nome da Trend:  #maidday\n",
      "Nome da Trend:  Heated\n",
      "Adicionando trend...\n",
      "15 tweets adicionados.\n",
      "Nome da Trend:  Milady\n",
      "Nome da Trend:  Gene Wilder\n",
      "Nome da Trend:  Starfire\n",
      "Nome da Trend:  Janelle Monae\n",
      "Nome da Trend:  Naughty Girl\n",
      "Nome da Trend:  #BoycottCNN\n",
      "Nome da Trend:  AMERICA HAS A PROBLEM\n",
      "Adicionando trend...\n",
      "15 tweets adicionados.\n",
      "Nome da Trend:  Giorno\n",
      "Nome da Trend:  #SantosArrested\n",
      "Nome da Trend:  Starfire\n",
      "Nome da Trend:  #PhillyTSTheErasTour\n",
      "Adicionando trend...\n"
     ]
    },
    {
     "name": "stderr",
     "output_type": "stream",
     "text": [
      "Skipping unrecognised entry ID: 'promoted-tweet-1636654831937941504-836e782d9528d0d'\n"
     ]
    },
    {
     "name": "stdout",
     "output_type": "stream",
     "text": [
      "15 tweets adicionados.\n",
      "Nome da Trend:  Strom Thurmond\n",
      "Nome da Trend:  Mortal Kombat\n",
      "Nome da Trend:  #メイドの日2023\n",
      "Nome da Trend:  Zacian\n",
      "Adicionando trend...\n",
      "15 tweets adicionados.\n",
      "Nome da Trend:  Virgo's Groove\n",
      "Nome da Trend:  Clayton Kershaw\n",
      "Nome da Trend:  Portia\n",
      "Nome da Trend:  Dangerously in Love\n",
      "Adicionando trend...\n",
      "15 tweets adicionados.\n",
      "Nome da Trend:  #maidday\n",
      "Nome da Trend:  Milady\n",
      "Nome da Trend:  Gene Wilder\n",
      "Nome da Trend:  #TankTheRatings\n",
      "Adicionando trend...\n",
      "15 tweets adicionados.\n",
      "Nome da Trend:  Honey Balenciaga\n",
      "Adicionando trend...\n",
      "15 tweets adicionados.\n",
      "Nome da Trend:  Naughty Girl\n",
      "Nome da Trend:  McCarthy\n",
      "Nome da Trend:  #PhillyTSTheErasTour\n",
      "Nome da Trend:  Mortal Kombat\n",
      "Nome da Trend:  Christmas Vacation\n",
      "Nome da Trend:  Strom Thurmond\n",
      "Nome da Trend:  Hulu and Disney\n",
      "Adicionando trend...\n",
      "15 tweets adicionados.\n",
      "Nome da Trend:  Virgo's Groove\n",
      "Nome da Trend:  #メイドの日2023\n",
      "Nome da Trend:  #SantosArrested\n",
      "Nome da Trend:  #BoycottCNN\n",
      "Nome da Trend:  Ben Affleck\n",
      "Adicionando trend...\n",
      "15 tweets adicionados.\n",
      "Nome da Trend:  Portia\n",
      "Nome da Trend:  #cowx\n",
      "Nome da Trend:  Starfire\n",
      "Nome da Trend:  Janelle Monae\n",
      "Nome da Trend:  Milady\n",
      "Nome da Trend:  Shingles\n",
      "Adicionando trend...\n",
      "15 tweets adicionados.\n",
      "Nome da Trend:  BOTW\n",
      "Nome da Trend:  Channel 9\n",
      "Adicionando trend...\n"
     ]
    },
    {
     "name": "stderr",
     "output_type": "stream",
     "text": [
      "Skipping unrecognised entry ID: 'promoted-tweet-1575800460476551168-836f72b04307d8c'\n",
      "Skipping unrecognised entry ID: 'promoted-tweet-1643699317041946634-8368d147f3a86f7'\n"
     ]
    },
    {
     "name": "stdout",
     "output_type": "stream",
     "text": [
      "15 tweets adicionados.\n",
      "Nome da Trend:  Naughty Girl\n",
      "Nome da Trend:  Ohioans\n",
      "Adicionando trend...\n",
      "15 tweets adicionados.\n",
      "Nome da Trend:  #PhillyTSTheErasTour\n",
      "Nome da Trend:  Hulu and Disney\n",
      "Nome da Trend:  Retire\n",
      "Adicionando trend...\n"
     ]
    },
    {
     "name": "stderr",
     "output_type": "stream",
     "text": [
      "Skipping unrecognised entry ID: 'promoted-tweet-1482049875856400389-8367d3422b3b589'\n"
     ]
    },
    {
     "name": "stdout",
     "output_type": "stream",
     "text": [
      "15 tweets adicionados.\n",
      "Nome da Trend:  Church Girl\n",
      "Nome da Trend:  Strom Thurmond\n",
      "Nome da Trend:  #SantosArrested\n",
      "Nome da Trend:  adblock\n",
      "Adicionando trend...\n",
      "15 tweets adicionados.\n",
      "Nome da Trend:  #BoycottCNN\n",
      "Nome da Trend:  #cowx\n",
      "Nome da Trend:  Virgo's Groove\n",
      "Nome da Trend:  Bob Iger\n",
      "Adicionando trend...\n",
      "15 tweets adicionados.\n",
      "Nome da Trend:  #maidday\n",
      "Nome da Trend:  Starfire\n",
      "Nome da Trend:  Ben Affleck\n",
      "Nome da Trend:  Black Parade\n",
      "Nome da Trend:  Janelle Monae\n",
      "Nome da Trend:  Gene Wilder\n",
      "Nome da Trend:  Shingles\n",
      "Nome da Trend:  Hulu\n",
      "Adicionando trend...\n"
     ]
    },
    {
     "name": "stderr",
     "output_type": "stream",
     "text": [
      "Twitter responded with an error: TimeoutError: Timeout: Unspecified, TimeoutError: Timeout: Unspecified, TimeoutError: Timeout: Unspecified, TimeoutError: Timeout: Unspecified, TimeoutError: Timeout: Unspecified, TimeoutError: Timeout: Unspecified, TimeoutError: Timeout: Unspecified, TimeoutError: Timeout: Unspecified, TimeoutError: Timeout: Unspecified, TimeoutError: Timeout: Unspecified, TimeoutError: Timeout: Unspecified, TimeoutError: Timeout: Unspecified, TimeoutError: Timeout: Unspecified, TimeoutError: Timeout: Unspecified, TimeoutError: Timeout: Unspecified, TimeoutError: Timeout: Unspecified, TimeoutError: Timeout: Unspecified, TimeoutError: Timeout: Unspecified, TimeoutError: Timeout: Unspecified, TimeoutError: Timeout: Unspecified, TimeoutError: Timeout: Unspecified, TimeoutError: Timeout: Unspecified, TimeoutError: Timeout: Unspecified, TimeoutError: Timeout: Unspecified, TimeoutError: Timeout: Unspecified, TimeoutError: Timeout: Unspecified, TimeoutError: Timeout: Unspecified, TimeoutError: Timeout: Unspecified, TimeoutError: Timeout: Unspecified, TimeoutError: Timeout: Unspecified, TimeoutError: Timeout: Unspecified, TimeoutError: Timeout: Unspecified, TimeoutError: Timeout: Unspecified, TimeoutError: Timeout: Unspecified, TimeoutError: Timeout: Unspecified, TimeoutError: Timeout: Unspecified, TimeoutError: Timeout: Unspecified, TimeoutError: Timeout: Unspecified, TimeoutError: Timeout: Unspecified, TimeoutError: Timeout: Unspecified, TimeoutError: Timeout: Unspecified, TimeoutError: Timeout: Unspecified, TimeoutError: Timeout: Unspecified, TimeoutError: Timeout: Unspecified, TimeoutError: Timeout: Unspecified, TimeoutError: Timeout: Unspecified, TimeoutError: Timeout: Unspecified, TimeoutError: Timeout: Unspecified, TimeoutError: Timeout: Unspecified, TimeoutError: Timeout: Unspecified\n"
     ]
    },
    {
     "name": "stdout",
     "output_type": "stream",
     "text": [
      "15 tweets adicionados.\n",
      "Nome da Trend:  Church Girl\n",
      "Nome da Trend:  Retire\n",
      "Nome da Trend:  #PhillyTSTheErasTour\n",
      "Nome da Trend:  adblock\n",
      "Nome da Trend:  Strom Thurmond\n",
      "Nome da Trend:  #cowx\n",
      "Nome da Trend:  Virgo's Groove\n",
      "Nome da Trend:  #SantosArrested\n",
      "Nome da Trend:  #maidday\n",
      "Nome da Trend:  Christmas Vacation\n",
      "Nome da Trend:  Giorno\n",
      "Nome da Trend:  Ohioans\n",
      "Nome da Trend:  Ben Affleck\n",
      "Nome da Trend:  Black Parade\n",
      "Nome da Trend:  Georgie\n",
      "Adicionando trend...\n",
      "15 tweets adicionados.\n",
      "Nome da Trend:  Janelle Monae\n",
      "Nome da Trend:  Bernies\n",
      "Adicionando trend...\n"
     ]
    },
    {
     "name": "stderr",
     "output_type": "stream",
     "text": [
      "Twitter responded with an error: TimeoutError: Timeout: Unspecified, TimeoutError: Timeout: Unspecified, TimeoutError: Timeout: Unspecified, TimeoutError: Timeout: Unspecified, TimeoutError: Timeout: Unspecified, TimeoutError: Timeout: Unspecified, TimeoutError: Timeout: Unspecified, TimeoutError: Timeout: Unspecified, TimeoutError: Timeout: Unspecified, TimeoutError: Timeout: Unspecified, TimeoutError: Timeout: Unspecified, TimeoutError: Timeout: Unspecified, TimeoutError: Timeout: Unspecified, TimeoutError: Timeout: Unspecified, TimeoutError: Timeout: Unspecified, TimeoutError: Timeout: Unspecified, TimeoutError: Timeout: Unspecified, TimeoutError: Timeout: Unspecified, TimeoutError: Timeout: Unspecified, TimeoutError: Timeout: Unspecified, TimeoutError: Timeout: Unspecified, TimeoutError: Timeout: Unspecified, TimeoutError: Timeout: Unspecified, TimeoutError: Timeout: Unspecified, TimeoutError: Timeout: Unspecified, TimeoutError: Timeout: Unspecified, TimeoutError: Timeout: Unspecified, TimeoutError: Timeout: Unspecified, TimeoutError: Timeout: Unspecified, TimeoutError: Timeout: Unspecified, TimeoutError: Timeout: Unspecified, TimeoutError: Timeout: Unspecified, TimeoutError: Timeout: Unspecified, TimeoutError: Timeout: Unspecified, TimeoutError: Timeout: Unspecified, TimeoutError: Timeout: Unspecified, TimeoutError: Timeout: Unspecified, TimeoutError: Timeout: Unspecified, TimeoutError: Timeout: Unspecified, TimeoutError: Timeout: Unspecified, TimeoutError: Timeout: Unspecified, TimeoutError: Timeout: Unspecified, TimeoutError: Timeout: Unspecified, TimeoutError: Timeout: Unspecified, TimeoutError: Timeout: Unspecified, TimeoutError: Timeout: Unspecified, TimeoutError: Timeout: Unspecified, TimeoutError: Timeout: Unspecified, TimeoutError: Timeout: Unspecified, TimeoutError: Timeout: Unspecified\n"
     ]
    },
    {
     "name": "stdout",
     "output_type": "stream",
     "text": [
      "15 tweets adicionados.\n",
      "Nome da Trend:  $DIS\n",
      "Adicionando trend...\n"
     ]
    },
    {
     "name": "stderr",
     "output_type": "stream",
     "text": [
      "Skipping unrecognised entry ID: 'promoted-tweet-1482049875856400389-836f96dad8e19b9'\n",
      "Skipping unrecognised entry ID: 'promoted-tweet-1482049875856400389-83663bce30d19d3'\n"
     ]
    },
    {
     "name": "stdout",
     "output_type": "stream",
     "text": [
      "15 tweets adicionados.\n",
      "Nome da Trend:  Shingles\n",
      "Nome da Trend:  Hulu\n",
      "Nome da Trend:  Church Girl\n",
      "Nome da Trend:  Giorno\n",
      "Nome da Trend:  Ohioans\n",
      "Nome da Trend:  #cowx\n",
      "Nome da Trend:  #SantosArrested\n",
      "Nome da Trend:  #SUGA_AgustD_TOUR_in_LA\n",
      "Adicionando trend...\n"
     ]
    },
    {
     "name": "stderr",
     "output_type": "stream",
     "text": [
      "Skipping unrecognised entry ID: 'promoted-tweet-1643699317041946634-836667bae4572dc'\n"
     ]
    },
    {
     "name": "stdout",
     "output_type": "stream",
     "text": [
      "15 tweets adicionados.\n",
      "Nome da Trend:  #maidday\n",
      "Nome da Trend:  Strom Thurmond\n",
      "Nome da Trend:  #PhillyTSTheErasTour\n",
      "Nome da Trend:  Retire\n",
      "Nome da Trend:  Virgo's Groove\n",
      "Nome da Trend:  Mancuso\n",
      "Adicionando trend...\n",
      "15 tweets adicionados.\n",
      "Nome da Trend:  Dry Eye Syndrome\n",
      "Adicionando trend...\n",
      "15 tweets adicionados.\n",
      "Nome da Trend:  #メイドの日2023\n",
      "Nome da Trend:  Ben Affleck\n",
      "Nome da Trend:  Georgie\n",
      "Nome da Trend:  Jaime Foxx\n",
      "Adicionando trend...\n"
     ]
    },
    {
     "name": "stderr",
     "output_type": "stream",
     "text": [
      "Unavailable user in card on tweet 1657007454725472257\n",
      "User 14204245 not found in user refs in card on tweet 1657007454725472257\n"
     ]
    },
    {
     "name": "stdout",
     "output_type": "stream",
     "text": [
      "15 tweets adicionados.\n",
      "Nome da Trend:  Janelle Monae\n",
      "Nome da Trend:  Stroke\n",
      "Adicionando trend...\n",
      "15 tweets adicionados.\n",
      "Nome da Trend:  Church Girl\n",
      "Nome da Trend:  Hulu\n",
      "Nome da Trend:  Ohioans\n",
      "Nome da Trend:  Giorno\n",
      "Nome da Trend:  #SUGA_AgustD_TOUR_in_LA\n",
      "Nome da Trend:  Strom Thurmond\n",
      "Nome da Trend:  #maidday\n",
      "Nome da Trend:  #PhillyTSTheErasTour\n",
      "Nome da Trend:  Mancuso\n",
      "Nome da Trend:  #SantosArrested\n",
      "Nome da Trend:  Dry Eye Syndrome\n",
      "Nome da Trend:  #CNNTownhall\n",
      "Adicionando trend...\n"
     ]
    },
    {
     "name": "stderr",
     "output_type": "stream",
     "text": [
      "Skipping unrecognised entry ID: 'promoted-tweet-1652218940079128576-8361421a9f918df'\n"
     ]
    },
    {
     "name": "stdout",
     "output_type": "stream",
     "text": [
      "15 tweets adicionados.\n",
      "Nome da Trend:  Jaime Foxx\n",
      "Nome da Trend:  #cowx\n",
      "Nome da Trend:  Retire\n",
      "Nome da Trend:  Janelle Monae\n",
      "Nome da Trend:  Dame\n",
      "Adicionando trend...\n",
      "15 tweets adicionados.\n",
      "Nome da Trend:  Gene Wilder\n",
      "Nome da Trend:  Ben Affleck\n",
      "Nome da Trend:  DiFi\n",
      "Adicionando trend...\n",
      "15 tweets adicionados.\n",
      "Nome da Trend:  RIP Bernie\n",
      "Adicionando trend...\n",
      "15 tweets adicionados.\n",
      "Nome da Trend:  Hulu\n",
      "Nome da Trend:  #CNNTownhall\n",
      "Nome da Trend:  #cowx\n",
      "Nome da Trend:  #maidday\n",
      "Nome da Trend:  Claudio\n",
      "Adicionando trend...\n",
      "15 tweets adicionados.\n",
      "Nome da Trend:  Jared\n",
      "Adicionando trend...\n",
      "15 tweets adicionados.\n",
      "Nome da Trend:  Trea Turner\n",
      "Adicionando trend...\n",
      "15 tweets adicionados.\n",
      "Nome da Trend:  #PhillyTSTheErasTour\n",
      "Nome da Trend:  Strom Thurmond\n",
      "Nome da Trend:  Flagrant 1\n",
      "Adicionando trend...\n"
     ]
    },
    {
     "name": "stderr",
     "output_type": "stream",
     "text": [
      "Skipping unrecognised entry ID: 'promoted-tweet-1636654831937941504-83684d2a88c90c0'\n"
     ]
    },
    {
     "name": "stdout",
     "output_type": "stream",
     "text": [
      "15 tweets adicionados.\n",
      "Nome da Trend:  Janelle Monae\n",
      "Nome da Trend:  #SantosArrested\n",
      "Nome da Trend:  Guam\n",
      "Nome da Trend:  Dame\n",
      "Nome da Trend:  Hunter Greene\n",
      "Adicionando trend...\n",
      "15 tweets adicionados.\n",
      "Nome da Trend:  Bo Bichette\n",
      "Adicionando trend...\n",
      "15 tweets adicionados.\n",
      "Nome da Trend:  JD Vance\n",
      "Adicionando trend...\n",
      "15 tweets adicionados.\n",
      "Nome da Trend:  Bob Iger\n",
      "Nome da Trend:  Ron Johnson\n",
      "Adicionando trend...\n",
      "15 tweets adicionados.\n",
      "Nome da Trend:  #PhillyTSTheErasTour\n",
      "Nome da Trend:  #cowx\n",
      "Nome da Trend:  Jeff Jarrett\n",
      "Adicionando trend...\n",
      "15 tweets adicionados.\n",
      "Nome da Trend:  Guam\n",
      "Nome da Trend:  JD Vance\n",
      "Nome da Trend:  Gudas\n",
      "Adicionando trend...\n",
      "15 tweets adicionados.\n",
      "Nome da Trend:  Thunder Rosa\n",
      "Adicionando trend...\n",
      "15 tweets adicionados.\n",
      "Nome da Trend:  Flagrant 1\n",
      "Nome da Trend:  Lance Lynn\n",
      "Adicionando trend...\n"
     ]
    },
    {
     "name": "stderr",
     "output_type": "stream",
     "text": [
      "Skipping unrecognised entry ID: 'promoted-tweet-1636654831937941504-8362168a6919c3f'\n"
     ]
    },
    {
     "name": "stdout",
     "output_type": "stream",
     "text": [
      "15 tweets adicionados.\n",
      "Nome da Trend:  #TheThinMan\n",
      "Adicionando trend...\n"
     ]
    },
    {
     "name": "stderr",
     "output_type": "stream",
     "text": [
      "Skipping unrecognised entry ID: 'promoted-tweet-1652218940079128576-8366a8428eece25'\n"
     ]
    },
    {
     "name": "stdout",
     "output_type": "stream",
     "text": [
      "15 tweets adicionados.\n",
      "Nome da Trend:  #loveyoujaden\n",
      "Adicionando trend...\n",
      "15 tweets adicionados.\n",
      "Nome da Trend:  Bello\n",
      "Adicionando trend...\n",
      "15 tweets adicionados.\n",
      "Nome da Trend:  #MAFS\n",
      "Adicionando trend...\n",
      "15 tweets adicionados.\n",
      "Nome da Trend:  Tika\n",
      "Adicionando trend...\n",
      "15 tweets adicionados.\n",
      "Nome da Trend:  Dylan Lee\n",
      "Adicionando trend...\n",
      "15 tweets adicionados.\n",
      "Nome da Trend:  Feinstein\n",
      "Nome da Trend:  Hunter Greene\n",
      "Nome da Trend:  Dame\n",
      "Nome da Trend:  Bishop Briggs\n",
      "Adicionando trend...\n"
     ]
    },
    {
     "name": "stderr",
     "output_type": "stream",
     "text": [
      "Skipping unrecognised entry ID: 'promoted-tweet-1652218940079128576-836c8ed2c57a62f'\n"
     ]
    },
    {
     "name": "stdout",
     "output_type": "stream",
     "text": [
      "15 tweets adicionados.\n",
      "Nome da Trend:  Lauri\n",
      "Adicionando trend...\n"
     ]
    },
    {
     "name": "stderr",
     "output_type": "stream",
     "text": [
      "Skipping unrecognised entry ID: 'promoted-tweet-1582240699516596224-836507ad7d2eb7f'\n"
     ]
    },
    {
     "name": "stdout",
     "output_type": "stream",
     "text": [
      "15 tweets adicionados.\n",
      "Nome da Trend:  Shingles\n",
      "Nome da Trend:  Claudio\n",
      "Nome da Trend:  Jalen Brunson\n",
      "Adicionando trend...\n",
      "15 tweets adicionados.\n",
      "Nome da Trend:  Christian Cage\n",
      "Adicionando trend...\n",
      "15 tweets adicionados.\n",
      "Nome da Trend:  #MAFS\n",
      "Nome da Trend:  Justin Verlander\n",
      "Adicionando trend...\n"
     ]
    },
    {
     "name": "stderr",
     "output_type": "stream",
     "text": [
      "Skipping unrecognised entry ID: 'promoted-tweet-1652218940079128576-8368cee2a0b5253'\n"
     ]
    },
    {
     "name": "stdout",
     "output_type": "stream",
     "text": [
      "15 tweets adicionados.\n",
      "Nome da Trend:  Yan Gomes\n",
      "Adicionando trend...\n",
      "15 tweets adicionados.\n",
      "Nome da Trend:  #loveyoujaden\n",
      "Nome da Trend:  Mr. President\n",
      "Adicionando trend...\n",
      "15 tweets adicionados.\n",
      "Nome da Trend:  Guam\n",
      "Nome da Trend:  Luka\n",
      "Adicionando trend...\n",
      "15 tweets adicionados.\n",
      "Nome da Trend:  Bello\n",
      "Nome da Trend:  Dame\n",
      "Nome da Trend:  Lance Lynn\n",
      "Nome da Trend:  Collision\n",
      "Adicionando trend...\n",
      "15 tweets adicionados.\n",
      "Nome da Trend:  Chris Licht\n",
      "Adicionando trend...\n",
      "15 tweets adicionados.\n",
      "Nome da Trend:  Bobrovsky\n",
      "Adicionando trend...\n",
      "15 tweets adicionados.\n",
      "Nome da Trend:  Feinstein\n",
      "Nome da Trend:  Daily Caller\n",
      "Adicionando trend...\n"
     ]
    },
    {
     "name": "stderr",
     "output_type": "stream",
     "text": [
      "Skipping unrecognised entry ID: 'promoted-tweet-1636654831937941504-8360d517b4c9622'\n"
     ]
    },
    {
     "name": "stdout",
     "output_type": "stream",
     "text": [
      "15 tweets adicionados.\n",
      "Nome da Trend:  Term\n",
      "Adicionando trend...\n"
     ]
    },
    {
     "name": "stderr",
     "output_type": "stream",
     "text": [
      "Skipping unrecognised entry ID: 'promoted-tweet-1652218940079128576-836ced39e4b3c5d'\n"
     ]
    },
    {
     "name": "stdout",
     "output_type": "stream",
     "text": [
      "15 tweets adicionados.\n",
      "Nome da Trend:  Thanks CNN\n",
      "Adicionando trend...\n"
     ]
    },
    {
     "name": "stderr",
     "output_type": "stream",
     "text": [
      "Skipping unrecognised entry ID: 'promoted-tweet-1636654831937941504-836f95ab58e4ac8'\n"
     ]
    },
    {
     "name": "stdout",
     "output_type": "stream",
     "text": [
      "15 tweets adicionados.\n",
      "Nome da Trend:  Verlander\n",
      "Adicionando trend...\n"
     ]
    },
    {
     "name": "stderr",
     "output_type": "stream",
     "text": [
      "Skipping unrecognised entry ID: 'promoted-tweet-1652218940079128576-836e688c6003838'\n"
     ]
    },
    {
     "name": "stdout",
     "output_type": "stream",
     "text": [
      "15 tweets adicionados.\n",
      "Nome da Trend:  Nasty Woman\n",
      "Adicionando trend...\n"
     ]
    },
    {
     "name": "stderr",
     "output_type": "stream",
     "text": [
      "Skipping unrecognised entry ID: 'promoted-tweet-1656743478540267530-8366a2a86c36ebd'\n"
     ]
    },
    {
     "name": "stdout",
     "output_type": "stream",
     "text": [
      "15 tweets adicionados.\n",
      "Nome da Trend:  Kyle Fletcher\n",
      "Adicionando trend...\n",
      "15 tweets adicionados.\n",
      "Nome da Trend:  Mr. President\n",
      "Nome da Trend:  Bello\n",
      "Nome da Trend:  House of Black\n",
      "Adicionando trend...\n",
      "15 tweets adicionados.\n",
      "Nome da Trend:  Julia Hart\n",
      "Adicionando trend...\n",
      "15 tweets adicionados.\n",
      "Nome da Trend:  Lance Lynn\n",
      "Nome da Trend:  New Hampshire\n",
      "Adicionando trend...\n"
     ]
    },
    {
     "name": "stderr",
     "output_type": "stream",
     "text": [
      "Skipping unrecognised entry ID: 'promoted-tweet-1646557384595079179-837757c4c887033'\n",
      "Skipping unrecognised entry ID: 'promoted-tweet-1656117099260178437-83755e8f4b28b95'\n"
     ]
    },
    {
     "name": "stdout",
     "output_type": "stream",
     "text": [
      "15 tweets adicionados.\n",
      "Nome da Trend:  Shingles\n",
      "Nome da Trend:  All NBA\n",
      "Adicionando trend...\n"
     ]
    },
    {
     "name": "stderr",
     "output_type": "stream",
     "text": [
      "Skipping unrecognised entry ID: 'promoted-tweet-1636654831937941504-8370a264e11cb94'\n",
      "Skipping unrecognised entry ID: 'promoted-tweet-1653479217173270529-8371341d1fda309'\n",
      "Skipping unrecognised entry ID: 'promoted-tweet-1643699317041946634-837954432e09eff'\n"
     ]
    },
    {
     "name": "stdout",
     "output_type": "stream",
     "text": [
      "15 tweets adicionados.\n",
      "Nome da Trend:  Ratings\n",
      "Adicionando trend...\n",
      "15 tweets adicionados.\n",
      "Nome da Trend:  Chris Licht\n",
      "Nome da Trend:  Daily Caller\n",
      "Nome da Trend:  Minter\n",
      "Adicionando trend...\n",
      "15 tweets adicionados.\n",
      "Nome da Trend:  Cano\n",
      "Nome da Trend:  Mark Briscoe\n",
      "Adicionando trend...\n",
      "15 tweets adicionados.\n",
      "Nome da Trend:  Gudas\n",
      "Nome da Trend:  Tribel\n",
      "Adicionando trend...\n",
      "15 tweets adicionados.\n",
      "Nome da Trend:  Mr. President\n",
      "Nome da Trend:  The Knicks\n",
      "Adicionando trend...\n",
      "15 tweets adicionados.\n",
      "Nome da Trend:  Claudio\n",
      "Nome da Trend:  #DoneWithCNN\n",
      "Adicionando trend...\n"
     ]
    },
    {
     "name": "stderr",
     "output_type": "stream",
     "text": [
      "Skipping unrecognised entry ID: 'promoted-tweet-1636654831937941504-837dc7dea5041f2'\n"
     ]
    },
    {
     "name": "stdout",
     "output_type": "stream",
     "text": [
      "15 tweets adicionados.\n",
      "Nome da Trend:  Daily Caller\n",
      "Nome da Trend:  Chris Martin\n",
      "Adicionando trend...\n",
      "15 tweets adicionados.\n",
      "Nome da Trend:  House of Black\n",
      "Nome da Trend:  #ChicagoFire\n",
      "Adicionando trend...\n",
      "15 tweets adicionados.\n",
      "Nome da Trend:  Mitch\n",
      "Adicionando trend...\n",
      "15 tweets adicionados.\n",
      "Nome da Trend:  Verlander\n",
      "Nome da Trend:  Moxley\n",
      "Adicionando trend...\n",
      "15 tweets adicionados.\n",
      "Nome da Trend:  #MAFS\n",
      "Nome da Trend:  Lance Lynn\n",
      "Nome da Trend:  Drill Baby Drill\n",
      "Adicionando trend...\n",
      "15 tweets adicionados.\n",
      "Nome da Trend:  Bello\n",
      "Nome da Trend:  Shingles\n",
      "Nome da Trend:  Christian Cage\n",
      "Nome da Trend:  Grimes\n",
      "Nome da Trend:  Miro\n",
      "Adicionando trend...\n",
      "15 tweets adicionados.\n",
      "Nome da Trend:  Tony Khan\n",
      "Adicionando trend...\n",
      "15 tweets adicionados.\n",
      "Nome da Trend:  #MAFS\n",
      "Nome da Trend:  Ratings\n",
      "Nome da Trend:  Luka\n",
      "Nome da Trend:  House of Black\n",
      "Nome da Trend:  Game 6\n",
      "Nome da Trend:  Moxley\n",
      "Nome da Trend:  Claudio\n",
      "Nome da Trend:  Thibs\n",
      "Nome da Trend:  #ChicagoPD\n",
      "Adicionando trend...\n",
      "15 tweets adicionados.\n",
      "Nome da Trend:  Marner\n",
      "Adicionando trend...\n"
     ]
    },
    {
     "name": "stderr",
     "output_type": "stream",
     "text": [
      "Skipping unrecognised entry ID: 'promoted-tweet-1652218940079128576-837bcc0485f5f2e'\n"
     ]
    },
    {
     "name": "stdout",
     "output_type": "stream",
     "text": [
      "15 tweets adicionados.\n",
      "Nome da Trend:  #TheMaskedSinger\n",
      "Adicionando trend...\n"
     ]
    },
    {
     "name": "stderr",
     "output_type": "stream",
     "text": [
      "Skipping unrecognised entry ID: 'promoted-tweet-1636654831937941504-837a8120bf57f43'\n"
     ]
    },
    {
     "name": "stdout",
     "output_type": "stream",
     "text": [
      "15 tweets adicionados.\n",
      "Nome da Trend:  Lance Lynn\n",
      "Nome da Trend:  Lowry\n",
      "Adicionando trend...\n",
      "15 tweets adicionados.\n",
      "Nome da Trend:  Christian Cage\n",
      "Nome da Trend:  #Survivor\n",
      "Adicionando trend...\n",
      "15 tweets adicionados.\n",
      "Nome da Trend:  Miro\n",
      "Nome da Trend:  Duncan Robinson\n",
      "Adicionando trend...\n",
      "15 tweets adicionados.\n",
      "Nome da Trend:  Tribel\n",
      "Nome da Trend:  Josh Hart\n",
      "Adicionando trend...\n"
     ]
    },
    {
     "name": "stderr",
     "output_type": "stream",
     "text": [
      "Skipping unrecognised entry ID: 'promoted-tweet-1636654831937941504-837540d29904769'\n"
     ]
    },
    {
     "name": "stdout",
     "output_type": "stream",
     "text": [
      "15 tweets adicionados.\n",
      "Nome da Trend:  Shai\n",
      "Adicionando trend...\n"
     ]
    },
    {
     "name": "stderr",
     "output_type": "stream",
     "text": [
      "Skipping unrecognised entry ID: 'promoted-tweet-1654675883725139968-8370fc3e9cae04d'\n"
     ]
    },
    {
     "name": "stdout",
     "output_type": "stream",
     "text": [
      "15 tweets adicionados.\n",
      "Nome da Trend:  #DoneWithCNN\n",
      "Nome da Trend:  #AgustD_SUGA_Tour_in_LA\n",
      "Adicionando trend...\n"
     ]
    },
    {
     "name": "stderr",
     "output_type": "stream",
     "text": [
      "Skipping unrecognised entry ID: 'promoted-tweet-1643699317041946634-8370e6e484489ef'\n"
     ]
    },
    {
     "name": "stdout",
     "output_type": "stream",
     "text": [
      "15 tweets adicionados.\n",
      "Nome da Trend:  Moxley\n",
      "Nome da Trend:  #ChicagoPD\n",
      "Nome da Trend:  Chris Haynes\n",
      "Nome da Trend:  Mitch\n",
      "Nome da Trend:  Lance Lynn\n",
      "Nome da Trend:  Ratings\n",
      "Nome da Trend:  New Hampshire\n",
      "Nome da Trend:  Heat in 6\n",
      "Adicionando trend...\n",
      "15 tweets adicionados.\n",
      "Nome da Trend:  #MAFS\n",
      "Nome da Trend:  #Survivor44\n",
      "Adicionando trend...\n",
      "15 tweets adicionados.\n",
      "Nome da Trend:  House of Black\n",
      "Nome da Trend:  Luka\n",
      "Nome da Trend:  Julia Hart\n",
      "Nome da Trend:  Lowry\n",
      "Nome da Trend:  #TheMaskedSinger\n",
      "Nome da Trend:  #DeleteCoinbase\n",
      "Adicionando trend...\n",
      "15 tweets adicionados.\n",
      "Nome da Trend:  Kenley\n",
      "Adicionando trend...\n",
      "15 tweets adicionados.\n",
      "Nome da Trend:  Josh Hart\n",
      "Nome da Trend:  #ChicagoPD\n",
      "Nome da Trend:  #DoneWithCNN\n",
      "Nome da Trend:  KIM NAMJOON\n",
      "Adicionando trend...\n",
      "15 tweets adicionados.\n",
      "Nome da Trend:  Julia Hart\n",
      "Nome da Trend:  Chris Haynes\n",
      "Nome da Trend:  Jackie Zeman\n",
      "Adicionando trend...\n"
     ]
    },
    {
     "name": "stderr",
     "output_type": "stream",
     "text": [
      "Skipping unrecognised entry ID: 'promoted-tweet-1636654831937941504-8379874ce9a72ed'\n"
     ]
    },
    {
     "name": "stdout",
     "output_type": "stream",
     "text": [
      "15 tweets adicionados.\n",
      "Nome da Trend:  Rick Wilson\n",
      "Adicionando trend...\n"
     ]
    },
    {
     "name": "stderr",
     "output_type": "stream",
     "text": [
      "Skipping unrecognised entry ID: 'promoted-tweet-1636654831937941504-8373180acb7e800'\n"
     ]
    },
    {
     "name": "stdout",
     "output_type": "stream",
     "text": [
      "15 tweets adicionados.\n",
      "Nome da Trend:  Tribel\n",
      "Nome da Trend:  Heat in 6\n",
      "Nome da Trend:  #MAFS\n",
      "Nome da Trend:  Mitch\n",
      "Nome da Trend:  #AgustD_SUGA_Tour_in_LA\n",
      "Nome da Trend:  Ratings\n",
      "Nome da Trend:  Luka\n",
      "Nome da Trend:  Lowry\n",
      "Nome da Trend:  #TheMaskedSinger\n",
      "Nome da Trend:  All NBA\n",
      "Nome da Trend:  Kenley\n",
      "Nome da Trend:  #BROS\n",
      "Adicionando trend...\n"
     ]
    },
    {
     "name": "stderr",
     "output_type": "stream",
     "text": [
      "Skipping unrecognised entry ID: 'promoted-tweet-1636654831937941504-837ce030934deac'\n",
      "Stopping after 20 empty pages\n"
     ]
    },
    {
     "name": "stdout",
     "output_type": "stream",
     "text": [
      "Nome da Trend:  Josh Hart\n",
      "Nome da Trend:  RIP Jackie\n",
      "Adicionando trend...\n",
      "15 tweets adicionados.\n",
      "Nome da Trend:  Dave Chappelle\n",
      "Adicionando trend...\n",
      "15 tweets adicionados.\n",
      "Nome da Trend:  Babyface\n",
      "Adicionando trend...\n",
      "15 tweets adicionados.\n",
      "Nome da Trend:  KIM NAMJOON\n",
      "Nome da Trend:  Mr. President\n",
      "Nome da Trend:  #Survivor44\n",
      "Nome da Trend:  #ChicagoPD\n",
      "Nome da Trend:  Chris Haynes\n",
      "Nome da Trend:  Game 6\n",
      "Nome da Trend:  #AdamKutnerPowerPlay\n",
      "Nome da Trend:  #DoneWithCNN\n",
      "Nome da Trend:  Ratings\n",
      "Nome da Trend:  Mitch\n",
      "Nome da Trend:  Down 11\n",
      "Adicionando trend...\n",
      "15 tweets adicionados.\n",
      "Nome da Trend:  #DeleteCoinbase\n",
      "Nome da Trend:  #MAFS\n",
      "Nome da Trend:  Heat in 6\n",
      "Nome da Trend:  Steve Kerr\n",
      "Adicionando trend...\n",
      "15 tweets adicionados.\n",
      "Nome da Trend:  Tribel\n",
      "Nome da Trend:  Lowry\n",
      "Nome da Trend:  #BoycottCNN\n",
      "Nome da Trend:  Bron and AD\n",
      "Adicionando trend...\n",
      "15 tweets adicionados.\n",
      "Nome da Trend:  Damn AD\n",
      "Adicionando trend...\n",
      "15 tweets adicionados.\n",
      "Nome da Trend:  Babyface\n",
      "Nome da Trend:  Hope AD\n",
      "Adicionando trend...\n",
      "15 tweets adicionados.\n",
      "Nome da Trend:  AD and Bron\n",
      "Adicionando trend...\n",
      "15 tweets adicionados.\n",
      "Nome da Trend:  Hopefully AD\n",
      "Adicionando trend...\n",
      "15 tweets adicionados.\n",
      "Nome da Trend:  Now AD\n",
      "Adicionando trend...\n"
     ]
    },
    {
     "name": "stderr",
     "output_type": "stream",
     "text": [
      "Skipping unrecognised entry ID: 'promoted-tweet-1650603029752586272-837474f8a131e19'\n"
     ]
    },
    {
     "name": "stdout",
     "output_type": "stream",
     "text": [
      "15 tweets adicionados.\n",
      "Nome da Trend:  Street Clothes\n",
      "Adicionando trend...\n",
      "15 tweets adicionados.\n",
      "Nome da Trend:  Dave Chappelle\n",
      "Nome da Trend:  #MAFS\n",
      "Nome da Trend:  #DoneWithCNN\n",
      "Nome da Trend:  #ChicagoPD\n",
      "Nome da Trend:  #LakersVsWarriors\n",
      "Adicionando trend...\n"
     ]
    },
    {
     "name": "stderr",
     "output_type": "stream",
     "text": [
      "Skipping unrecognised entry ID: 'promoted-tweet-1636654831937941504-837f2a6eb36e4cc'\n"
     ]
    },
    {
     "name": "stdout",
     "output_type": "stream",
     "text": [
      "15 tweets adicionados.\n",
      "Nome da Trend:  Daily Caller\n",
      "Nome da Trend:  Steve Kerr\n",
      "Nome da Trend:  Corgi\n",
      "Nome da Trend:  Paul Pierce\n",
      "Adicionando trend...\n",
      "15 tweets adicionados.\n",
      "Nome da Trend:  Ratings\n",
      "Nome da Trend:  Bro AD\n",
      "Adicionando trend...\n"
     ]
    },
    {
     "name": "stderr",
     "output_type": "stream",
     "text": [
      "Skipping unrecognised entry ID: 'promoted-tweet-1652218940079128576-837c8baff1528e5'\n"
     ]
    },
    {
     "name": "stdout",
     "output_type": "stream",
     "text": [
      "15 tweets adicionados.\n",
      "Nome da Trend:  Dave Chappelle\n",
      "Nome da Trend:  Now AD\n",
      "Nome da Trend:  #BoycottCNN\n",
      "Nome da Trend:  400 Degreez\n",
      "Adicionando trend...\n",
      "15 tweets adicionados.\n",
      "Nome da Trend:  Shaq and Chuck\n",
      "Adicionando trend...\n"
     ]
    },
    {
     "name": "stderr",
     "output_type": "stream",
     "text": [
      "Twitter responded with an error: TimeoutError: Timeout: Unspecified, TimeoutError: Timeout: Unspecified, TimeoutError: Timeout: Unspecified, TimeoutError: Timeout: Unspecified, TimeoutError: Timeout: Unspecified, TimeoutError: Timeout: Unspecified, TimeoutError: Timeout: Unspecified, TimeoutError: Timeout: Unspecified, TimeoutError: Timeout: Unspecified, TimeoutError: Timeout: Unspecified, TimeoutError: Timeout: Unspecified, TimeoutError: Timeout: Unspecified, TimeoutError: Timeout: Unspecified, TimeoutError: Timeout: Unspecified, TimeoutError: Timeout: Unspecified, TimeoutError: Timeout: Unspecified, TimeoutError: Timeout: Unspecified, TimeoutError: Timeout: Unspecified, TimeoutError: Timeout: Unspecified, TimeoutError: Timeout: Unspecified, TimeoutError: Timeout: Unspecified, TimeoutError: Timeout: Unspecified, TimeoutError: Timeout: Unspecified, TimeoutError: Timeout: Unspecified, TimeoutError: Timeout: Unspecified, TimeoutError: Timeout: Unspecified, TimeoutError: Timeout: Unspecified, TimeoutError: Timeout: Unspecified, TimeoutError: Timeout: Unspecified, TimeoutError: Timeout: Unspecified, TimeoutError: Timeout: Unspecified, TimeoutError: Timeout: Unspecified, TimeoutError: Timeout: Unspecified, TimeoutError: Timeout: Unspecified, TimeoutError: Timeout: Unspecified, TimeoutError: Timeout: Unspecified, TimeoutError: Timeout: Unspecified, TimeoutError: Timeout: Unspecified, TimeoutError: Timeout: Unspecified, TimeoutError: Timeout: Unspecified, TimeoutError: Timeout: Unspecified, TimeoutError: Timeout: Unspecified, TimeoutError: Timeout: Unspecified, TimeoutError: Timeout: Unspecified, TimeoutError: Timeout: Unspecified, TimeoutError: Timeout: Unspecified, TimeoutError: Timeout: Unspecified, TimeoutError: Timeout: Unspecified, TimeoutError: Timeout: Unspecified, TimeoutError: Timeout: Unspecified\n"
     ]
    },
    {
     "name": "stdout",
     "output_type": "stream",
     "text": [
      "15 tweets adicionados.\n",
      "Nome da Trend:  #GoldBlooded\n",
      "Adicionando trend...\n"
     ]
    },
    {
     "name": "stderr",
     "output_type": "stream",
     "text": [
      "Skipping unrecognised entry ID: 'promoted-tweet-1652218940079128576-8372a976905f8ab'\n"
     ]
    },
    {
     "name": "stdout",
     "output_type": "stream",
     "text": [
      "15 tweets adicionados.\n",
      "Nome da Trend:  Bro AD\n",
      "Nome da Trend:  Babyface\n",
      "Nome da Trend:  Hope AD\n",
      "Nome da Trend:  Hopefully AD\n",
      "Nome da Trend:  Bron and AD\n",
      "Nome da Trend:  #Survivor44\n",
      "Nome da Trend:  #ChicagoPD\n",
      "Nome da Trend:  #AdamKutnerPowerPlay\n",
      "Nome da Trend:  Paul Pierce\n",
      "Nome da Trend:  Ratings\n",
      "Nome da Trend:  Corgi\n",
      "Nome da Trend:  Chris Haynes\n",
      "Nome da Trend:  Steve Kerr\n",
      "Nome da Trend:  Concussion\n",
      "Adicionando trend...\n",
      "15 tweets adicionados.\n",
      "Nome da Trend:  Dave Chappelle\n",
      "Nome da Trend:  Babyface\n",
      "Nome da Trend:  #BoycottCNN\n",
      "Nome da Trend:  #Wordle691\n",
      "Adicionando trend...\n"
     ]
    },
    {
     "name": "stderr",
     "output_type": "stream",
     "text": [
      "Twitter responded with an error: TimeoutError: Timeout: Unspecified, TimeoutError: Timeout: Unspecified, TimeoutError: Timeout: Unspecified, TimeoutError: Timeout: Unspecified, TimeoutError: Timeout: Unspecified, TimeoutError: Timeout: Unspecified, TimeoutError: Timeout: Unspecified, TimeoutError: Timeout: Unspecified, TimeoutError: Timeout: Unspecified, TimeoutError: Timeout: Unspecified, TimeoutError: Timeout: Unspecified, TimeoutError: Timeout: Unspecified, TimeoutError: Timeout: Unspecified, TimeoutError: Timeout: Unspecified, TimeoutError: Timeout: Unspecified, TimeoutError: Timeout: Unspecified, TimeoutError: Timeout: Unspecified, TimeoutError: Timeout: Unspecified, TimeoutError: Timeout: Unspecified, TimeoutError: Timeout: Unspecified, TimeoutError: Timeout: Unspecified, TimeoutError: Timeout: Unspecified, TimeoutError: Timeout: Unspecified, TimeoutError: Timeout: Unspecified, TimeoutError: Timeout: Unspecified, TimeoutError: Timeout: Unspecified, TimeoutError: Timeout: Unspecified, TimeoutError: Timeout: Unspecified, TimeoutError: Timeout: Unspecified, TimeoutError: Timeout: Unspecified, TimeoutError: Timeout: Unspecified, TimeoutError: Timeout: Unspecified, TimeoutError: Timeout: Unspecified, TimeoutError: Timeout: Unspecified, TimeoutError: Timeout: Unspecified, TimeoutError: Timeout: Unspecified, TimeoutError: Timeout: Unspecified, TimeoutError: Timeout: Unspecified, TimeoutError: Timeout: Unspecified, TimeoutError: Timeout: Unspecified, TimeoutError: Timeout: Unspecified, TimeoutError: Timeout: Unspecified, TimeoutError: Timeout: Unspecified, TimeoutError: Timeout: Unspecified, TimeoutError: Timeout: Unspecified, TimeoutError: Timeout: Unspecified, TimeoutError: Timeout: Unspecified, TimeoutError: Timeout: Unspecified, TimeoutError: Timeout: Unspecified, TimeoutError: Timeout: Unspecified, TimeoutError: Timeout: Unspecified, TimeoutError: Timeout: Unspecified\n",
      "Skipping unrecognised entry ID: 'promoted-tweet-1636654831937941504-8376123872bd8a6'\n"
     ]
    },
    {
     "name": "stdout",
     "output_type": "stream",
     "text": [
      "15 tweets adicionados.\n",
      "Nome da Trend:  Bro AD\n",
      "Nome da Trend:  Chuck and Shaq\n",
      "Adicionando trend...\n",
      "15 tweets adicionados.\n",
      "Nome da Trend:  #ChicagoPD\n",
      "Nome da Trend:  Darnell Nurse\n",
      "Adicionando trend...\n",
      "15 tweets adicionados.\n",
      "Nome da Trend:  Chris Haynes\n",
      "Nome da Trend:  Hope AD\n",
      "Nome da Trend:  400 Degreez\n",
      "Nome da Trend:  Hopefully AD\n",
      "Nome da Trend:  #DoneWithCNN\n",
      "Nome da Trend:  #LakersVsWarriors\n",
      "Nome da Trend:  Chase Center\n",
      "Adicionando trend...\n"
     ]
    },
    {
     "name": "stderr",
     "output_type": "stream",
     "text": [
      "Skipping unrecognised entry ID: 'promoted-tweet-1656395369897422848-83778da6737fd42'\n",
      "Skipping unrecognised entry ID: 'promoted-tweet-1643889607459610624-837b0f395c674da'\n",
      "Skipping unrecognised entry ID: 'promoted-tweet-1648031558253572110-8378d8ea9169ed4'\n"
     ]
    },
    {
     "name": "stdout",
     "output_type": "stream",
     "text": [
      "15 tweets adicionados.\n",
      "Nome da Trend:  Elbow\n",
      "Adicionando trend...\n"
     ]
    },
    {
     "name": "stderr",
     "output_type": "stream",
     "text": [
      "Skipping unrecognised entry ID: 'promoted-tweet-1652249649950982144-837ca7eb62ed272'\n"
     ]
    },
    {
     "name": "stdout",
     "output_type": "stream",
     "text": [
      "15 tweets adicionados.\n",
      "Nome da Trend:  Corgi\n",
      "Nome da Trend:  Steve Kerr\n",
      "Nome da Trend:  Paul Pierce\n",
      "Nome da Trend:  Concussion\n",
      "Nome da Trend:  #Pakistan\n",
      "Adicionando trend...\n",
      "15 tweets adicionados.\n",
      "Nome da Trend:  Katie\n",
      "Adicionando trend...\n",
      "15 tweets adicionados.\n",
      "Nome da Trend:  #C9WIN\n",
      "Adicionando trend...\n"
     ]
    },
    {
     "name": "stderr",
     "output_type": "stream",
     "text": [
      "Skipping unrecognised entry ID: 'promoted-tweet-1652218940079128576-837a952639b15d7'\n"
     ]
    },
    {
     "name": "stdout",
     "output_type": "stream",
     "text": [
      "15 tweets adicionados.\n",
      "Nome da Trend:  Joran van der Sloot\n",
      "Adicionando trend...\n"
     ]
    },
    {
     "name": "stderr",
     "output_type": "stream",
     "text": [
      "Unavailable user in card on tweet 1657026829775953922\n",
      "User 14204245 not found in user refs in card on tweet 1657026829775953922\n",
      "Skipping unrecognised entry ID: 'promoted-tweet-1582240699516596224-83758605da8bc78'\n",
      "Skipping unrecognised entry ID: 'promoted-tweet-1636654831937941504-83725e440dcaa60'\n"
     ]
    },
    {
     "name": "stdout",
     "output_type": "stream",
     "text": [
      "15 tweets adicionados.\n",
      "Nome da Trend:  Thirsty Thursday\n",
      "Adicionando trend...\n"
     ]
    },
    {
     "name": "stderr",
     "output_type": "stream",
     "text": [
      "Skipping unrecognised entry ID: 'promoted-tweet-1646557384595079179-8378ef8e9a3cb16'\n",
      "Skipping unrecognised entry ID: 'promoted-tweet-1652218940079128576-837747c3a612ef7'\n"
     ]
    },
    {
     "name": "stdout",
     "output_type": "stream",
     "text": [
      "15 tweets adicionados.\n",
      "Nome da Trend:  New Hampshire\n",
      "Nome da Trend:  Daily Caller\n",
      "Nome da Trend:  #DCTitans\n",
      "Adicionando trend...\n",
      "15 tweets adicionados.\n",
      "Nome da Trend:  Mortal Kombat 1\n",
      "Adicionando trend...\n",
      "15 tweets adicionados.\n",
      "Nome da Trend:  Tears of the Kingdom\n",
      "Adicionando trend...\n",
      "15 tweets adicionados.\n",
      "Nome da Trend:  Game 6\n",
      "Nome da Trend:  Chiefs\n",
      "Adicionando trend...\n",
      "15 tweets adicionados.\n",
      "Nome da Trend:  Natalee Holloway\n",
      "Adicionando trend...\n"
     ]
    },
    {
     "name": "stderr",
     "output_type": "stream",
     "text": [
      "Unavailable user in card on tweet 1657026829775953922\n",
      "User 14204245 not found in user refs in card on tweet 1657026829775953922\n"
     ]
    },
    {
     "name": "stdout",
     "output_type": "stream",
     "text": [
      "15 tweets adicionados.\n",
      "Nome da Trend:  Storm Shadow\n",
      "Adicionando trend...\n",
      "15 tweets adicionados.\n",
      "Nome da Trend:  #ThursdayThoughts\n",
      "Adicionando trend...\n"
     ]
    },
    {
     "name": "stderr",
     "output_type": "stream",
     "text": [
      "Skipping unrecognised entry ID: 'promoted-tweet-1646557384595079179-837b5c0708317e7'\n"
     ]
    },
    {
     "name": "stdout",
     "output_type": "stream",
     "text": [
      "15 tweets adicionados.\n",
      "Nome da Trend:  Anita\n",
      "Adicionando trend...\n",
      "15 tweets adicionados.\n",
      "Nome da Trend:  Ted Turner\n",
      "Adicionando trend...\n",
      "15 tweets adicionados.\n",
      "Nome da Trend:  #thursdaymorning\n",
      "Adicionando trend...\n",
      "15 tweets adicionados.\n",
      "Nome da Trend:  Lincoln Project\n",
      "Adicionando trend...\n",
      "15 tweets adicionados.\n",
      "Nome da Trend:  Rick Wilson\n",
      "Nome da Trend:  #عمران_خان_کو_رہا_کرو\n",
      "Adicionando trend...\n"
     ]
    },
    {
     "name": "stderr",
     "output_type": "stream",
     "text": [
      "Skipping unrecognised entry ID: 'promoted-tweet-1636654831937941504-837e6a295d49409'\n",
      "Skipping unrecognised entry ID: 'promoted-tweet-1479958596033019906-837f77e3dc52bf1'\n"
     ]
    },
    {
     "name": "stdout",
     "output_type": "stream",
     "text": [
      "15 tweets adicionados.\n",
      "Nome da Trend:  Katie\n",
      "Nome da Trend:  #Pakistan\n",
      "Nome da Trend:  #C9WIN\n",
      "Nome da Trend:  #ThursdayThoughts\n",
      "Nome da Trend:  Mortal Kombat 1\n",
      "Nome da Trend:  hanbin\n",
      "Adicionando trend...\n"
     ]
    },
    {
     "name": "stderr",
     "output_type": "stream",
     "text": [
      "Skipping unrecognised entry ID: 'promoted-tweet-1654657407203659779-837ee13856fcff7'\n"
     ]
    },
    {
     "name": "stdout",
     "output_type": "stream",
     "text": [
      "15 tweets adicionados.\n",
      "Nome da Trend:  Joran van der Sloot\n",
      "Nome da Trend:  Trump and CNN\n",
      "Adicionando trend...\n",
      "15 tweets adicionados.\n",
      "Nome da Trend:  Lambeau\n",
      "Adicionando trend...\n"
     ]
    },
    {
     "name": "stderr",
     "output_type": "stream",
     "text": [
      "Skipping unrecognised entry ID: 'promoted-tweet-1650033720944893952-8373f71cab90c76'\n"
     ]
    },
    {
     "name": "stdout",
     "output_type": "stream",
     "text": [
      "15 tweets adicionados.\n",
      "Nome da Trend:  Storm Shadow\n",
      "Nome da Trend:  Cyberpunk\n",
      "Adicionando trend...\n",
      "15 tweets adicionados.\n",
      "Nome da Trend:  game 6\n",
      "Adicionando trend...\n"
     ]
    },
    {
     "name": "stderr",
     "output_type": "stream",
     "text": [
      "Skipping unrecognised entry ID: 'promoted-tweet-1064887793430740992-837fde21a988e1a'\n"
     ]
    },
    {
     "name": "stdout",
     "output_type": "stream",
     "text": [
      "15 tweets adicionados.\n",
      "Nome da Trend:  Thirsty Thursday\n",
      "Nome da Trend:  Morning Joe\n",
      "Adicionando trend...\n",
      "15 tweets adicionados.\n",
      "Nome da Trend:  #DCTitans\n",
      "Nome da Trend:  Pickles\n",
      "Adicionando trend...\n",
      "15 tweets adicionados.\n",
      "Nome da Trend:  400 Degreez\n",
      "Nome da Trend:  #thursdaymorning\n",
      "Nome da Trend:  Daily Caller\n",
      "Nome da Trend:  #عمران_خان_کو_رہا_کرو\n",
      "Nome da Trend:  Ya Allah\n",
      "Adicionando trend...\n",
      "15 tweets adicionados.\n",
      "Nome da Trend:  House of Representatives\n",
      "Adicionando trend...\n",
      "15 tweets adicionados.\n",
      "Nome da Trend:  Babyface\n",
      "Nome da Trend:  Game of the Year\n",
      "Adicionando trend...\n"
     ]
    },
    {
     "name": "stderr",
     "output_type": "stream",
     "text": [
      "Skipping unrecognised entry ID: 'promoted-tweet-1486545047613026310-837b92499be8208'\n"
     ]
    },
    {
     "name": "stdout",
     "output_type": "stream",
     "text": [
      "15 tweets adicionados.\n",
      "Nome da Trend:  GOTY\n",
      "Adicionando trend...\n",
      "15 tweets adicionados.\n",
      "Nome da Trend:  #C9WIN\n",
      "Nome da Trend:  Thirsty Thursday\n",
      "Nome da Trend:  Bongino\n",
      "Adicionando trend...\n",
      "15 tweets adicionados.\n",
      "Nome da Trend:  New Hampshire\n",
      "Nome da Trend:  Pickles\n",
      "Nome da Trend:  Katie\n",
      "Nome da Trend:  Flyers\n",
      "Nome da Trend:  #DCTitans\n",
      "Nome da Trend:  Game 6\n",
      "Nome da Trend:  #ThursdayThoughts\n",
      "Nome da Trend:  ted turner\n",
      "Adicionando trend...\n",
      "15 tweets adicionados.\n",
      "Nome da Trend:  #MSI2023\n",
      "Adicionando trend...\n"
     ]
    },
    {
     "name": "stderr",
     "output_type": "stream",
     "text": [
      "Skipping unrecognised entry ID: 'promoted-tweet-1636654831937941504-837329bdbf88830'\n"
     ]
    },
    {
     "name": "stdout",
     "output_type": "stream",
     "text": [
      "15 tweets adicionados.\n",
      "Nome da Trend:  Daily Caller\n",
      "Nome da Trend:  Morning Joe\n",
      "Nome da Trend:  ISPR\n",
      "Adicionando trend...\n",
      "15 tweets adicionados.\n",
      "Nome da Trend:  Babyface\n",
      "Nome da Trend:  #BABYMONSTER\n",
      "Adicionando trend...\n",
      "15 tweets adicionados.\n",
      "Nome da Trend:  #MSI2023\n",
      "Nome da Trend:  #BehindeYouskipper\n",
      "Adicionando trend...\n"
     ]
    },
    {
     "name": "stderr",
     "output_type": "stream",
     "text": [
      "Skipping unrecognised entry ID: 'promoted-tweet-1636654831937941504-837285a73b0e9ea'\n"
     ]
    },
    {
     "name": "stdout",
     "output_type": "stream",
     "text": [
      "15 tweets adicionados.\n",
      "Nome da Trend:  Shireen Abu Akleh\n",
      "Adicionando trend...\n",
      "15 tweets adicionados.\n",
      "Nome da Trend:  Stephen King\n",
      "Adicionando trend...\n"
     ]
    },
    {
     "name": "stderr",
     "output_type": "stream",
     "text": [
      "Skipping unrecognised entry ID: 'promoted-tweet-1643699317041946634-8370ed762097059'\n"
     ]
    },
    {
     "name": "stdout",
     "output_type": "stream",
     "text": [
      "15 tweets adicionados.\n",
      "Nome da Trend:  #ThursdayThoughts\n",
      "Nome da Trend:  Anita\n",
      "Nome da Trend:  #DCTitans\n",
      "Nome da Trend:  Jared Goff\n",
      "Adicionando trend...\n",
      "15 tweets adicionados.\n",
      "Nome da Trend:  #NFLSchedule2023\n",
      "Adicionando trend...\n"
     ]
    },
    {
     "name": "stderr",
     "output_type": "stream",
     "text": [
      "Twitter responded with an error: TimeoutError: Timeout: Unspecified, TimeoutError: Timeout: Unspecified, TimeoutError: Timeout: Unspecified, TimeoutError: Timeout: Unspecified, TimeoutError: Timeout: Unspecified, TimeoutError: Timeout: Unspecified, TimeoutError: Timeout: Unspecified, TimeoutError: Timeout: Unspecified, TimeoutError: Timeout: Unspecified, TimeoutError: Timeout: Unspecified, TimeoutError: Timeout: Unspecified, TimeoutError: Timeout: Unspecified, TimeoutError: Timeout: Unspecified, TimeoutError: Timeout: Unspecified, TimeoutError: Timeout: Unspecified, TimeoutError: Timeout: Unspecified, TimeoutError: Timeout: Unspecified, TimeoutError: Timeout: Unspecified, TimeoutError: Timeout: Unspecified, TimeoutError: Timeout: Unspecified, TimeoutError: Timeout: Unspecified, TimeoutError: Timeout: Unspecified, TimeoutError: Timeout: Unspecified, TimeoutError: Timeout: Unspecified, TimeoutError: Timeout: Unspecified, TimeoutError: Timeout: Unspecified, TimeoutError: Timeout: Unspecified, TimeoutError: Timeout: Unspecified, TimeoutError: Timeout: Unspecified, TimeoutError: Timeout: Unspecified, TimeoutError: Timeout: Unspecified, TimeoutError: Timeout: Unspecified, TimeoutError: Timeout: Unspecified, TimeoutError: Timeout: Unspecified, TimeoutError: Timeout: Unspecified, TimeoutError: Timeout: Unspecified, TimeoutError: Timeout: Unspecified, TimeoutError: Timeout: Unspecified, TimeoutError: Timeout: Unspecified, TimeoutError: Timeout: Unspecified, TimeoutError: Timeout: Unspecified, TimeoutError: Timeout: Unspecified, TimeoutError: Timeout: Unspecified, TimeoutError: Timeout: Unspecified, TimeoutError: Timeout: Unspecified, TimeoutError: Timeout: Unspecified, TimeoutError: Timeout: Unspecified, TimeoutError: Timeout: Unspecified, TimeoutError: Timeout: Unspecified, TimeoutError: Timeout: Unspecified\n",
      "Skipping unrecognised entry ID: 'promoted-tweet-1636654831937941504-83767898adfbe3f'\n"
     ]
    },
    {
     "name": "stdout",
     "output_type": "stream",
     "text": [
      "15 tweets adicionados.\n",
      "Nome da Trend:  Mortal Kombat 1\n",
      "Nome da Trend:  400 Degreez\n",
      "Nome da Trend:  Game 6\n",
      "Nome da Trend:  Morning Joe\n",
      "Nome da Trend:  Pickles\n",
      "Nome da Trend:  Dimon\n",
      "Adicionando trend...\n",
      "15 tweets adicionados.\n",
      "Nome da Trend:  #C9WIN\n",
      "Nome da Trend:  Game Informer\n",
      "Adicionando trend...\n"
     ]
    },
    {
     "name": "stderr",
     "output_type": "stream",
     "text": [
      "Skipping unrecognised entry ID: 'promoted-tweet-1652218940079128576-837eebfd418f0ed'\n",
      "Skipping unrecognised entry ID: 'promoted-tweet-1655772950388146176-837a7e249bd754d'\n"
     ]
    },
    {
     "name": "stdout",
     "output_type": "stream",
     "text": [
      "15 tweets adicionados.\n",
      "Nome da Trend:  Stephen King\n",
      "Nome da Trend:  #SupremeCourtOfPakistan\n",
      "Adicionando trend...\n"
     ]
    },
    {
     "name": "stderr",
     "output_type": "stream",
     "text": [
      "Skipping unrecognised entry ID: 'promoted-tweet-1636654831937941504-8372705daa76e6f'\n"
     ]
    },
    {
     "name": "stdout",
     "output_type": "stream",
     "text": [
      "15 tweets adicionados.\n",
      "Nome da Trend:  Game of the Year\n",
      "Nome da Trend:  #C9WIN\n",
      "Nome da Trend:  Trump's CNN\n",
      "Adicionando trend...\n"
     ]
    },
    {
     "name": "stderr",
     "output_type": "stream",
     "text": [
      "Twitter responded with an error: TimeoutError: Timeout: Unspecified, TimeoutError: Timeout: Unspecified, TimeoutError: Timeout: Unspecified, TimeoutError: Timeout: Unspecified, TimeoutError: Timeout: Unspecified, TimeoutError: Timeout: Unspecified, TimeoutError: Timeout: Unspecified, TimeoutError: Timeout: Unspecified, TimeoutError: Timeout: Unspecified, TimeoutError: Timeout: Unspecified, TimeoutError: Timeout: Unspecified, TimeoutError: Timeout: Unspecified, TimeoutError: Timeout: Unspecified, TimeoutError: Timeout: Unspecified, TimeoutError: Timeout: Unspecified, TimeoutError: Timeout: Unspecified, TimeoutError: Timeout: Unspecified, TimeoutError: Timeout: Unspecified, TimeoutError: Timeout: Unspecified, TimeoutError: Timeout: Unspecified, TimeoutError: Timeout: Unspecified, TimeoutError: Timeout: Unspecified, TimeoutError: Timeout: Unspecified, TimeoutError: Timeout: Unspecified, TimeoutError: Timeout: Unspecified, TimeoutError: Timeout: Unspecified, TimeoutError: Timeout: Unspecified, TimeoutError: Timeout: Unspecified, TimeoutError: Timeout: Unspecified, TimeoutError: Timeout: Unspecified, TimeoutError: Timeout: Unspecified, TimeoutError: Timeout: Unspecified, TimeoutError: Timeout: Unspecified, TimeoutError: Timeout: Unspecified, TimeoutError: Timeout: Unspecified, TimeoutError: Timeout: Unspecified, TimeoutError: Timeout: Unspecified, TimeoutError: Timeout: Unspecified, TimeoutError: Timeout: Unspecified, TimeoutError: Timeout: Unspecified, TimeoutError: Timeout: Unspecified, TimeoutError: Timeout: Unspecified, TimeoutError: Timeout: Unspecified, TimeoutError: Timeout: Unspecified, TimeoutError: Timeout: Unspecified, TimeoutError: Timeout: Unspecified, TimeoutError: Timeout: Unspecified, TimeoutError: Timeout: Unspecified, TimeoutError: Timeout: Unspecified, TimeoutError: Timeout: Unspecified\n"
     ]
    },
    {
     "name": "stdout",
     "output_type": "stream",
     "text": [
      "15 tweets adicionados.\n",
      "Nome da Trend:  #ThursdayThoughts\n",
      "Nome da Trend:  Babyface\n",
      "Nome da Trend:  ROG Ally\n",
      "Adicionando trend...\n"
     ]
    },
    {
     "name": "stderr",
     "output_type": "stream",
     "text": [
      "Skipping unrecognised entry ID: 'promoted-tweet-1636654831937941504-8381f6eecd51554'\n"
     ]
    },
    {
     "name": "stdout",
     "output_type": "stream",
     "text": [
      "15 tweets adicionados.\n",
      "Nome da Trend:  Shireen Abu Akleh\n",
      "Nome da Trend:  Lions\n",
      "Adicionando trend...\n",
      "15 tweets adicionados.\n",
      "Nome da Trend:  New Hampshire\n",
      "Nome da Trend:  Queens of the Stone Age\n",
      "Adicionando trend...\n"
     ]
    },
    {
     "name": "stderr",
     "output_type": "stream",
     "text": [
      "Skipping unrecognised entry ID: 'promoted-tweet-1479182793775136772-838ac1bc86a0dee'\n"
     ]
    },
    {
     "name": "stdout",
     "output_type": "stream",
     "text": [
      "15 tweets adicionados.\n",
      "Nome da Trend:  Thirsty Thursday\n",
      "Nome da Trend:  Mugler\n",
      "Adicionando trend...\n",
      "15 tweets adicionados.\n",
      "Nome da Trend:  Game Informer\n",
      "Nome da Trend:  Jordan Love\n",
      "Adicionando trend...\n",
      "15 tweets adicionados.\n",
      "Nome da Trend:  Dimon\n",
      "Nome da Trend:  Pickles\n",
      "Nome da Trend:  Morning Joe\n",
      "Nome da Trend:  Anita\n"
     ]
    }
   ],
   "source": [
    "trends_existentes = []\n",
    "trend_text = {}\n",
    "limit = 15\n",
    "\n",
    "for item in trends_urls:\n",
    "    trend_name = re.search(\"Trend name: (.*)\", str(item)).group().replace(\"Trend name: \", '').rstrip()\n",
    "    tweets = []\n",
    "    print(\"Nome da Trend: \", trend_name)\n",
    "    if trend_name not in trends_existentes:\n",
    "        print(\"Adicionando trend...\")\n",
    "        trends_existentes.append(trend_name)\n",
    "        for tweet in sntwitter.TwitterSearchScraper(f'{trend_name} lang:en').get_items():\n",
    "            if len(tweets) == limit:\n",
    "                print(\"15 tweets adicionados.\")\n",
    "                break\n",
    "            else:\n",
    "                tweets.append([tweet.rawContent])\n",
    "                trend_text[trend_name] = tweets\n",
    "        "
   ]
  },
  {
   "cell_type": "code",
   "execution_count": 194,
   "metadata": {},
   "outputs": [
    {
     "data": {
      "text/plain": [
       "566"
      ]
     },
     "execution_count": 194,
     "metadata": {},
     "output_type": "execute_result"
    }
   ],
   "source": [
    "len(trend_text.keys())"
   ]
  },
  {
   "attachments": {},
   "cell_type": "markdown",
   "metadata": {},
   "source": [
    "### Saving"
   ]
  },
  {
   "cell_type": "code",
   "execution_count": null,
   "metadata": {},
   "outputs": [],
   "source": [
    "# with open('trends/processed_trends.txt', 'a') as file:\n",
    "#      file.write(json.dumps(trend_text))"
   ]
  }
 ],
 "metadata": {
  "kernelspec": {
   "display_name": "webscrap",
   "language": "python",
   "name": "python3"
  },
  "language_info": {
   "codemirror_mode": {
    "name": "ipython",
    "version": 3
   },
   "file_extension": ".py",
   "mimetype": "text/x-python",
   "name": "python",
   "nbconvert_exporter": "python",
   "pygments_lexer": "ipython3",
   "version": "3.10.11"
  },
  "orig_nbformat": 4
 },
 "nbformat": 4,
 "nbformat_minor": 2
}
