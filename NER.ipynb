{
 "cells": [
  {
   "cell_type": "code",
   "execution_count": 25,
   "metadata": {},
   "outputs": [],
   "source": [
    "from transformers import AutoTokenizer, AutoModelForTokenClassification\n",
    "from transformers import pipeline\n",
    "import json\n",
    "import pandas as pd\n",
    "import numpy as np"
   ]
  },
  {
   "cell_type": "code",
   "execution_count": 27,
   "metadata": {},
   "outputs": [],
   "source": [
    "trends = json.load(open(\"../trends-data/processed_trends.json\"))"
   ]
  },
  {
   "cell_type": "code",
   "execution_count": 13,
   "metadata": {},
   "outputs": [
    {
     "name": "stdout",
     "output_type": "stream",
     "text": [
      "[{'entity': 'B-PER', 'score': 0.9990139, 'index': 4, 'word': 'Wolfgang', 'start': 11, 'end': 19}, {'entity': 'B-LOC', 'score': 0.999645, 'index': 9, 'word': 'Berlin', 'start': 34, 'end': 40}]\n"
     ]
    }
   ],
   "source": [
    "tokenizer = AutoTokenizer.from_pretrained(\"dslim/bert-base-NER\")\n",
    "model = AutoModelForTokenClassification.from_pretrained(\"dslim/bert-base-NER\")\n",
    "\n",
    "nlp = pipeline(\"ner\", model=model, tokenizer=tokenizer)\n",
    "example = \"My name is Wolfgang and I live in Berlin\"\n",
    "\n",
    "ner_results = nlp(example)\n",
    "print(ner_results)"
   ]
  },
  {
   "cell_type": "code",
   "execution_count": 30,
   "metadata": {},
   "outputs": [
    {
     "data": {
      "text/plain": [
       "['Days until SpiderManAcrossTheSpiderVerse releases ',\n",
       " 'More explosive 2D FX I animated from the recent SpiderManAcrossTheSpiderVerse trailers Out very soon Spiderman2099 2DFX ',\n",
       " 'SonyPicturesUK So looking forward to this SpiderManAcrossTheSpiderVerse spiderverse',\n",
       " 'SpiderMan Across the SpiderVerse Trailer  SpidermanAcrossTheSpiderverse Spiderman Marvel Sony Trailer',\n",
       " 'When you have enough points to get the the Future Sense colllectors box for free Just pay shipping GFUEL SpiderMan SpiderManAcrossTheSpiderVerse GFuelEnergy GammaLabs ',\n",
       " 'SpiderManAcrossTheSpiderVerse will end on a great cliffhanger I was very satisfied after The Empire Strikes Back And hopefully This is our Empire Joaquim Dos Santos CoDirector ',\n",
       " 'deleted trailer shows new look at Ben Reilly aka the Scarlet Spider AcrossTheSpiderVerse SpiderManAcrossTheSpiderVerse SpiderVerse leak scarletspider benreilly itsv atsv intothespiderverse MilesMorales 3CFilmss SpiderLeaks ',\n",
       " 'PENI PARKER APPEAR IN ACROSS THE SPIDERVERSE but just not part in the Spider Society PeniParker PennyParker PenniParker  AcrossTheSpiderVerse SpiderMan SpiderManAcrossTheSpiderVerse SpiderVerse MilesMorales ',\n",
       " 'Hermione ISIS Spotify SpiderManAcrossTheSpiderVerse Danielle Disney Bad Bunny Harry Potter thicktrunktuesday Asians earlyrisersclub SuccessionHBO Thatcher Rodgers fyp BBCBreakfast  ',\n",
       " 'Hermione ISIS Spotify SpiderManAcrossTheSpiderVerse Danielle Disney Bad Bunny Harry Potter thicktrunktuesday Asians earlyrisersclub SuccessionHBO Thatcher Rodgers fyp BBCBreakfast  ',\n",
       " 'June is gonna be  Im gonna patiently wait for all the supposed comic book movie fatigue talk  SpiderManAcrossTheSpiderVerse Transformers TheFlash ',\n",
       " 'Hermione ISIS Spotify SpiderManAcrossTheSpiderVerse Danielle Disney Bad Bunny Harry Potter thicktrunktuesday Asians earlyrisersclub SuccessionHBO Thatcher Rodgers fyp BBCBreakfast  ',\n",
       " 'SpiderMan Across The SpiderVerse Inspired Graphics Card Bundle ZOTAC Gaming GeForce RTX AMP AIRO Amazon  ad SpiderManAcrossTheSpiderVerse SpiderMan ',\n",
       " 'Watch the final full trailer for SpiderManAcrossTheSpiderVerse  SpiderMan ',\n",
       " 'Hermione ISIS Spotify SpiderManAcrossTheSpiderVerse Danielle Disney Bad Bunny Harry Potter thicktrunktuesday Asians earlyrisersclub SuccessionHBO viral BBCBreakfast  TikTok ']"
      ]
     },
     "execution_count": 30,
     "metadata": {},
     "output_type": "execute_result"
    }
   ],
   "source": [
    "trends[list(trends.keys())[0]]"
   ]
  },
  {
   "cell_type": "code",
   "execution_count": 32,
   "metadata": {},
   "outputs": [],
   "source": [
    "treds_entities = []\n",
    "for trend in trends[list(trends.keys())[0]]:\n",
    "    entities = nlp(trend)\n",
    "    for ent in entities:\n",
    "        treds_entities.append({\"word\":ent[\"word\"], \"entity\":ent[\"entity\"]})"
   ]
  },
  {
   "cell_type": "code",
   "execution_count": 38,
   "metadata": {},
   "outputs": [
    {
     "data": {
      "text/plain": [
       "entity\n",
       "B-MISC                {Asian, Spider, Scarlet, Future, The}\n",
       "B-ORG     {##S, G, Miles, Z, AI, Spider, BBC, Sony, That...\n",
       "B-PER           {Ben, Harry, Danielle, ##mio, ##m, Jo, Her}\n",
       "I-MISC    {##man, Trail, ##er, Spider, Empire, ##P, Bunn...\n",
       "I-ORG     {##e, ##M, Gaming, ##ures, Amazon, ##ict, ##K,...\n",
       "I-PER     {##s, Bad, IS, Potter, Reilly, Disney, ##ui, D...\n",
       "Name: word, dtype: object"
      ]
     },
     "execution_count": 38,
     "metadata": {},
     "output_type": "execute_result"
    }
   ],
   "source": [
    "pd.DataFrame(treds_entities).groupby(\"entity\")[\"word\"].apply(set)"
   ]
  },
  {
   "cell_type": "code",
   "execution_count": null,
   "metadata": {},
   "outputs": [],
   "source": []
  }
 ],
 "metadata": {
  "kernelspec": {
   "display_name": "Python 3",
   "language": "python",
   "name": "python3"
  },
  "language_info": {
   "codemirror_mode": {
    "name": "ipython",
    "version": 3
   },
   "file_extension": ".py",
   "mimetype": "text/x-python",
   "name": "python",
   "nbconvert_exporter": "python",
   "pygments_lexer": "ipython3",
   "version": "3.11.2"
  },
  "orig_nbformat": 4
 },
 "nbformat": 4,
 "nbformat_minor": 2
}
