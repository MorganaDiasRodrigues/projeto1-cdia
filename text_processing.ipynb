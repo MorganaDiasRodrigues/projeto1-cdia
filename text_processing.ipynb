{
 "cells": [
  {
   "cell_type": "code",
   "execution_count": null,
   "metadata": {},
   "outputs": [],
   "source": [
    "import ast\n",
    "import pandas as pd\n",
    "import nltk\n",
    "from nltk.corpus import stopwords \n",
    "import string\n",
    "\n",
    "\n",
    "nltk.download('stopwords')"
   ]
  },
  {
   "cell_type": "code",
   "execution_count": null,
   "metadata": {},
   "outputs": [],
   "source": [
    "with open('trends/processed_trends.txt', 'r') as file:\n",
    "     arquivo = file.readline()\n",
    "\n",
    "arquivo"
   ]
  },
  {
   "cell_type": "code",
   "execution_count": null,
   "metadata": {},
   "outputs": [],
   "source": [
    "trends = ast.literal_eval(arquivo)\n",
    "trends"
   ]
  },
  {
   "cell_type": "code",
   "execution_count": null,
   "metadata": {},
   "outputs": [],
   "source": [
    "spider_man = trends['#SpiderManAcrossTheSpiderVerse']\n",
    "spider_man"
   ]
  },
  {
   "cell_type": "code",
   "execution_count": 25,
   "metadata": {},
   "outputs": [],
   "source": [
    "def pre_processamento_textual(texto):\n",
    "    nopont = [char for char in texto if char not in string.punctuation]\n",
    "    nopont = ''.join(nopont)\n",
    "    sms = [word for word in nopont.split() if not word.isnumeric()]\n",
    "    sms = [word for word in sms if word.lower() not in stopwords.words('portuguese')]\n",
    "    sms = ' '.join(sms)\n",
    "    return sms\n",
    "\n",
    "\n",
    "textos_processados = [pre_processamento_textual(texto) for texto in spider_man]"
   ]
  },
  {
   "cell_type": "code",
   "execution_count": 26,
   "metadata": {},
   "outputs": [
    {
     "data": {
      "text/plain": [
       "['Days until #SpiderManAcrossTheSpiderVerse releases https://t.co/NYc8hI9beg',\n",
       " 'More explosive 2D FX I animated from the recent #SpiderManAcrossTheSpiderVerse trailers! Out very soon\\ud83d\\udd77️\\ud83d\\udca5\\ud83d\\udd78️ #Spiderman2099 #2DFX https://t.co/X8BsP0FdVJ',\n",
       " '@SonyPicturesUK So looking forward to this. #SpiderManAcrossTheSpiderVerse #spiderverse',\n",
       " 'Spider-Man_ Across the Spider-Verse - Trailer #3 https://t.co/pN1dlXrdHa #SpidermanAcrossTheSpiderverse, #Spiderman, #Marvel, #Sony, #Trailer,',\n",
       " 'When you have enough points to get the the Future Sense colllectors box free! Just pay shipping. #GFUEL #SpiderMan #SpiderManAcrossTheSpiderVerse @GFuelEnergy @GammaLabs https://t.co/AdslsCaOmT',\n",
       " '\"#SpiderManAcrossTheSpiderVerse will end on great cliffhanger, I was very satisfied after The Empire Strikes Back, And hopefully, This is our Empire\" - Joaquim Santos (Co-Director) https://t.co/pYV4119UP5',\n",
       " 'deleted trailer shows new look at Ben Reilly aka the Scarlet Spider!! #AcrossTheSpiderVerse #SpiderManAcrossTheSpiderVerse #SpiderVerse #leak #scarletspider #benreilly #itsv #atsv #intothespiderverse #MilesMorales @3CFilmss @Spider_Leaks https://t.co/XSENlAv1Bc',\n",
       " 'PENI PARKER APPEAR IN ACROSS THE SPIDER-VERSE, but just not part in the Spider Society. #PeniParker #PennyParker #PenniParker #ペニーパーカー #AcrossTheSpiderVerse #SpiderMan #SpiderManAcrossTheSpiderVerse #SpiderVerse #MilesMorales https://t.co/B8VSaN8JC0',\n",
       " 'Hermione ISIS Spotify #SpiderManAcrossTheSpiderVerse Danielle Disney \"Bad Bunny\" \"Harry Potter\" #thicktrunktuesday Asians #earlyrisersclub #SuccessionHBO Thatcher Rodgers fyp #BBCBreakfast #เรื่องของจี้ https://t.co/z7YEhLXItZ',\n",
       " 'Hermione ISIS Spotify #SpiderManAcrossTheSpiderVerse Danielle Disney \"Bad Bunny\" \"Harry Potter\" #thicktrunktuesday Asians #earlyrisersclub #SuccessionHBO Thatcher Rodgers fyp #BBCBreakfast #เรื่องของจี้ https://t.co/qdVPwocZ5j',\n",
       " \"June is gonna be \\ud83d\\udd25. I'm gonna patiently wait all the supposed comic book movie fatigue talk. \\ud83d\\ude0f #SpiderManAcrossTheSpiderVerse #Transformers #TheFlash https://t.co/Yudr2nc8bD\",\n",
       " 'Hermione ISIS Spotify #SpiderManAcrossTheSpiderVerse Danielle Disney \"Bad Bunny\" \"Harry Potter\" #thicktrunktuesday Asians #earlyrisersclub #SuccessionHBO Thatcher Rodgers fyp #BBCBreakfast #เรื่องของจี้ https://t.co/l7mlJqUY9C',\n",
       " 'Spider-Man: Across The Spider-Verse Inspired Graphics Card Bundle ZOTAC Gaming GeForce RTX AMP AIRO Amazon $699.99 https://t.co/M0OgykiOGt #ad #SpiderManAcrossTheSpiderVerse #SpiderMan https://t.co/1gYqrinBRc',\n",
       " 'Watch the final full trailer #SpiderManAcrossTheSpiderVerse - https://t.co/CpASn8RjIU #SpiderMan https://t.co/xGKyH7P8QY',\n",
       " 'Hermione ISIS Spotify #SpiderManAcrossTheSpiderVerse Danielle Disney \"Bad Bunny\" \"Harry Potter\" #thicktrunktuesday Asians #earlyrisersclub #SuccessionHBO #viral #BBCBreakfast #เรื่องของจี้ #TikTok https://t.co/nZl4qidlZ9']"
      ]
     },
     "execution_count": 26,
     "metadata": {},
     "output_type": "execute_result"
    }
   ],
   "source": [
    "textos_processados"
   ]
  }
 ],
 "metadata": {
  "kernelspec": {
   "display_name": "ml",
   "language": "python",
   "name": "python3"
  },
  "language_info": {
   "codemirror_mode": {
    "name": "ipython",
    "version": 3
   },
   "file_extension": ".py",
   "mimetype": "text/x-python",
   "name": "python",
   "nbconvert_exporter": "python",
   "pygments_lexer": "ipython3",
   "version": "3.10.10"
  },
  "orig_nbformat": 4
 },
 "nbformat": 4,
 "nbformat_minor": 2
}
